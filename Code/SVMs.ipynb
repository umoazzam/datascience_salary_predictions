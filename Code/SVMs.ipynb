{
 "cells": [
  {
   "cell_type": "markdown",
   "metadata": {
    "id": "ZSiGk0UkTelm"
   },
   "source": [
    "## SVM"
   ]
  },
  {
   "cell_type": "code",
   "execution_count": 1,
   "metadata": {
    "tags": []
   },
   "outputs": [],
   "source": [
    "import numpy as np\n",
    "import pandas as pd\n",
    "from sklearn.model_selection import train_test_split\n",
    "from sklearn.svm import SVC\n",
    "from sklearn.preprocessing import LabelEncoder\n",
    "from sklearn.metrics import classification_report, roc_auc_score"
   ]
  },
  {
   "cell_type": "code",
   "execution_count": 2,
   "metadata": {},
   "outputs": [],
   "source": [
    "salary_data_as_num = pd.read_csv('salary_data_as_num.csv')\n",
    "salary_data_as_num = salary_data_as_num.drop(columns=['Unnamed: 0'])\n",
    "data_clean = salary_data_as_num.dropna(subset=['q24'])\n",
    "X = data_clean.drop(['q24'], axis=1)\n",
    "y = data_clean['q24']\n",
    "\n",
    "X_train, X_test, y_train, y_test = train_test_split(X, y, test_size=0.2, random_state=42)"
   ]
  },
  {
   "cell_type": "code",
   "execution_count": 3,
   "metadata": {
    "tags": []
   },
   "outputs": [],
   "source": [
    "#svm_model = SVC(random_state=42, probability=True)\n",
    "\n",
    "# Define the parameter grid to search\n",
    "# param_grid = {\n",
    "#     'C': [0.1, 1, 10, 100],\n",
    "#     'gamma': [1, 0.1, 0.01, 0.001],\n",
    "#     'kernel': ['rbf']\n",
    "# }\n",
    "\n",
    "# grid_search = GridSearchCV(svm_model, param_grid, refit=True, verbose=2, cv=3)\n",
    "# grid_search.fit(X_train, y_train)\n",
    "\n",
    "# # Best parameter after tuning\n",
    "# print(\"Best parameters found: \", grid_search.best_params_)\n",
    "# print(\"Best score: \", grid_search.best_score_)\n",
    "\n",
    "# best_grid_model = grid_search.best_estimator_"
   ]
  },
  {
   "cell_type": "code",
   "execution_count": 4,
   "metadata": {
    "tags": []
   },
   "outputs": [],
   "source": [
    "def bin_salary_categories(y):\n",
    "    def bin_category(c):\n",
    "        if c in ['$0-999', '1,000-1,999', '2,000-2,999', '3,000-3,999', '4,000-4,999', \n",
    "                 '5,000-7,499', '7,500-9,999']:\n",
    "            return \"0-9,999\"\n",
    "        elif c in ['10,000-14,999', '15,000-19,999', '20,000-24,999', '25,000-29,999', \n",
    "                   '30,000-39,999', '40,000-49,999', '50,000-59,999', '60,000-69,999', \n",
    "                   '70,000-79,999', '80,000-89,999', '90,000-99,999']:\n",
    "            return \"10,000-99,999\"\n",
    "        elif c in ['100,000-124,999', '125,000-149,999', '150,000-199,999', '200,000-249,999', \n",
    "                   '250,000-299,999', '300,000-500,000']:\n",
    "            return \"100,000-500,000\"\n",
    "        else:\n",
    "            return \"> $500,000\"\n",
    "    \n",
    "    return np.array([bin_category(c) for c in y])\n",
    "\n",
    "y_train_binned = bin_salary_categories(y_train)\n",
    "y_test_binned = bin_salary_categories(y_test)\n",
    "\n",
    "original_encoder = LabelEncoder()\n",
    "binned_encoder = LabelEncoder()\n",
    "y_train_encoded = original_encoder.fit_transform(y_train)\n",
    "y_train_binned_encoded = binned_encoder.fit_transform(y_train_binned)\n",
    "\n",
    "original_model = SVC(random_state=42, probability=True, C=1, gamma=0.01, kernel='rbf')\n",
    "original_model.fit(X_train, y_train_encoded)\n",
    "\n",
    "binned_model = SVC(random_state=42, probability=True, C=1, gamma=0.01, kernel='rbf')\n",
    "binned_model.fit(X_train, y_train_binned_encoded)\n",
    "\n",
    "def evaluate_model(original_model, binned_model, X_test, y_test, y_test_binned, original_encoder, binned_encoder):\n",
    "    # Evaluation without bin\n",
    "    y_test_encoded = original_encoder.transform(y_test)\n",
    "    y_pred = original_model.predict(X_test)\n",
    "    # print(\"Evaluation without bin:\")\n",
    "    # print(classification_report(y_test_encoded, y_pred))\n",
    "\n",
    "    y_prob = original_model.predict_proba(X_test)\n",
    "    auc_scores = [roc_auc_score((y_test_encoded == i).astype(int), y_prob[:, i]) for i in range(y_prob.shape[1])]\n",
    "    average_auc = np.mean(auc_scores)\n",
    "    print(\"ROC-AUC score without bin: \", average_auc)\n",
    "\n",
    "    # Evaluation with bin\n",
    "    y_test_binned_encoded = binned_encoder.transform(y_test_binned)\n",
    "    y_pred_binned_encoded = binned_model.predict(X_test)\n",
    "    y_pred_binned = binned_encoder.inverse_transform(y_pred_binned_encoded)\n",
    "    #print(\"\\nEvaluation with bin:\")\n",
    "    #print(classification_report(y_test_binned_encoded, y_pred_binned_encoded))\n",
    "\n",
    "    y_prob_binned = binned_model.predict_proba(X_test)\n",
    "    auc_scores_binned = [roc_auc_score((y_test_binned_encoded == i).astype(int), y_prob_binned[:, i]) for i in range(y_prob_binned.shape[1])]\n",
    "    average_auc_binned = np.mean(auc_scores_binned)\n",
    "    print(\"ROC-AUC score with bin: \", average_auc_binned)"
   ]
  },
  {
   "cell_type": "code",
   "execution_count": 5,
   "metadata": {
    "tags": []
   },
   "outputs": [
    {
     "name": "stdout",
     "output_type": "stream",
     "text": [
      "ROC-AUC score without bin:  0.7381606018189144\n",
      "ROC-AUC score with bin:  0.7699812606662338\n"
     ]
    }
   ],
   "source": [
    "evaluate_model(original_model, binned_model, X_test, y_test, y_test_binned, original_encoder, binned_encoder)"
   ]
  }
 ],
 "metadata": {
  "colab": {
   "provenance": []
  },
  "kernelspec": {
   "display_name": "Python 3 (ipykernel)",
   "language": "python",
   "name": "python3"
  },
  "language_info": {
   "codemirror_mode": {
    "name": "ipython",
    "version": 3
   },
   "file_extension": ".py",
   "mimetype": "text/x-python",
   "name": "python",
   "nbconvert_exporter": "python",
   "pygments_lexer": "ipython3",
   "version": "3.11.5"
  }
 },
 "nbformat": 4,
 "nbformat_minor": 4
}

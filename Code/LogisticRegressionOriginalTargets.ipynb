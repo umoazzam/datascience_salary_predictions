{
 "cells": [
  {
   "cell_type": "code",
   "execution_count": 1,
   "metadata": {},
   "outputs": [],
   "source": [
    "import numpy as np\n",
    "import pandas as pd\n",
    "import seaborn as sns\n",
    "import matplotlib.pyplot as plt\n",
    "import random\n",
    "import math"
   ]
  },
  {
   "cell_type": "markdown",
   "metadata": {},
   "source": [
    "### IMPORTING PREPROCESSED DATA"
   ]
  },
  {
   "cell_type": "code",
   "execution_count": 2,
   "metadata": {},
   "outputs": [],
   "source": [
    "%run Selected_Questions_Combined.ipynb\n",
    "dataframes = preprocessed_data()\n",
    "salary_data = dataframes[\"all_questions_dataframe\"]\n",
    "salary_data_as_num = dataframes[\"selected_numeric_questions\"]\n",
    "salary_data_selected_questions = dataframes[\"selected_questions_dataframe\"]"
   ]
  },
  {
   "cell_type": "markdown",
   "metadata": {},
   "source": [
    "# Logistic Regression"
   ]
  },
  {
   "cell_type": "code",
   "execution_count": 3,
   "metadata": {},
   "outputs": [
    {
     "name": "stdout",
     "output_type": "stream",
     "text": [
      "Baseline Model:\n",
      "Baseline score:  0.5349344978165939\n",
      "Number of iterations:  [3162]\n",
      "AUC score:  0.8161497655753551\n",
      "Best model:\n",
      "Best model accuracy:  0.535870243293824\n",
      "AUC score:  0.8284838050347924\n"
     ]
    }
   ],
   "source": [
    "from sklearn.calibration import LabelEncoder\n",
    "from sklearn.linear_model import LogisticRegression\n",
    "from sklearn.model_selection import GridSearchCV, train_test_split\n",
    "from sklearn.metrics import accuracy_score, roc_auc_score\n",
    "from sklearn.metrics import make_scorer\n",
    "\n",
    "# target variable encoding\n",
    "y = LabelEncoder().fit_transform(salary_data[\"q24\"])\n",
    "\n",
    "# dataset splitting\n",
    "x_dev, x_test, y_dev, y_test = train_test_split(salary_data_as_num, y, test_size = 0.2, random_state = 42)\n",
    "x_train, x_val, y_train, y_val = train_test_split(x_dev, y_dev, test_size = 0.2, random_state = 42)\n",
    "\n",
    "# baseline model\n",
    "baseline = LogisticRegression(multi_class='auto', random_state = 42, max_iter=10000)\n",
    "baseline.fit(x_train, y_train)\n",
    "y_pred = baseline.predict_proba(x_val)\n",
    "print(\"Baseline Model:\")\n",
    "print(\"Baseline score: \", accuracy_score(y_val, baseline.predict(x_val)))\n",
    "print(\"Number of iterations: \", baseline.n_iter_)\n",
    "print(\"AUC score: \", roc_auc_score(y_val, y_pred, multi_class='ovr'))\n",
    "\n",
    "# tuning for solver, penalty, and regularization strength\n",
    "\n",
    "## parameters\n",
    "# param_grid = dict(solver = ['newton-cg', 'lbfgs', 'sag'],\n",
    "#                   penalty = [\"l2\"], \n",
    "#                   C = [100, 10, 1.0, 0.1, 0.01],\n",
    "#                   max_iter = [10000])\n",
    "\n",
    "## tuning\n",
    "# grid = GridSearchCV(estimator = baseline, param_grid = param_grid, cv = 5, verbose=2)\n",
    "# grid_result = grid.fit(x_train, y_train)\n",
    "# print(\"Hyperparameter tuning for solver, penalty, and regularization strength:\")\n",
    "# print(\"Best: %f using %s\" % (grid_result.best_score_, grid_result.best_params_))\n",
    "\n",
    "# Best: 0.229100 using {'C': 0.01, 'max_iter': 10000, 'penalty': 'l2', 'solver': 'newton-cg'}\n",
    "# Best model:\n",
    "# Best model accuracy:  0.2079207920792079\n",
    "# AUC score:  0.7034885198279999\n",
    "\n",
    "# testing the best model\n",
    "best_model = LogisticRegression(multi_class='auto', random_state = 42, max_iter=10000, C = 0.01, penalty = \"l2\", solver = \"newton-cg\")\n",
    "best_model.fit(x_train, y_train)\n",
    "y_pred = best_model.predict_proba(x_val)\n",
    "lr_roc = roc_auc_score(y_val, y_pred, multi_class='ovr')\n",
    "print(\"Best model:\")\n",
    "print(\"Best model accuracy: \", accuracy_score(y_val, best_model.predict(x_val)))\n",
    "print(\"AUC score: \", lr_roc)"
   ]
  },
  {
   "cell_type": "code",
   "execution_count": 4,
   "metadata": {},
   "outputs": [],
   "source": [
    "def lr_eval_metrics():\n",
    "    return({\n",
    "        \"Logistic Regression Classifier\": lr_roc\n",
    "    })"
   ]
  }
 ],
 "metadata": {
  "kernelspec": {
   "display_name": "Python 3 (ipykernel)",
   "language": "python",
   "name": "python3"
  },
  "language_info": {
   "codemirror_mode": {
    "name": "ipython",
    "version": 3
   },
   "file_extension": ".py",
   "mimetype": "text/x-python",
   "name": "python",
   "nbconvert_exporter": "python",
   "pygments_lexer": "ipython3",
   "version": "3.11.4"
  }
 },
 "nbformat": 4,
 "nbformat_minor": 2
}

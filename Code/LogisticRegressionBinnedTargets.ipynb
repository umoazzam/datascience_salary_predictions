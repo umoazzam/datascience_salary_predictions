{
 "cells": [
  {
   "cell_type": "code",
   "execution_count": 1,
   "metadata": {},
   "outputs": [],
   "source": [
    "import numpy as np\n",
    "import pandas as pd\n",
    "import seaborn as sns\n",
    "import matplotlib.pyplot as plt\n",
    "import random\n",
    "import math"
   ]
  },
  {
   "cell_type": "markdown",
   "metadata": {},
   "source": [
    "### IMPORTING PREPROCESSED DATA"
   ]
  },
  {
   "cell_type": "code",
   "execution_count": 2,
   "metadata": {},
   "outputs": [],
   "source": [
    "%run Selected_Questions_Combined.ipynb\n",
    "dataframes = preprocessed_data()\n",
    "salary_data = dataframes[\"all_questions_dataframe\"]\n",
    "salary_data_as_num = dataframes[\"selected_numeric_questions\"]\n",
    "salary_data_selected_questions = dataframes[\"selected_questions_dataframe\"]"
   ]
  },
  {
   "cell_type": "markdown",
   "metadata": {},
   "source": [
    "### FURTHER PREPROCESSING"
   ]
  },
  {
   "cell_type": "code",
   "execution_count": 3,
   "metadata": {},
   "outputs": [],
   "source": [
    "def binning_categories(c):\n",
    "    if c in ['$0-999','1,000-1,999','2,000-2,999','3,000-3,999','4,000-4,999','5,000-7,499','7,500-9,999']:\n",
    "        return \"0-9,999\"\n",
    "    elif c in ['10,000-14,999','15,000-19,999','20,000-24,999',\n",
    "             '25,000-29,999','30,000-39,999','40,000-49,999',\n",
    "             '50,000-59,999','60,000-69,999','70,000-79,999',\n",
    "             '80,000-89,999','90,000-99,999']:\n",
    "        return \"10,000-99,999\"\n",
    "    elif c in ['100,000-124,999','125,000-149,999','150,000-199,999',\n",
    "             '200,000-249,999','250,000-299,999','300,000-500,000']:\n",
    "        return \"100,000-500,000\"\n",
    "    else:\n",
    "        return \"> $500,000\" "
   ]
  },
  {
   "cell_type": "markdown",
   "metadata": {},
   "source": [
    "# Logistic Regression"
   ]
  },
  {
   "cell_type": "code",
   "execution_count": 4,
   "metadata": {},
   "outputs": [
    {
     "name": "stdout",
     "output_type": "stream",
     "text": [
      "Baseline Model:\n",
      "Baseline score:  0.7614770459081837\n",
      "Number of iterations:  [1669]\n",
      "AUC score:  0.9143399460543309\n",
      "Best model:\n",
      "Best model accuracy:  0.7609780439121756\n",
      "AUC score:  0.9145558764332691\n"
     ]
    }
   ],
   "source": [
    "from sklearn.calibration import LabelEncoder\n",
    "from sklearn.linear_model import LogisticRegression\n",
    "from sklearn.model_selection import GridSearchCV, train_test_split\n",
    "from sklearn.metrics import accuracy_score, roc_auc_score\n",
    "from sklearn.metrics import make_scorer\n",
    "\n",
    "# target variable encoding\n",
    "y = salary_data[\"q24\"]\n",
    "y = y.apply(binning_categories)\n",
    "\n",
    "# dataset splitting\n",
    "x_dev, x_test, y_dev, y_test = train_test_split(salary_data_as_num, y, test_size = 0.2, random_state = 42)\n",
    "\n",
    "# encoding the y variable\n",
    "\n",
    "l_enc = LabelEncoder()\n",
    "l_enc.fit_transform(y_dev)\n",
    "l_enc.transform(y_test)\n",
    "\n",
    "# baseline model\n",
    "baseline = LogisticRegression(multi_class='auto', random_state = 42, max_iter=10000)\n",
    "baseline.fit(x_dev, y_dev)\n",
    "y_pred = baseline.predict_proba(x_test)\n",
    "print(\"Baseline Model:\")\n",
    "print(\"Baseline score: \", accuracy_score(y_test, baseline.predict(x_test)))\n",
    "print(\"Number of iterations: \", baseline.n_iter_)\n",
    "print(\"AUC score: \", roc_auc_score(y_test, y_pred, multi_class='ovr'))\n",
    "\n",
    "# tuning for solver, penalty, and regularization strength\n",
    "\n",
    "## parameters\n",
    "param_grid = dict(solver = ['newton-cg', 'lbfgs', 'sag'],\n",
    "                  penalty = [\"l2\"], \n",
    "                  C = [100, 10, 1.0, 0.1, 0.01],\n",
    "                  max_iter = [10000])\n",
    "\n",
    "## tuning\n",
    "'''\n",
    "grid = GridSearchCV(estimator = baseline, param_grid = param_grid, cv = 5, verbose=2)\n",
    "grid_result = grid.fit(x_dev, y_dev)\n",
    "print(\"Hyperparameter tuning for solver, penalty, and regularization strength:\")\n",
    "print(\"Best: %f using %s\" % (grid_result.best_score_, grid_result.best_params_))\n",
    "'''\n",
    "# Best parameters: {'C': 0.1, 'max_iter': 10000, 'penalty': 'l2', 'solver': 'newton-cg'}\n",
    "\n",
    "\n",
    "# testing the best model\n",
    "best_model = LogisticRegression(multi_class='auto', random_state = 42, max_iter=10000, C = 0.1, penalty = \"l2\", solver = \"newton-cg\")\n",
    "best_model.fit(x_dev, y_dev)\n",
    "y_pred = best_model.predict_proba(x_test)\n",
    "lr_roc = roc_auc_score(y_test, y_pred, multi_class='ovr')\n",
    "print(\"Best model:\")\n",
    "print(\"Best model accuracy: \", accuracy_score(y_test, best_model.predict(x_test)))\n",
    "print(\"AUC score: \", lr_roc)"
   ]
  },
  {
   "cell_type": "code",
   "execution_count": 5,
   "metadata": {},
   "outputs": [],
   "source": [
    "def lrBT_eval_metrics():\n",
    "    return({\n",
    "        \"Logistic Regression Classifier\": lr_roc\n",
    "    })"
   ]
  }
 ],
 "metadata": {
  "kernelspec": {
   "display_name": "Python 3 (ipykernel)",
   "language": "python",
   "name": "python3"
  },
  "language_info": {
   "codemirror_mode": {
    "name": "ipython",
    "version": 3
   },
   "file_extension": ".py",
   "mimetype": "text/x-python",
   "name": "python",
   "nbconvert_exporter": "python",
   "pygments_lexer": "ipython3",
   "version": "3.11.4"
  }
 },
 "nbformat": 4,
 "nbformat_minor": 2
}

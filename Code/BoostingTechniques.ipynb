{
  "cells": [
    {
      "cell_type": "code",
      "source": [],
      "metadata": {
        "id": "OpfJPqyizG6f"
      },
      "execution_count": null,
      "outputs": []
    },
    {
      "cell_type": "code",
      "execution_count": 1,
      "metadata": {
        "id": "gNHfWAulyac2"
      },
      "outputs": [],
      "source": [
        "import numpy as np\n",
        "import pandas as pd\n",
        "import seaborn as sns\n",
        "import matplotlib.pyplot as plt\n",
        "import random\n",
        "import math"
      ]
    },
    {
      "cell_type": "code",
      "execution_count": 2,
      "metadata": {
        "id": "P5lOAHf4yac6"
      },
      "outputs": [],
      "source": [
        "%matplotlib inline\n",
        "sns.set_theme()"
      ]
    },
    {
      "cell_type": "code",
      "execution_count": 3,
      "metadata": {
        "id": "C-XKqnjzyac6"
      },
      "outputs": [],
      "source": [
        "df = pd.read_csv(\"kaggle_survey_2020_responses.csv\")"
      ]
    },
    {
      "cell_type": "code",
      "execution_count": 4,
      "metadata": {
        "id": "rSKrp_OByac6"
      },
      "outputs": [],
      "source": [
        "salary_data = df.drop(columns = [\"time_from_start_to_finish_seconds\"])"
      ]
    },
    {
      "cell_type": "code",
      "execution_count": 5,
      "metadata": {
        "id": "URUgeZ1ayac7"
      },
      "outputs": [],
      "source": [
        "salary_data_as_num = pd.DataFrame()"
      ]
    },
    {
      "cell_type": "code",
      "execution_count": 6,
      "metadata": {
        "id": "D4regACZyac7"
      },
      "outputs": [],
      "source": [
        "def convert_to_category(col_name: str, order_rules: list, data):\n",
        "    data[col_name] = pd.Categorical(data[col_name], order_rules)"
      ]
    },
    {
      "cell_type": "code",
      "execution_count": 7,
      "metadata": {
        "id": "KU4QXYqDyac7"
      },
      "outputs": [],
      "source": [
        "def convert_to_category_no_specified_order(col_name, data):\n",
        "    if sum(data[col_name].isna().astype(int)) > 0:\n",
        "        data[col_name].fillna(\"No response\", inplace = True)\n",
        "\n",
        "    order = list(set(data[col_name]))\n",
        "    convert_to_category(col_name, order, data)"
      ]
    },
    {
      "cell_type": "code",
      "execution_count": 8,
      "metadata": {
        "id": "YptgZNLMyac7"
      },
      "outputs": [],
      "source": [
        "def convert_category_to_code(col_name: str, data, inplace = False):\n",
        "    if inplace:\n",
        "        data[col_name] = data[col_name].cat.codes + 1 # because NaN automatically becomes -1\n",
        "    else:\n",
        "        return data[col_name].cat.codes + 1"
      ]
    },
    {
      "cell_type": "code",
      "execution_count": 9,
      "metadata": {
        "id": "4pBLFkrvyac7"
      },
      "outputs": [],
      "source": [
        "def process_column(col_name: str, order_rules = None, data = salary_data, num_data = salary_data_as_num):\n",
        "    if order_rules:\n",
        "        convert_to_category(col_name, order_rules, data)\n",
        "    else:\n",
        "        convert_to_category_no_specified_order(col_name, data)\n",
        "    num_data[col_name] = convert_category_to_code(col_name, data)"
      ]
    },
    {
      "cell_type": "code",
      "execution_count": 10,
      "metadata": {
        "id": "sZ5CCscTyac8"
      },
      "outputs": [],
      "source": [
        "def one_hot_column_to_binary(col_name, data = salary_data):\n",
        "    data[col_name].fillna(0, inplace = True)\n",
        "    data[col_name].mask(data[col_name] != 0, 1, inplace = True)"
      ]
    },
    {
      "cell_type": "code",
      "execution_count": 11,
      "metadata": {
        "id": "S3g8v0VLyac8"
      },
      "outputs": [],
      "source": [
        "def process_one_hot_encoded_columns(columns, data = salary_data, num_data = salary_data_as_num):\n",
        "    for col in columns:\n",
        "        one_hot_column_to_binary(col, data)\n",
        "        num_data[col] = data[col]"
      ]
    },
    {
      "cell_type": "code",
      "execution_count": 12,
      "metadata": {
        "id": "Xgmq5CWiyac8"
      },
      "outputs": [],
      "source": [
        "def column_text_to_binary(col_name, data = salary_data, num_data = salary_data_as_num):\n",
        "    data[col_name] = data[col_name].notna().astype(int)\n",
        "    num_data[col_name] = data[col_name]"
      ]
    },
    {
      "cell_type": "code",
      "execution_count": 13,
      "metadata": {
        "id": "agOfhx0ayac8"
      },
      "outputs": [],
      "source": [
        "def combine_multiple_columns_into_one_binary(columns, new_col_name, data = salary_data, num_data = salary_data_as_num):\n",
        "    for col_name in columns:\n",
        "        one_hot_column_to_binary(col_name)\n",
        "\n",
        "    data[new_col_name] = data[columns].sum(axis = 1)\n",
        "    data[new_col_name] = data[new_col_name].astype(int)\n",
        "\n",
        "    data[new_col_name].mask(data[new_col_name] > 0, 1, inplace = True)\n",
        "    num_data[new_col_name] = data[new_col_name]"
      ]
    },
    {
      "cell_type": "markdown",
      "metadata": {
        "id": "_QQkQgpfyac9"
      },
      "source": [
        "## Q1 Age"
      ]
    },
    {
      "cell_type": "code",
      "execution_count": 14,
      "metadata": {
        "id": "4yXWdwYRyac-",
        "outputId": "a8a4ab51-2c5b-44cb-d3a2-920c851584b8",
        "colab": {
          "base_uri": "https://localhost:8080/"
        }
      },
      "outputs": [
        {
          "output_type": "execute_result",
          "data": {
            "text/plain": [
              "25-29    4011\n",
              "22-24    3786\n",
              "18-21    3469\n",
              "30-34    2811\n",
              "35-39    1991\n",
              "40-44    1397\n",
              "45-49     988\n",
              "50-54     698\n",
              "55-59     411\n",
              "60-69     398\n",
              "70         76\n",
              "Name: q1, dtype: int64"
            ]
          },
          "metadata": {},
          "execution_count": 14
        }
      ],
      "source": [
        "salary_data[\"q1\"].value_counts()"
      ]
    },
    {
      "cell_type": "code",
      "execution_count": 15,
      "metadata": {
        "id": "P1c_CNuTyadA"
      },
      "outputs": [],
      "source": [
        "q1_order = [\n",
        "    \"18-21\",\n",
        "    \"22-24\",\n",
        "    \"25-29\",\n",
        "    \"30-34\",\n",
        "    \"35-39\",\n",
        "    \"40-44\",\n",
        "    \"45-49\",\n",
        "    \"50-54\",\n",
        "    \"55-59\",\n",
        "    \"60-69\",\n",
        "    \"70\"\n",
        "]"
      ]
    },
    {
      "cell_type": "code",
      "execution_count": 16,
      "metadata": {
        "id": "m4BHB7KpyadB"
      },
      "outputs": [],
      "source": [
        "convert_to_category(\"q1\", q1_order, salary_data)"
      ]
    },
    {
      "cell_type": "code",
      "execution_count": 17,
      "metadata": {
        "id": "uwJgP7j4yadB",
        "outputId": "a0f57360-cfd8-4cd7-f9ac-c2e3e0d9d633",
        "colab": {
          "base_uri": "https://localhost:8080/",
          "height": 423
        }
      },
      "outputs": [
        {
          "output_type": "execute_result",
          "data": {
            "text/plain": [
              "       q1\n",
              "0       5\n",
              "1       4\n",
              "2       5\n",
              "3       4\n",
              "4       4\n",
              "...    ..\n",
              "20031   1\n",
              "20032   9\n",
              "20033   4\n",
              "20034   2\n",
              "20035   2\n",
              "\n",
              "[20036 rows x 1 columns]"
            ],
            "text/html": [
              "\n",
              "  <div id=\"df-98dcfb45-c892-487b-9df8-1e411c3db3f4\" class=\"colab-df-container\">\n",
              "    <div>\n",
              "<style scoped>\n",
              "    .dataframe tbody tr th:only-of-type {\n",
              "        vertical-align: middle;\n",
              "    }\n",
              "\n",
              "    .dataframe tbody tr th {\n",
              "        vertical-align: top;\n",
              "    }\n",
              "\n",
              "    .dataframe thead th {\n",
              "        text-align: right;\n",
              "    }\n",
              "</style>\n",
              "<table border=\"1\" class=\"dataframe\">\n",
              "  <thead>\n",
              "    <tr style=\"text-align: right;\">\n",
              "      <th></th>\n",
              "      <th>q1</th>\n",
              "    </tr>\n",
              "  </thead>\n",
              "  <tbody>\n",
              "    <tr>\n",
              "      <th>0</th>\n",
              "      <td>5</td>\n",
              "    </tr>\n",
              "    <tr>\n",
              "      <th>1</th>\n",
              "      <td>4</td>\n",
              "    </tr>\n",
              "    <tr>\n",
              "      <th>2</th>\n",
              "      <td>5</td>\n",
              "    </tr>\n",
              "    <tr>\n",
              "      <th>3</th>\n",
              "      <td>4</td>\n",
              "    </tr>\n",
              "    <tr>\n",
              "      <th>4</th>\n",
              "      <td>4</td>\n",
              "    </tr>\n",
              "    <tr>\n",
              "      <th>...</th>\n",
              "      <td>...</td>\n",
              "    </tr>\n",
              "    <tr>\n",
              "      <th>20031</th>\n",
              "      <td>1</td>\n",
              "    </tr>\n",
              "    <tr>\n",
              "      <th>20032</th>\n",
              "      <td>9</td>\n",
              "    </tr>\n",
              "    <tr>\n",
              "      <th>20033</th>\n",
              "      <td>4</td>\n",
              "    </tr>\n",
              "    <tr>\n",
              "      <th>20034</th>\n",
              "      <td>2</td>\n",
              "    </tr>\n",
              "    <tr>\n",
              "      <th>20035</th>\n",
              "      <td>2</td>\n",
              "    </tr>\n",
              "  </tbody>\n",
              "</table>\n",
              "<p>20036 rows × 1 columns</p>\n",
              "</div>\n",
              "    <div class=\"colab-df-buttons\">\n",
              "\n",
              "  <div class=\"colab-df-container\">\n",
              "    <button class=\"colab-df-convert\" onclick=\"convertToInteractive('df-98dcfb45-c892-487b-9df8-1e411c3db3f4')\"\n",
              "            title=\"Convert this dataframe to an interactive table.\"\n",
              "            style=\"display:none;\">\n",
              "\n",
              "  <svg xmlns=\"http://www.w3.org/2000/svg\" height=\"24px\" viewBox=\"0 -960 960 960\">\n",
              "    <path d=\"M120-120v-720h720v720H120Zm60-500h600v-160H180v160Zm220 220h160v-160H400v160Zm0 220h160v-160H400v160ZM180-400h160v-160H180v160Zm440 0h160v-160H620v160ZM180-180h160v-160H180v160Zm440 0h160v-160H620v160Z\"/>\n",
              "  </svg>\n",
              "    </button>\n",
              "\n",
              "  <style>\n",
              "    .colab-df-container {\n",
              "      display:flex;\n",
              "      gap: 12px;\n",
              "    }\n",
              "\n",
              "    .colab-df-convert {\n",
              "      background-color: #E8F0FE;\n",
              "      border: none;\n",
              "      border-radius: 50%;\n",
              "      cursor: pointer;\n",
              "      display: none;\n",
              "      fill: #1967D2;\n",
              "      height: 32px;\n",
              "      padding: 0 0 0 0;\n",
              "      width: 32px;\n",
              "    }\n",
              "\n",
              "    .colab-df-convert:hover {\n",
              "      background-color: #E2EBFA;\n",
              "      box-shadow: 0px 1px 2px rgba(60, 64, 67, 0.3), 0px 1px 3px 1px rgba(60, 64, 67, 0.15);\n",
              "      fill: #174EA6;\n",
              "    }\n",
              "\n",
              "    .colab-df-buttons div {\n",
              "      margin-bottom: 4px;\n",
              "    }\n",
              "\n",
              "    [theme=dark] .colab-df-convert {\n",
              "      background-color: #3B4455;\n",
              "      fill: #D2E3FC;\n",
              "    }\n",
              "\n",
              "    [theme=dark] .colab-df-convert:hover {\n",
              "      background-color: #434B5C;\n",
              "      box-shadow: 0px 1px 3px 1px rgba(0, 0, 0, 0.15);\n",
              "      filter: drop-shadow(0px 1px 2px rgba(0, 0, 0, 0.3));\n",
              "      fill: #FFFFFF;\n",
              "    }\n",
              "  </style>\n",
              "\n",
              "    <script>\n",
              "      const buttonEl =\n",
              "        document.querySelector('#df-98dcfb45-c892-487b-9df8-1e411c3db3f4 button.colab-df-convert');\n",
              "      buttonEl.style.display =\n",
              "        google.colab.kernel.accessAllowed ? 'block' : 'none';\n",
              "\n",
              "      async function convertToInteractive(key) {\n",
              "        const element = document.querySelector('#df-98dcfb45-c892-487b-9df8-1e411c3db3f4');\n",
              "        const dataTable =\n",
              "          await google.colab.kernel.invokeFunction('convertToInteractive',\n",
              "                                                    [key], {});\n",
              "        if (!dataTable) return;\n",
              "\n",
              "        const docLinkHtml = 'Like what you see? Visit the ' +\n",
              "          '<a target=\"_blank\" href=https://colab.research.google.com/notebooks/data_table.ipynb>data table notebook</a>'\n",
              "          + ' to learn more about interactive tables.';\n",
              "        element.innerHTML = '';\n",
              "        dataTable['output_type'] = 'display_data';\n",
              "        await google.colab.output.renderOutput(dataTable, element);\n",
              "        const docLink = document.createElement('div');\n",
              "        docLink.innerHTML = docLinkHtml;\n",
              "        element.appendChild(docLink);\n",
              "      }\n",
              "    </script>\n",
              "  </div>\n",
              "\n",
              "\n",
              "<div id=\"df-6b8f25ae-ae85-4e35-8a8c-969208fe5618\">\n",
              "  <button class=\"colab-df-quickchart\" onclick=\"quickchart('df-6b8f25ae-ae85-4e35-8a8c-969208fe5618')\"\n",
              "            title=\"Suggest charts\"\n",
              "            style=\"display:none;\">\n",
              "\n",
              "<svg xmlns=\"http://www.w3.org/2000/svg\" height=\"24px\"viewBox=\"0 0 24 24\"\n",
              "     width=\"24px\">\n",
              "    <g>\n",
              "        <path d=\"M19 3H5c-1.1 0-2 .9-2 2v14c0 1.1.9 2 2 2h14c1.1 0 2-.9 2-2V5c0-1.1-.9-2-2-2zM9 17H7v-7h2v7zm4 0h-2V7h2v10zm4 0h-2v-4h2v4z\"/>\n",
              "    </g>\n",
              "</svg>\n",
              "  </button>\n",
              "\n",
              "<style>\n",
              "  .colab-df-quickchart {\n",
              "      --bg-color: #E8F0FE;\n",
              "      --fill-color: #1967D2;\n",
              "      --hover-bg-color: #E2EBFA;\n",
              "      --hover-fill-color: #174EA6;\n",
              "      --disabled-fill-color: #AAA;\n",
              "      --disabled-bg-color: #DDD;\n",
              "  }\n",
              "\n",
              "  [theme=dark] .colab-df-quickchart {\n",
              "      --bg-color: #3B4455;\n",
              "      --fill-color: #D2E3FC;\n",
              "      --hover-bg-color: #434B5C;\n",
              "      --hover-fill-color: #FFFFFF;\n",
              "      --disabled-bg-color: #3B4455;\n",
              "      --disabled-fill-color: #666;\n",
              "  }\n",
              "\n",
              "  .colab-df-quickchart {\n",
              "    background-color: var(--bg-color);\n",
              "    border: none;\n",
              "    border-radius: 50%;\n",
              "    cursor: pointer;\n",
              "    display: none;\n",
              "    fill: var(--fill-color);\n",
              "    height: 32px;\n",
              "    padding: 0;\n",
              "    width: 32px;\n",
              "  }\n",
              "\n",
              "  .colab-df-quickchart:hover {\n",
              "    background-color: var(--hover-bg-color);\n",
              "    box-shadow: 0 1px 2px rgba(60, 64, 67, 0.3), 0 1px 3px 1px rgba(60, 64, 67, 0.15);\n",
              "    fill: var(--button-hover-fill-color);\n",
              "  }\n",
              "\n",
              "  .colab-df-quickchart-complete:disabled,\n",
              "  .colab-df-quickchart-complete:disabled:hover {\n",
              "    background-color: var(--disabled-bg-color);\n",
              "    fill: var(--disabled-fill-color);\n",
              "    box-shadow: none;\n",
              "  }\n",
              "\n",
              "  .colab-df-spinner {\n",
              "    border: 2px solid var(--fill-color);\n",
              "    border-color: transparent;\n",
              "    border-bottom-color: var(--fill-color);\n",
              "    animation:\n",
              "      spin 1s steps(1) infinite;\n",
              "  }\n",
              "\n",
              "  @keyframes spin {\n",
              "    0% {\n",
              "      border-color: transparent;\n",
              "      border-bottom-color: var(--fill-color);\n",
              "      border-left-color: var(--fill-color);\n",
              "    }\n",
              "    20% {\n",
              "      border-color: transparent;\n",
              "      border-left-color: var(--fill-color);\n",
              "      border-top-color: var(--fill-color);\n",
              "    }\n",
              "    30% {\n",
              "      border-color: transparent;\n",
              "      border-left-color: var(--fill-color);\n",
              "      border-top-color: var(--fill-color);\n",
              "      border-right-color: var(--fill-color);\n",
              "    }\n",
              "    40% {\n",
              "      border-color: transparent;\n",
              "      border-right-color: var(--fill-color);\n",
              "      border-top-color: var(--fill-color);\n",
              "    }\n",
              "    60% {\n",
              "      border-color: transparent;\n",
              "      border-right-color: var(--fill-color);\n",
              "    }\n",
              "    80% {\n",
              "      border-color: transparent;\n",
              "      border-right-color: var(--fill-color);\n",
              "      border-bottom-color: var(--fill-color);\n",
              "    }\n",
              "    90% {\n",
              "      border-color: transparent;\n",
              "      border-bottom-color: var(--fill-color);\n",
              "    }\n",
              "  }\n",
              "</style>\n",
              "\n",
              "  <script>\n",
              "    async function quickchart(key) {\n",
              "      const quickchartButtonEl =\n",
              "        document.querySelector('#' + key + ' button');\n",
              "      quickchartButtonEl.disabled = true;  // To prevent multiple clicks.\n",
              "      quickchartButtonEl.classList.add('colab-df-spinner');\n",
              "      try {\n",
              "        const charts = await google.colab.kernel.invokeFunction(\n",
              "            'suggestCharts', [key], {});\n",
              "      } catch (error) {\n",
              "        console.error('Error during call to suggestCharts:', error);\n",
              "      }\n",
              "      quickchartButtonEl.classList.remove('colab-df-spinner');\n",
              "      quickchartButtonEl.classList.add('colab-df-quickchart-complete');\n",
              "    }\n",
              "    (() => {\n",
              "      let quickchartButtonEl =\n",
              "        document.querySelector('#df-6b8f25ae-ae85-4e35-8a8c-969208fe5618 button');\n",
              "      quickchartButtonEl.style.display =\n",
              "        google.colab.kernel.accessAllowed ? 'block' : 'none';\n",
              "    })();\n",
              "  </script>\n",
              "</div>\n",
              "\n",
              "  <div id=\"id_3011b9f2-d17a-44ea-bb56-a41a23b01123\">\n",
              "    <style>\n",
              "      .colab-df-generate {\n",
              "        background-color: #E8F0FE;\n",
              "        border: none;\n",
              "        border-radius: 50%;\n",
              "        cursor: pointer;\n",
              "        display: none;\n",
              "        fill: #1967D2;\n",
              "        height: 32px;\n",
              "        padding: 0 0 0 0;\n",
              "        width: 32px;\n",
              "      }\n",
              "\n",
              "      .colab-df-generate:hover {\n",
              "        background-color: #E2EBFA;\n",
              "        box-shadow: 0px 1px 2px rgba(60, 64, 67, 0.3), 0px 1px 3px 1px rgba(60, 64, 67, 0.15);\n",
              "        fill: #174EA6;\n",
              "      }\n",
              "\n",
              "      [theme=dark] .colab-df-generate {\n",
              "        background-color: #3B4455;\n",
              "        fill: #D2E3FC;\n",
              "      }\n",
              "\n",
              "      [theme=dark] .colab-df-generate:hover {\n",
              "        background-color: #434B5C;\n",
              "        box-shadow: 0px 1px 3px 1px rgba(0, 0, 0, 0.15);\n",
              "        filter: drop-shadow(0px 1px 2px rgba(0, 0, 0, 0.3));\n",
              "        fill: #FFFFFF;\n",
              "      }\n",
              "    </style>\n",
              "    <button class=\"colab-df-generate\" onclick=\"generateWithVariable('salary_data_as_num')\"\n",
              "            title=\"Generate code using this dataframe.\"\n",
              "            style=\"display:none;\">\n",
              "\n",
              "  <svg xmlns=\"http://www.w3.org/2000/svg\" height=\"24px\"viewBox=\"0 0 24 24\"\n",
              "       width=\"24px\">\n",
              "    <path d=\"M7,19H8.4L18.45,9,17,7.55,7,17.6ZM5,21V16.75L18.45,3.32a2,2,0,0,1,2.83,0l1.4,1.43a1.91,1.91,0,0,1,.58,1.4,1.91,1.91,0,0,1-.58,1.4L9.25,21ZM18.45,9,17,7.55Zm-12,3A5.31,5.31,0,0,0,4.9,8.1,5.31,5.31,0,0,0,1,6.5,5.31,5.31,0,0,0,4.9,4.9,5.31,5.31,0,0,0,6.5,1,5.31,5.31,0,0,0,8.1,4.9,5.31,5.31,0,0,0,12,6.5,5.46,5.46,0,0,0,6.5,12Z\"/>\n",
              "  </svg>\n",
              "    </button>\n",
              "    <script>\n",
              "      (() => {\n",
              "      const buttonEl =\n",
              "        document.querySelector('#id_3011b9f2-d17a-44ea-bb56-a41a23b01123 button.colab-df-generate');\n",
              "      buttonEl.style.display =\n",
              "        google.colab.kernel.accessAllowed ? 'block' : 'none';\n",
              "\n",
              "      buttonEl.onclick = () => {\n",
              "        google.colab.notebook.generateWithVariable('salary_data_as_num');\n",
              "      }\n",
              "      })();\n",
              "    </script>\n",
              "  </div>\n",
              "\n",
              "    </div>\n",
              "  </div>\n"
            ]
          },
          "metadata": {},
          "execution_count": 17
        }
      ],
      "source": [
        "salary_data_as_num[\"q1\"] = convert_category_to_code(\"q1\", salary_data, False)\n",
        "salary_data_as_num"
      ]
    },
    {
      "cell_type": "code",
      "execution_count": 18,
      "metadata": {
        "id": "UfY8gd5DyadC",
        "outputId": "8fe8f676-60ae-4c93-f8e8-183db8cb1fe8",
        "colab": {
          "base_uri": "https://localhost:8080/"
        }
      },
      "outputs": [
        {
          "output_type": "execute_result",
          "data": {
            "text/plain": [
              "3     4011\n",
              "2     3786\n",
              "1     3469\n",
              "4     2811\n",
              "5     1991\n",
              "6     1397\n",
              "7      988\n",
              "8      698\n",
              "9      411\n",
              "10     398\n",
              "11      76\n",
              "Name: q1, dtype: int64"
            ]
          },
          "metadata": {},
          "execution_count": 18
        }
      ],
      "source": [
        "salary_data_as_num[\"q1\"].value_counts()"
      ]
    },
    {
      "cell_type": "markdown",
      "metadata": {
        "id": "_HZOcf-8yadC"
      },
      "source": [
        "## Q2 Gender"
      ]
    },
    {
      "cell_type": "code",
      "execution_count": 19,
      "metadata": {
        "id": "Of_VkS9ByadC",
        "outputId": "cd5fb14b-c69d-4e96-b895-7881f84fc8cb",
        "colab": {
          "base_uri": "https://localhost:8080/"
        }
      },
      "outputs": [
        {
          "output_type": "execute_result",
          "data": {
            "text/plain": [
              "Man                        15789\n",
              "Woman                       3878\n",
              "Prefer not to say            263\n",
              "Prefer to self-describe       54\n",
              "Nonbinary                     52\n",
              "Name: q2, dtype: int64"
            ]
          },
          "metadata": {},
          "execution_count": 19
        }
      ],
      "source": [
        "salary_data[\"q2\"].value_counts()"
      ]
    },
    {
      "cell_type": "code",
      "execution_count": 20,
      "metadata": {
        "id": "lOAQ9rwDyadC"
      },
      "outputs": [],
      "source": [
        "q2_order = ['Man', \"Woman\", \"Nonbinary\", 'Prefer to self-describe', 'Prefer not to say']"
      ]
    },
    {
      "cell_type": "code",
      "execution_count": 21,
      "metadata": {
        "id": "9t7z1SwgyadC"
      },
      "outputs": [],
      "source": [
        "convert_to_category(\"q2\", q2_order, salary_data)"
      ]
    },
    {
      "cell_type": "code",
      "execution_count": 22,
      "metadata": {
        "id": "skLEcAdByadD",
        "outputId": "0709f533-49a3-4334-a41e-ef5a8baddb7e",
        "colab": {
          "base_uri": "https://localhost:8080/",
          "height": 423
        }
      },
      "outputs": [
        {
          "output_type": "execute_result",
          "data": {
            "text/plain": [
              "       q1  q2\n",
              "0       5   1\n",
              "1       4   1\n",
              "2       5   1\n",
              "3       4   1\n",
              "4       4   1\n",
              "...    ..  ..\n",
              "20031   1   1\n",
              "20032   9   2\n",
              "20033   4   1\n",
              "20034   2   1\n",
              "20035   2   1\n",
              "\n",
              "[20036 rows x 2 columns]"
            ],
            "text/html": [
              "\n",
              "  <div id=\"df-fb344196-3394-4d39-a3c5-c1c5acd95260\" class=\"colab-df-container\">\n",
              "    <div>\n",
              "<style scoped>\n",
              "    .dataframe tbody tr th:only-of-type {\n",
              "        vertical-align: middle;\n",
              "    }\n",
              "\n",
              "    .dataframe tbody tr th {\n",
              "        vertical-align: top;\n",
              "    }\n",
              "\n",
              "    .dataframe thead th {\n",
              "        text-align: right;\n",
              "    }\n",
              "</style>\n",
              "<table border=\"1\" class=\"dataframe\">\n",
              "  <thead>\n",
              "    <tr style=\"text-align: right;\">\n",
              "      <th></th>\n",
              "      <th>q1</th>\n",
              "      <th>q2</th>\n",
              "    </tr>\n",
              "  </thead>\n",
              "  <tbody>\n",
              "    <tr>\n",
              "      <th>0</th>\n",
              "      <td>5</td>\n",
              "      <td>1</td>\n",
              "    </tr>\n",
              "    <tr>\n",
              "      <th>1</th>\n",
              "      <td>4</td>\n",
              "      <td>1</td>\n",
              "    </tr>\n",
              "    <tr>\n",
              "      <th>2</th>\n",
              "      <td>5</td>\n",
              "      <td>1</td>\n",
              "    </tr>\n",
              "    <tr>\n",
              "      <th>3</th>\n",
              "      <td>4</td>\n",
              "      <td>1</td>\n",
              "    </tr>\n",
              "    <tr>\n",
              "      <th>4</th>\n",
              "      <td>4</td>\n",
              "      <td>1</td>\n",
              "    </tr>\n",
              "    <tr>\n",
              "      <th>...</th>\n",
              "      <td>...</td>\n",
              "      <td>...</td>\n",
              "    </tr>\n",
              "    <tr>\n",
              "      <th>20031</th>\n",
              "      <td>1</td>\n",
              "      <td>1</td>\n",
              "    </tr>\n",
              "    <tr>\n",
              "      <th>20032</th>\n",
              "      <td>9</td>\n",
              "      <td>2</td>\n",
              "    </tr>\n",
              "    <tr>\n",
              "      <th>20033</th>\n",
              "      <td>4</td>\n",
              "      <td>1</td>\n",
              "    </tr>\n",
              "    <tr>\n",
              "      <th>20034</th>\n",
              "      <td>2</td>\n",
              "      <td>1</td>\n",
              "    </tr>\n",
              "    <tr>\n",
              "      <th>20035</th>\n",
              "      <td>2</td>\n",
              "      <td>1</td>\n",
              "    </tr>\n",
              "  </tbody>\n",
              "</table>\n",
              "<p>20036 rows × 2 columns</p>\n",
              "</div>\n",
              "    <div class=\"colab-df-buttons\">\n",
              "\n",
              "  <div class=\"colab-df-container\">\n",
              "    <button class=\"colab-df-convert\" onclick=\"convertToInteractive('df-fb344196-3394-4d39-a3c5-c1c5acd95260')\"\n",
              "            title=\"Convert this dataframe to an interactive table.\"\n",
              "            style=\"display:none;\">\n",
              "\n",
              "  <svg xmlns=\"http://www.w3.org/2000/svg\" height=\"24px\" viewBox=\"0 -960 960 960\">\n",
              "    <path d=\"M120-120v-720h720v720H120Zm60-500h600v-160H180v160Zm220 220h160v-160H400v160Zm0 220h160v-160H400v160ZM180-400h160v-160H180v160Zm440 0h160v-160H620v160ZM180-180h160v-160H180v160Zm440 0h160v-160H620v160Z\"/>\n",
              "  </svg>\n",
              "    </button>\n",
              "\n",
              "  <style>\n",
              "    .colab-df-container {\n",
              "      display:flex;\n",
              "      gap: 12px;\n",
              "    }\n",
              "\n",
              "    .colab-df-convert {\n",
              "      background-color: #E8F0FE;\n",
              "      border: none;\n",
              "      border-radius: 50%;\n",
              "      cursor: pointer;\n",
              "      display: none;\n",
              "      fill: #1967D2;\n",
              "      height: 32px;\n",
              "      padding: 0 0 0 0;\n",
              "      width: 32px;\n",
              "    }\n",
              "\n",
              "    .colab-df-convert:hover {\n",
              "      background-color: #E2EBFA;\n",
              "      box-shadow: 0px 1px 2px rgba(60, 64, 67, 0.3), 0px 1px 3px 1px rgba(60, 64, 67, 0.15);\n",
              "      fill: #174EA6;\n",
              "    }\n",
              "\n",
              "    .colab-df-buttons div {\n",
              "      margin-bottom: 4px;\n",
              "    }\n",
              "\n",
              "    [theme=dark] .colab-df-convert {\n",
              "      background-color: #3B4455;\n",
              "      fill: #D2E3FC;\n",
              "    }\n",
              "\n",
              "    [theme=dark] .colab-df-convert:hover {\n",
              "      background-color: #434B5C;\n",
              "      box-shadow: 0px 1px 3px 1px rgba(0, 0, 0, 0.15);\n",
              "      filter: drop-shadow(0px 1px 2px rgba(0, 0, 0, 0.3));\n",
              "      fill: #FFFFFF;\n",
              "    }\n",
              "  </style>\n",
              "\n",
              "    <script>\n",
              "      const buttonEl =\n",
              "        document.querySelector('#df-fb344196-3394-4d39-a3c5-c1c5acd95260 button.colab-df-convert');\n",
              "      buttonEl.style.display =\n",
              "        google.colab.kernel.accessAllowed ? 'block' : 'none';\n",
              "\n",
              "      async function convertToInteractive(key) {\n",
              "        const element = document.querySelector('#df-fb344196-3394-4d39-a3c5-c1c5acd95260');\n",
              "        const dataTable =\n",
              "          await google.colab.kernel.invokeFunction('convertToInteractive',\n",
              "                                                    [key], {});\n",
              "        if (!dataTable) return;\n",
              "\n",
              "        const docLinkHtml = 'Like what you see? Visit the ' +\n",
              "          '<a target=\"_blank\" href=https://colab.research.google.com/notebooks/data_table.ipynb>data table notebook</a>'\n",
              "          + ' to learn more about interactive tables.';\n",
              "        element.innerHTML = '';\n",
              "        dataTable['output_type'] = 'display_data';\n",
              "        await google.colab.output.renderOutput(dataTable, element);\n",
              "        const docLink = document.createElement('div');\n",
              "        docLink.innerHTML = docLinkHtml;\n",
              "        element.appendChild(docLink);\n",
              "      }\n",
              "    </script>\n",
              "  </div>\n",
              "\n",
              "\n",
              "<div id=\"df-6281a522-7b85-424a-ad0b-61c20dcbba22\">\n",
              "  <button class=\"colab-df-quickchart\" onclick=\"quickchart('df-6281a522-7b85-424a-ad0b-61c20dcbba22')\"\n",
              "            title=\"Suggest charts\"\n",
              "            style=\"display:none;\">\n",
              "\n",
              "<svg xmlns=\"http://www.w3.org/2000/svg\" height=\"24px\"viewBox=\"0 0 24 24\"\n",
              "     width=\"24px\">\n",
              "    <g>\n",
              "        <path d=\"M19 3H5c-1.1 0-2 .9-2 2v14c0 1.1.9 2 2 2h14c1.1 0 2-.9 2-2V5c0-1.1-.9-2-2-2zM9 17H7v-7h2v7zm4 0h-2V7h2v10zm4 0h-2v-4h2v4z\"/>\n",
              "    </g>\n",
              "</svg>\n",
              "  </button>\n",
              "\n",
              "<style>\n",
              "  .colab-df-quickchart {\n",
              "      --bg-color: #E8F0FE;\n",
              "      --fill-color: #1967D2;\n",
              "      --hover-bg-color: #E2EBFA;\n",
              "      --hover-fill-color: #174EA6;\n",
              "      --disabled-fill-color: #AAA;\n",
              "      --disabled-bg-color: #DDD;\n",
              "  }\n",
              "\n",
              "  [theme=dark] .colab-df-quickchart {\n",
              "      --bg-color: #3B4455;\n",
              "      --fill-color: #D2E3FC;\n",
              "      --hover-bg-color: #434B5C;\n",
              "      --hover-fill-color: #FFFFFF;\n",
              "      --disabled-bg-color: #3B4455;\n",
              "      --disabled-fill-color: #666;\n",
              "  }\n",
              "\n",
              "  .colab-df-quickchart {\n",
              "    background-color: var(--bg-color);\n",
              "    border: none;\n",
              "    border-radius: 50%;\n",
              "    cursor: pointer;\n",
              "    display: none;\n",
              "    fill: var(--fill-color);\n",
              "    height: 32px;\n",
              "    padding: 0;\n",
              "    width: 32px;\n",
              "  }\n",
              "\n",
              "  .colab-df-quickchart:hover {\n",
              "    background-color: var(--hover-bg-color);\n",
              "    box-shadow: 0 1px 2px rgba(60, 64, 67, 0.3), 0 1px 3px 1px rgba(60, 64, 67, 0.15);\n",
              "    fill: var(--button-hover-fill-color);\n",
              "  }\n",
              "\n",
              "  .colab-df-quickchart-complete:disabled,\n",
              "  .colab-df-quickchart-complete:disabled:hover {\n",
              "    background-color: var(--disabled-bg-color);\n",
              "    fill: var(--disabled-fill-color);\n",
              "    box-shadow: none;\n",
              "  }\n",
              "\n",
              "  .colab-df-spinner {\n",
              "    border: 2px solid var(--fill-color);\n",
              "    border-color: transparent;\n",
              "    border-bottom-color: var(--fill-color);\n",
              "    animation:\n",
              "      spin 1s steps(1) infinite;\n",
              "  }\n",
              "\n",
              "  @keyframes spin {\n",
              "    0% {\n",
              "      border-color: transparent;\n",
              "      border-bottom-color: var(--fill-color);\n",
              "      border-left-color: var(--fill-color);\n",
              "    }\n",
              "    20% {\n",
              "      border-color: transparent;\n",
              "      border-left-color: var(--fill-color);\n",
              "      border-top-color: var(--fill-color);\n",
              "    }\n",
              "    30% {\n",
              "      border-color: transparent;\n",
              "      border-left-color: var(--fill-color);\n",
              "      border-top-color: var(--fill-color);\n",
              "      border-right-color: var(--fill-color);\n",
              "    }\n",
              "    40% {\n",
              "      border-color: transparent;\n",
              "      border-right-color: var(--fill-color);\n",
              "      border-top-color: var(--fill-color);\n",
              "    }\n",
              "    60% {\n",
              "      border-color: transparent;\n",
              "      border-right-color: var(--fill-color);\n",
              "    }\n",
              "    80% {\n",
              "      border-color: transparent;\n",
              "      border-right-color: var(--fill-color);\n",
              "      border-bottom-color: var(--fill-color);\n",
              "    }\n",
              "    90% {\n",
              "      border-color: transparent;\n",
              "      border-bottom-color: var(--fill-color);\n",
              "    }\n",
              "  }\n",
              "</style>\n",
              "\n",
              "  <script>\n",
              "    async function quickchart(key) {\n",
              "      const quickchartButtonEl =\n",
              "        document.querySelector('#' + key + ' button');\n",
              "      quickchartButtonEl.disabled = true;  // To prevent multiple clicks.\n",
              "      quickchartButtonEl.classList.add('colab-df-spinner');\n",
              "      try {\n",
              "        const charts = await google.colab.kernel.invokeFunction(\n",
              "            'suggestCharts', [key], {});\n",
              "      } catch (error) {\n",
              "        console.error('Error during call to suggestCharts:', error);\n",
              "      }\n",
              "      quickchartButtonEl.classList.remove('colab-df-spinner');\n",
              "      quickchartButtonEl.classList.add('colab-df-quickchart-complete');\n",
              "    }\n",
              "    (() => {\n",
              "      let quickchartButtonEl =\n",
              "        document.querySelector('#df-6281a522-7b85-424a-ad0b-61c20dcbba22 button');\n",
              "      quickchartButtonEl.style.display =\n",
              "        google.colab.kernel.accessAllowed ? 'block' : 'none';\n",
              "    })();\n",
              "  </script>\n",
              "</div>\n",
              "\n",
              "  <div id=\"id_fb98aca0-6a30-46fc-a72c-5d19d21b2b1c\">\n",
              "    <style>\n",
              "      .colab-df-generate {\n",
              "        background-color: #E8F0FE;\n",
              "        border: none;\n",
              "        border-radius: 50%;\n",
              "        cursor: pointer;\n",
              "        display: none;\n",
              "        fill: #1967D2;\n",
              "        height: 32px;\n",
              "        padding: 0 0 0 0;\n",
              "        width: 32px;\n",
              "      }\n",
              "\n",
              "      .colab-df-generate:hover {\n",
              "        background-color: #E2EBFA;\n",
              "        box-shadow: 0px 1px 2px rgba(60, 64, 67, 0.3), 0px 1px 3px 1px rgba(60, 64, 67, 0.15);\n",
              "        fill: #174EA6;\n",
              "      }\n",
              "\n",
              "      [theme=dark] .colab-df-generate {\n",
              "        background-color: #3B4455;\n",
              "        fill: #D2E3FC;\n",
              "      }\n",
              "\n",
              "      [theme=dark] .colab-df-generate:hover {\n",
              "        background-color: #434B5C;\n",
              "        box-shadow: 0px 1px 3px 1px rgba(0, 0, 0, 0.15);\n",
              "        filter: drop-shadow(0px 1px 2px rgba(0, 0, 0, 0.3));\n",
              "        fill: #FFFFFF;\n",
              "      }\n",
              "    </style>\n",
              "    <button class=\"colab-df-generate\" onclick=\"generateWithVariable('salary_data_as_num')\"\n",
              "            title=\"Generate code using this dataframe.\"\n",
              "            style=\"display:none;\">\n",
              "\n",
              "  <svg xmlns=\"http://www.w3.org/2000/svg\" height=\"24px\"viewBox=\"0 0 24 24\"\n",
              "       width=\"24px\">\n",
              "    <path d=\"M7,19H8.4L18.45,9,17,7.55,7,17.6ZM5,21V16.75L18.45,3.32a2,2,0,0,1,2.83,0l1.4,1.43a1.91,1.91,0,0,1,.58,1.4,1.91,1.91,0,0,1-.58,1.4L9.25,21ZM18.45,9,17,7.55Zm-12,3A5.31,5.31,0,0,0,4.9,8.1,5.31,5.31,0,0,0,1,6.5,5.31,5.31,0,0,0,4.9,4.9,5.31,5.31,0,0,0,6.5,1,5.31,5.31,0,0,0,8.1,4.9,5.31,5.31,0,0,0,12,6.5,5.46,5.46,0,0,0,6.5,12Z\"/>\n",
              "  </svg>\n",
              "    </button>\n",
              "    <script>\n",
              "      (() => {\n",
              "      const buttonEl =\n",
              "        document.querySelector('#id_fb98aca0-6a30-46fc-a72c-5d19d21b2b1c button.colab-df-generate');\n",
              "      buttonEl.style.display =\n",
              "        google.colab.kernel.accessAllowed ? 'block' : 'none';\n",
              "\n",
              "      buttonEl.onclick = () => {\n",
              "        google.colab.notebook.generateWithVariable('salary_data_as_num');\n",
              "      }\n",
              "      })();\n",
              "    </script>\n",
              "  </div>\n",
              "\n",
              "    </div>\n",
              "  </div>\n"
            ]
          },
          "metadata": {},
          "execution_count": 22
        }
      ],
      "source": [
        "salary_data_as_num[\"q2\"] = convert_category_to_code(\"q2\", salary_data, False)\n",
        "salary_data_as_num"
      ]
    },
    {
      "cell_type": "code",
      "execution_count": 23,
      "metadata": {
        "id": "HfenlJoKyadD",
        "outputId": "75f0dac6-64cf-4be5-f48f-678cfde53c93",
        "colab": {
          "base_uri": "https://localhost:8080/"
        }
      },
      "outputs": [
        {
          "output_type": "execute_result",
          "data": {
            "text/plain": [
              "1    15789\n",
              "2     3878\n",
              "5      263\n",
              "4       54\n",
              "3       52\n",
              "Name: q2, dtype: int64"
            ]
          },
          "metadata": {},
          "execution_count": 23
        }
      ],
      "source": [
        "salary_data_as_num[\"q2\"].value_counts()"
      ]
    },
    {
      "cell_type": "markdown",
      "metadata": {
        "id": "1ZWIISb9yadD"
      },
      "source": [
        "## Q3 Country"
      ]
    },
    {
      "cell_type": "code",
      "execution_count": 24,
      "metadata": {
        "id": "XJ3UJVZzyadD"
      },
      "outputs": [],
      "source": [
        "convert_to_category_no_specified_order(\"q3\", salary_data)"
      ]
    },
    {
      "cell_type": "code",
      "execution_count": 25,
      "metadata": {
        "id": "6XXAjPdmyadE"
      },
      "outputs": [],
      "source": [
        "salary_data_as_num[\"q3\"] = convert_category_to_code(\"q3\", salary_data)"
      ]
    },
    {
      "cell_type": "markdown",
      "metadata": {
        "id": "HBnaI9CsyadE"
      },
      "source": [
        "## Q4 Education"
      ]
    },
    {
      "cell_type": "code",
      "execution_count": 26,
      "metadata": {
        "id": "fr3GqJ_eyadE",
        "outputId": "73e4234b-314c-4407-cda1-3d0411447b0a",
        "colab": {
          "base_uri": "https://localhost:8080/"
        }
      },
      "outputs": [
        {
          "output_type": "execute_result",
          "data": {
            "text/plain": [
              "Master’s degree                                                      7859\n",
              "Bachelor’s degree                                                    6978\n",
              "Doctoral degree                                                      2302\n",
              "Some college/university study without earning a bachelor’s degree    1092\n",
              "Professional degree                                                   699\n",
              "I prefer not to answer                                                399\n",
              "No formal education past high school                                  240\n",
              "Name: q4, dtype: int64"
            ]
          },
          "metadata": {},
          "execution_count": 26
        }
      ],
      "source": [
        "salary_data[\"q4\"].value_counts()"
      ]
    },
    {
      "cell_type": "code",
      "execution_count": 27,
      "metadata": {
        "id": "B7gek9BOyadE"
      },
      "outputs": [],
      "source": [
        "q4_order = [\"No formal education past high school\",\n",
        "            \"Some college/university study without earning a bachelor’s degree\",\n",
        "            \"Professional degree\",\n",
        "            \"Bachelor’s degree\",\n",
        "            \"Master’s degree\",\n",
        "            \"Doctoral degree\",\n",
        "            \"I prefer not to answer\"\n",
        "            ]"
      ]
    },
    {
      "cell_type": "code",
      "execution_count": 28,
      "metadata": {
        "id": "VMF6JuExyadF"
      },
      "outputs": [],
      "source": [
        "convert_to_category(\"q4\", q4_order, salary_data)"
      ]
    },
    {
      "cell_type": "code",
      "execution_count": 29,
      "metadata": {
        "id": "tkI6axZYyadF"
      },
      "outputs": [],
      "source": [
        "salary_data_as_num[\"q4\"] = convert_category_to_code(\"q4\", salary_data)"
      ]
    },
    {
      "cell_type": "code",
      "execution_count": 30,
      "metadata": {
        "id": "5p-ni2ZNyadF",
        "outputId": "915f5776-6aeb-4bb9-e3e2-e7b0d17079c0",
        "colab": {
          "base_uri": "https://localhost:8080/"
        }
      },
      "outputs": [
        {
          "output_type": "execute_result",
          "data": {
            "text/plain": [
              "5    7859\n",
              "4    6978\n",
              "6    2302\n",
              "2    1092\n",
              "3     699\n",
              "0     467\n",
              "7     399\n",
              "1     240\n",
              "Name: q4, dtype: int64"
            ]
          },
          "metadata": {},
          "execution_count": 30
        }
      ],
      "source": [
        "salary_data_as_num[\"q4\"].value_counts()"
      ]
    },
    {
      "cell_type": "markdown",
      "metadata": {
        "id": "K6-oxuhHyadG"
      },
      "source": [
        "## Q5 Job Title"
      ]
    },
    {
      "cell_type": "code",
      "execution_count": 31,
      "metadata": {
        "id": "qr1mxfPEyadG",
        "outputId": "44334aff-2987-4b22-8c0a-de8f75fa411b",
        "colab": {
          "base_uri": "https://localhost:8080/"
        }
      },
      "outputs": [
        {
          "output_type": "execute_result",
          "data": {
            "text/plain": [
              "Student                      5171\n",
              "Data Scientist               2676\n",
              "Software Engineer            1968\n",
              "Other                        1737\n",
              "Currently not employed       1652\n",
              "Data Analyst                 1475\n",
              "Research Scientist           1174\n",
              "Machine Learning Engineer    1082\n",
              "Business Analyst              798\n",
              "Product/Project Manager       692\n",
              "Data Engineer                 437\n",
              "Statistician                  290\n",
              "DBA/Database Engineer         125\n",
              "Name: q5, dtype: int64"
            ]
          },
          "metadata": {},
          "execution_count": 31
        }
      ],
      "source": [
        "salary_data[\"q5\"].value_counts()"
      ]
    },
    {
      "cell_type": "code",
      "execution_count": 32,
      "metadata": {
        "id": "Ij_OEgm3yadH"
      },
      "outputs": [],
      "source": [
        "convert_to_category_no_specified_order(\"q5\", salary_data)"
      ]
    },
    {
      "cell_type": "code",
      "execution_count": 33,
      "metadata": {
        "id": "RT40SVEkyadH"
      },
      "outputs": [],
      "source": [
        "salary_data_as_num[\"q5\"] = convert_category_to_code(\"q5\", salary_data)"
      ]
    },
    {
      "cell_type": "markdown",
      "metadata": {
        "id": "UWJDkS0kyadI"
      },
      "source": [
        "## Q6 Years Coding"
      ]
    },
    {
      "cell_type": "code",
      "execution_count": 34,
      "metadata": {
        "id": "-_ddvNYVyadJ"
      },
      "outputs": [],
      "source": [
        "q6_order = [\n",
        " 'I have never written code',\n",
        " '< 1 years',\n",
        " '1-2 years',\n",
        " '3-5 years',\n",
        " '5-10 years',\n",
        " '10-20 years',\n",
        " '20+ years']"
      ]
    },
    {
      "cell_type": "code",
      "execution_count": 35,
      "metadata": {
        "id": "RGE6o1KByadK"
      },
      "outputs": [],
      "source": [
        "process_column(\"q6\", q6_order)"
      ]
    },
    {
      "cell_type": "markdown",
      "metadata": {
        "id": "OcSkc260yadL"
      },
      "source": [
        "## Q7 Language"
      ]
    },
    {
      "cell_type": "code",
      "execution_count": 36,
      "metadata": {
        "id": "OQTJ6fo3yadL"
      },
      "outputs": [],
      "source": [
        "q7_columns = [\n",
        "     'q7_part_1',\n",
        " 'q7_part_2',\n",
        " 'q7_part_3',\n",
        " 'q7_part_4',\n",
        " 'q7_part_5',\n",
        " 'q7_part_6',\n",
        " 'q7_part_7',\n",
        " 'q7_part_8',\n",
        " 'q7_part_9',\n",
        " 'q7_part_10',\n",
        " 'q7_part_11',\n",
        " 'q7_part_12',\n",
        " 'q7_other'\n",
        "]"
      ]
    },
    {
      "cell_type": "code",
      "execution_count": 37,
      "metadata": {
        "id": "6ENw7W1syadM"
      },
      "outputs": [],
      "source": [
        "process_one_hot_encoded_columns(q7_columns)"
      ]
    },
    {
      "cell_type": "markdown",
      "metadata": {
        "id": "4c7LjRHqyadM"
      },
      "source": [
        "## Q11 Computing Platform"
      ]
    },
    {
      "cell_type": "code",
      "execution_count": 38,
      "metadata": {
        "id": "ss3Nx_L6yadM"
      },
      "outputs": [],
      "source": [
        "process_column(\"q11\")"
      ]
    },
    {
      "cell_type": "markdown",
      "metadata": {
        "id": "khPRbv_iyadN"
      },
      "source": [
        "## Q12 Specialized Hardware"
      ]
    },
    {
      "cell_type": "code",
      "execution_count": 39,
      "metadata": {
        "id": "RKj6xYmlyadN"
      },
      "outputs": [],
      "source": [
        "q12_columns = [\n",
        "    'q12_part_1',\n",
        " 'q12_part_2',\n",
        " 'q12_part_3',\n",
        " 'q12_other'\n",
        "]"
      ]
    },
    {
      "cell_type": "code",
      "execution_count": 40,
      "metadata": {
        "id": "8Z40FKkMyadN"
      },
      "outputs": [],
      "source": [
        "process_one_hot_encoded_columns(q12_columns)"
      ]
    },
    {
      "cell_type": "markdown",
      "metadata": {
        "id": "-4XplEIuyadN"
      },
      "source": [
        "## Q14 Visualization"
      ]
    },
    {
      "cell_type": "code",
      "execution_count": 41,
      "metadata": {
        "id": "ZDNMUNjRyadN"
      },
      "outputs": [],
      "source": [
        "q14_columns = [\n",
        "    'q14_part_1',\n",
        " 'q14_part_2',\n",
        " 'q14_part_3',\n",
        " 'q14_part_4',\n",
        " 'q14_part_5',\n",
        " 'q14_part_6',\n",
        " 'q14_part_7',\n",
        " 'q14_part_8',\n",
        " 'q14_part_9',\n",
        " 'q14_part_10',\n",
        " 'q14_part_11',\n",
        " 'q14_other'\n",
        "]"
      ]
    },
    {
      "cell_type": "code",
      "execution_count": 42,
      "metadata": {
        "id": "Wogx1ENZyadO"
      },
      "outputs": [],
      "source": [
        "process_one_hot_encoded_columns(q14_columns)"
      ]
    },
    {
      "cell_type": "markdown",
      "metadata": {
        "id": "fZs6fGmXyadO"
      },
      "source": [
        "## Q15 Years ML"
      ]
    },
    {
      "cell_type": "code",
      "execution_count": 43,
      "metadata": {
        "id": "VTivp_FLyadO"
      },
      "outputs": [],
      "source": [
        "q15_order = [\n",
        "    'I do not use machine learning methods',\n",
        "    'Under 1 year',\n",
        "    '1-2 years',\n",
        "    '2-3 years',\n",
        "    '3-4 years',\n",
        "    '4-5 years',\n",
        "    '5-10 years',\n",
        "    '10-20 years',\n",
        "    '20 or more years'\n",
        "]"
      ]
    },
    {
      "cell_type": "code",
      "execution_count": 44,
      "metadata": {
        "id": "anLQFp4IyadP"
      },
      "outputs": [],
      "source": [
        "process_column(\"q15\", q15_order)"
      ]
    },
    {
      "cell_type": "markdown",
      "metadata": {
        "id": "eUv932PvyadP"
      },
      "source": [
        "## Q17 ML Algorithms"
      ]
    },
    {
      "cell_type": "code",
      "execution_count": 45,
      "metadata": {
        "id": "c3Edt-r9yadP"
      },
      "outputs": [],
      "source": [
        "q17_columns = [\n",
        "    'q17_part_1',\n",
        " 'q17_part_2',\n",
        " 'q17_part_3',\n",
        " 'q17_part_4',\n",
        " 'q17_part_5',\n",
        " 'q17_part_6',\n",
        " 'q17_part_7',\n",
        " 'q17_part_8',\n",
        " 'q17_part_9',\n",
        " 'q17_part_10',\n",
        " 'q17_part_11',\n",
        " 'q17_other'\n",
        "]"
      ]
    },
    {
      "cell_type": "code",
      "execution_count": 46,
      "metadata": {
        "id": "1sDHDAG8yadP"
      },
      "outputs": [],
      "source": [
        "process_one_hot_encoded_columns(q17_columns)"
      ]
    },
    {
      "cell_type": "markdown",
      "metadata": {
        "id": "PLztmIW-yadQ"
      },
      "source": [
        "## Q20 Company Size"
      ]
    },
    {
      "cell_type": "code",
      "execution_count": 47,
      "metadata": {
        "id": "vfswhf-QyadQ"
      },
      "outputs": [],
      "source": [
        "q20_order = [\n",
        "    '0-49 employees',\n",
        "    '50-249 employees',\n",
        "    '250-999 employees',\n",
        "    '1000-9,999 employees',\n",
        "    '10,000 or more employees'\n",
        "]"
      ]
    },
    {
      "cell_type": "code",
      "execution_count": 48,
      "metadata": {
        "id": "_-Kh8dhbyadQ"
      },
      "outputs": [],
      "source": [
        "process_column(\"q20\", q20_order)"
      ]
    },
    {
      "cell_type": "markdown",
      "metadata": {
        "id": "TXO9rI9pyadQ"
      },
      "source": [
        "## Q21 Datascience Workloads"
      ]
    },
    {
      "cell_type": "code",
      "execution_count": 49,
      "metadata": {
        "id": "7m6KB75kyadR"
      },
      "outputs": [],
      "source": [
        "q21_order = [\n",
        "    '0',\n",
        "    '1-2',\n",
        "    '3-4',\n",
        "    '5-9',\n",
        "    '10-14',\n",
        "    '15-19',\n",
        "    '20'\n",
        "]"
      ]
    },
    {
      "cell_type": "code",
      "execution_count": 50,
      "metadata": {
        "id": "VnDWKjOzyadR"
      },
      "outputs": [],
      "source": [
        "process_column(\"q21\", q21_order)"
      ]
    },
    {
      "cell_type": "markdown",
      "metadata": {
        "id": "9wmF1bssyadR"
      },
      "source": [
        "## Q22 Incorporating ML"
      ]
    },
    {
      "cell_type": "markdown",
      "metadata": {
        "id": "BHn1iZxSyadR"
      },
      "source": [
        "i'm not super sure about the proper \"order\" for this question. Feel free to change this if you find it more appropriate. Just please let the chat know in case it affects others' encoding."
      ]
    },
    {
      "cell_type": "code",
      "execution_count": 51,
      "metadata": {
        "id": "SmLQOOc5yadS"
      },
      "outputs": [],
      "source": [
        "q22_order = [\n",
        "    'I do not know',\n",
        "    'No (we do not use ML methods)',\n",
        "    'We are exploring ML methods (and may one day put a model into production)',\n",
        "    'We use ML methods for generating insights (but do not put working models into production)',\n",
        "    'We recently started using ML methods (i.e., models in production for less than 2 years)',\n",
        "    'We have well established ML methods (i.e., models in production for more than 2 years)'\n",
        "]"
      ]
    },
    {
      "cell_type": "code",
      "execution_count": 52,
      "metadata": {
        "id": "eM6xTnTqyadS"
      },
      "outputs": [],
      "source": [
        "process_column(\"q22\", q22_order)"
      ]
    },
    {
      "cell_type": "markdown",
      "metadata": {
        "id": "DIGlHo-FyadS"
      },
      "source": [
        "## Q30 Big Data Products"
      ]
    },
    {
      "cell_type": "code",
      "execution_count": 53,
      "metadata": {
        "id": "9u5yY56lyadS"
      },
      "outputs": [],
      "source": [
        "column_text_to_binary(\"q30\")"
      ]
    },
    {
      "cell_type": "markdown",
      "metadata": {
        "id": "VH8JXBz3yadT"
      },
      "source": [
        "## Q32 Business Intelligence Tools"
      ]
    },
    {
      "cell_type": "code",
      "execution_count": 54,
      "metadata": {
        "id": "QEFCbN3cyadU"
      },
      "outputs": [],
      "source": [
        "column_text_to_binary(\"q32\")"
      ]
    },
    {
      "cell_type": "markdown",
      "metadata": {
        "id": "M-uxft6ByadU"
      },
      "source": [
        "## Q33 Automated ML Tools"
      ]
    },
    {
      "cell_type": "code",
      "execution_count": 55,
      "metadata": {
        "id": "fKmqoxZryadU"
      },
      "outputs": [],
      "source": [
        "q33_columns = [\n",
        "    'q33_a_part_1',\n",
        " 'q33_a_part_2',\n",
        " 'q33_a_part_3',\n",
        " 'q33_a_part_4',\n",
        " 'q33_a_part_5',\n",
        " 'q33_a_part_6',\n",
        " 'q33_a_part_7',\n",
        " 'q33_a_other'\n",
        "]"
      ]
    },
    {
      "cell_type": "code",
      "execution_count": 56,
      "metadata": {
        "id": "p4fQQwh4yadU"
      },
      "outputs": [],
      "source": [
        "combine_multiple_columns_into_one_binary(q33_columns, \"q33\")"
      ]
    },
    {
      "cell_type": "markdown",
      "metadata": {
        "id": "hZ1rq25lyadV"
      },
      "source": [
        "## Q37 Data Science Courses"
      ]
    },
    {
      "cell_type": "code",
      "execution_count": 57,
      "metadata": {
        "id": "0_ppkA-IyadV"
      },
      "outputs": [],
      "source": [
        "q37_columns = [\n",
        "    'q37_part_1',\n",
        " 'q37_part_2',\n",
        " 'q37_part_3',\n",
        " 'q37_part_4',\n",
        " 'q37_part_5',\n",
        " 'q37_part_6',\n",
        " 'q37_part_7',\n",
        " 'q37_part_8',\n",
        " 'q37_part_9',\n",
        " 'q37_part_10',\n",
        " 'q37_part_11',\n",
        " 'q37_other'\n",
        "]"
      ]
    },
    {
      "cell_type": "code",
      "execution_count": 58,
      "metadata": {
        "id": "yZ0HmAmeyadV"
      },
      "outputs": [],
      "source": [
        "process_one_hot_encoded_columns(q37_columns)"
      ]
    },
    {
      "cell_type": "markdown",
      "metadata": {
        "id": "-n2u8wSKyadV"
      },
      "source": [
        "## Q38 Primary Data Analysis Tool"
      ]
    },
    {
      "cell_type": "code",
      "execution_count": 59,
      "metadata": {
        "id": "L6J6CVKfyadW"
      },
      "outputs": [],
      "source": [
        "process_column(\"q38\")"
      ]
    },
    {
      "cell_type": "markdown",
      "metadata": {
        "id": "0QmmWN8GyadW"
      },
      "source": [
        "## Q39 Media Sources"
      ]
    },
    {
      "cell_type": "code",
      "execution_count": 60,
      "metadata": {
        "id": "jrueZXkMyadW"
      },
      "outputs": [],
      "source": [
        "q39_columns = [\n",
        "    'q39_part_1',\n",
        " 'q39_part_2',\n",
        " 'q39_part_3',\n",
        " 'q39_part_4',\n",
        " 'q39_part_5',\n",
        " 'q39_part_6',\n",
        " 'q39_part_7',\n",
        " 'q39_part_8',\n",
        " 'q39_part_9',\n",
        " 'q39_part_10',\n",
        " 'q39_part_11',\n",
        " 'q39_other'\n",
        "]"
      ]
    },
    {
      "cell_type": "code",
      "execution_count": 61,
      "metadata": {
        "id": "F7cNMcfkyadW"
      },
      "outputs": [],
      "source": [
        "process_one_hot_encoded_columns(q39_columns)"
      ]
    },
    {
      "cell_type": "markdown",
      "metadata": {
        "id": "L3IGJrL9yadW"
      },
      "source": [
        "## Dropped Columns"
      ]
    },
    {
      "cell_type": "code",
      "execution_count": 62,
      "metadata": {
        "id": "0cAL3anKyadX"
      },
      "outputs": [],
      "source": [
        "one_hot_dropped = [\n",
        "    'q33_a_part_1',\n",
        " 'q33_a_part_2',\n",
        " 'q33_a_part_3',\n",
        " 'q33_a_part_4',\n",
        " 'q33_a_part_5',\n",
        " 'q33_a_part_6',\n",
        " 'q33_a_part_7',\n",
        " 'q33_a_other',\n",
        "]"
      ]
    },
    {
      "cell_type": "code",
      "execution_count": 63,
      "metadata": {
        "id": "Lb4bCT_oyadX"
      },
      "outputs": [],
      "source": [
        "dropped_questions = [\n",
        "    \"q8\",\n",
        "    'q9_part_1',\n",
        " 'q9_part_2',\n",
        " 'q9_part_3',\n",
        " 'q9_part_4',\n",
        " 'q9_part_5',\n",
        " 'q9_part_6',\n",
        " 'q9_part_7',\n",
        " 'q9_part_8',\n",
        " 'q9_part_9',\n",
        " 'q9_part_10',\n",
        " 'q9_part_11',\n",
        " 'q9_other',\n",
        " 'q10_part_1',\n",
        " 'q10_part_2',\n",
        " 'q10_part_3',\n",
        " 'q10_part_4',\n",
        " 'q10_part_5',\n",
        " 'q10_part_6',\n",
        " 'q10_part_7',\n",
        " 'q10_part_8',\n",
        " 'q10_part_9',\n",
        " 'q10_part_10',\n",
        " 'q10_part_11',\n",
        " 'q10_part_12',\n",
        " 'q10_part_13',\n",
        " 'q10_other',\n",
        " \"q13\",\n",
        " 'q16_part_1',\n",
        " 'q16_part_2',\n",
        " 'q16_part_3',\n",
        " 'q16_part_4',\n",
        " 'q16_part_5',\n",
        " 'q16_part_6',\n",
        " 'q16_part_7',\n",
        " 'q16_part_8',\n",
        " 'q16_part_9',\n",
        " 'q16_part_10',\n",
        " 'q16_part_11',\n",
        " 'q16_part_12',\n",
        " 'q16_part_13',\n",
        " 'q16_part_14',\n",
        " 'q16_part_15',\n",
        " 'q16_other',\n",
        " 'q18_part_1',\n",
        " 'q18_part_2',\n",
        " 'q18_part_3',\n",
        " 'q18_part_4',\n",
        " 'q18_part_5',\n",
        " 'q18_part_6',\n",
        " 'q18_other',\n",
        " 'q19_part_1',\n",
        " 'q19_part_2',\n",
        " 'q19_part_3',\n",
        " 'q19_part_4',\n",
        " 'q19_part_5',\n",
        " 'q19_other',\n",
        " 'q23_part_1',\n",
        " 'q23_part_2',\n",
        " 'q23_part_3',\n",
        " 'q23_part_4',\n",
        " 'q23_part_5',\n",
        " 'q23_part_6',\n",
        " 'q23_part_7',\n",
        " 'q23_other',\n",
        " 'q24',\n",
        " 'q25',\n",
        " 'q26_a_part_1',\n",
        " 'q26_a_part_2',\n",
        " 'q26_a_part_3',\n",
        " 'q26_a_part_4',\n",
        " 'q26_a_part_5',\n",
        " 'q26_a_part_6',\n",
        " 'q26_a_part_7',\n",
        " 'q26_a_part_8',\n",
        " 'q26_a_part_9',\n",
        " 'q26_a_part_10',\n",
        " 'q26_a_part_11',\n",
        " 'q26_a_other',\n",
        " 'q27_a_part_1',\n",
        " 'q27_a_part_2',\n",
        " 'q27_a_part_3',\n",
        " 'q27_a_part_4',\n",
        " 'q27_a_part_5',\n",
        " 'q27_a_part_6',\n",
        " 'q27_a_part_7',\n",
        " 'q27_a_part_8',\n",
        " 'q27_a_part_9',\n",
        " 'q27_a_part_10',\n",
        " 'q27_a_part_11',\n",
        " 'q27_a_other',\n",
        " 'q28_a_part_1',\n",
        " 'q28_a_part_2',\n",
        " 'q28_a_part_3',\n",
        " 'q28_a_part_4',\n",
        " 'q28_a_part_5',\n",
        " 'q28_a_part_6',\n",
        " 'q28_a_part_7',\n",
        " 'q28_a_part_8',\n",
        " 'q28_a_part_9',\n",
        " 'q28_a_part_10',\n",
        " 'q28_a_other',\n",
        " 'q29_a_part_1',\n",
        " 'q29_a_part_2',\n",
        " 'q29_a_part_3',\n",
        " 'q29_a_part_4',\n",
        " 'q29_a_part_5',\n",
        " 'q29_a_part_6',\n",
        " 'q29_a_part_7',\n",
        " 'q29_a_part_8',\n",
        " 'q29_a_part_9',\n",
        " 'q29_a_part_10',\n",
        " 'q29_a_part_11',\n",
        " 'q29_a_part_12',\n",
        " 'q29_a_part_13',\n",
        " 'q29_a_part_14',\n",
        " 'q29_a_part_15',\n",
        " 'q29_a_part_16',\n",
        " 'q29_a_part_17',\n",
        " 'q29_a_other',\n",
        " 'q31_a_part_1',\n",
        " 'q31_a_part_2',\n",
        " 'q31_a_part_3',\n",
        " 'q31_a_part_4',\n",
        " 'q31_a_part_5',\n",
        " 'q31_a_part_6',\n",
        " 'q31_a_part_7',\n",
        " 'q31_a_part_8',\n",
        " 'q31_a_part_9',\n",
        " 'q31_a_part_10',\n",
        " 'q31_a_part_11',\n",
        " 'q31_a_part_12',\n",
        " 'q31_a_part_13',\n",
        " 'q31_a_part_14',\n",
        " 'q31_a_other',\n",
        " 'q34_a_part_1',\n",
        " 'q34_a_part_2',\n",
        " 'q34_a_part_3',\n",
        " 'q34_a_part_4',\n",
        " 'q34_a_part_5',\n",
        " 'q34_a_part_6',\n",
        " 'q34_a_part_7',\n",
        " 'q34_a_part_8',\n",
        " 'q34_a_part_9',\n",
        " 'q34_a_part_10',\n",
        " 'q34_a_part_11',\n",
        " 'q34_a_other',\n",
        " 'q35_a_part_1',\n",
        " 'q35_a_part_2',\n",
        " 'q35_a_part_3',\n",
        " 'q35_a_part_4',\n",
        " 'q35_a_part_5',\n",
        " 'q35_a_part_6',\n",
        " 'q35_a_part_7',\n",
        " 'q35_a_part_8',\n",
        " 'q35_a_part_9',\n",
        " 'q35_a_part_10',\n",
        " 'q35_a_other',\n",
        " 'q36_part_1',\n",
        " 'q36_part_2',\n",
        " 'q36_part_3',\n",
        " 'q36_part_4',\n",
        " 'q36_part_5',\n",
        " 'q36_part_6',\n",
        " 'q36_part_7',\n",
        " 'q36_part_8',\n",
        " 'q36_part_9',\n",
        " 'q36_other',\n",
        "]"
      ]
    },
    {
      "cell_type": "code",
      "execution_count": 64,
      "metadata": {
        "id": "BDxe3OZ-yadX"
      },
      "outputs": [],
      "source": [
        "part_b_dropped = [\n",
        "    'q26_b_part_1',\n",
        " 'q26_b_part_2',\n",
        " 'q26_b_part_3',\n",
        " 'q26_b_part_4',\n",
        " 'q26_b_part_5',\n",
        " 'q26_b_part_6',\n",
        " 'q26_b_part_7',\n",
        " 'q26_b_part_8',\n",
        " 'q26_b_part_9',\n",
        " 'q26_b_part_10',\n",
        " 'q26_b_part_11',\n",
        " 'q26_b_other',\n",
        " 'q27_b_part_1',\n",
        " 'q27_b_part_2',\n",
        " 'q27_b_part_3',\n",
        " 'q27_b_part_4',\n",
        " 'q27_b_part_5',\n",
        " 'q27_b_part_6',\n",
        " 'q27_b_part_7',\n",
        " 'q27_b_part_8',\n",
        " 'q27_b_part_9',\n",
        " 'q27_b_part_10',\n",
        " 'q27_b_part_11',\n",
        " 'q27_b_other',\n",
        " 'q28_b_part_1',\n",
        " 'q28_b_part_2',\n",
        " 'q28_b_part_3',\n",
        " 'q28_b_part_4',\n",
        " 'q28_b_part_5',\n",
        " 'q28_b_part_6',\n",
        " 'q28_b_part_7',\n",
        " 'q28_b_part_8',\n",
        " 'q28_b_part_9',\n",
        " 'q28_b_part_10',\n",
        " 'q28_b_other',\n",
        " 'q29_b_part_1',\n",
        " 'q29_b_part_2',\n",
        " 'q29_b_part_3',\n",
        " 'q29_b_part_4',\n",
        " 'q29_b_part_5',\n",
        " 'q29_b_part_6',\n",
        " 'q29_b_part_7',\n",
        " 'q29_b_part_8',\n",
        " 'q29_b_part_9',\n",
        " 'q29_b_part_10',\n",
        " 'q29_b_part_11',\n",
        " 'q29_b_part_12',\n",
        " 'q29_b_part_13',\n",
        " 'q29_b_part_14',\n",
        " 'q29_b_part_15',\n",
        " 'q29_b_part_16',\n",
        " 'q29_b_part_17',\n",
        " 'q29_b_other',\n",
        " 'q31_b_part_1',\n",
        " 'q31_b_part_2',\n",
        " 'q31_b_part_3',\n",
        " 'q31_b_part_4',\n",
        " 'q31_b_part_5',\n",
        " 'q31_b_part_6',\n",
        " 'q31_b_part_7',\n",
        " 'q31_b_part_8',\n",
        " 'q31_b_part_9',\n",
        " 'q31_b_part_10',\n",
        " 'q31_b_part_11',\n",
        " 'q31_b_part_12',\n",
        " 'q31_b_part_13',\n",
        " 'q31_b_part_14',\n",
        " 'q31_b_other',\n",
        " 'q33_b_part_1',\n",
        " 'q33_b_part_2',\n",
        " 'q33_b_part_3',\n",
        " 'q33_b_part_4',\n",
        " 'q33_b_part_5',\n",
        " 'q33_b_part_6',\n",
        " 'q33_b_part_7',\n",
        " 'q33_b_other',\n",
        " 'q34_b_part_1',\n",
        " 'q34_b_part_2',\n",
        " 'q34_b_part_3',\n",
        " 'q34_b_part_4',\n",
        " 'q34_b_part_5',\n",
        " 'q34_b_part_6',\n",
        " 'q34_b_part_7',\n",
        " 'q34_b_part_8',\n",
        " 'q34_b_part_9',\n",
        " 'q34_b_part_10',\n",
        " 'q34_b_part_11',\n",
        " 'q34_b_other',\n",
        " 'q35_b_part_1',\n",
        " 'q35_b_part_2',\n",
        " 'q35_b_part_3',\n",
        " 'q35_b_part_4',\n",
        " 'q35_b_part_5',\n",
        " 'q35_b_part_6',\n",
        " 'q35_b_part_7',\n",
        " 'q35_b_part_8',\n",
        " 'q35_b_part_9',\n",
        " 'q35_b_part_10',\n",
        " 'q35_b_other'\n",
        "]"
      ]
    },
    {
      "cell_type": "code",
      "execution_count": 65,
      "metadata": {
        "id": "G_VLqMhsyadY"
      },
      "outputs": [],
      "source": [
        "salary_data = salary_data.drop(columns = one_hot_dropped)"
      ]
    },
    {
      "cell_type": "code",
      "execution_count": 66,
      "metadata": {
        "id": "ajTY7c2DyadY"
      },
      "outputs": [],
      "source": [
        "salary_data = salary_data.drop(columns = part_b_dropped)"
      ]
    },
    {
      "cell_type": "code",
      "execution_count": 67,
      "metadata": {
        "id": "yDyN4xLwyadY"
      },
      "outputs": [],
      "source": [
        "salary_data_selected_questions = salary_data.drop(columns = dropped_questions)"
      ]
    },
    {
      "cell_type": "markdown",
      "metadata": {
        "id": "uU7FX4NlyadY"
      },
      "source": [
        "### DATA PREPROCESSING"
      ]
    },
    {
      "cell_type": "markdown",
      "metadata": {
        "id": "aQwvZmfKyadY"
      },
      "source": [
        "#### Features and Target"
      ]
    },
    {
      "cell_type": "code",
      "execution_count": 68,
      "metadata": {
        "id": "vbr7N8j1yadY"
      },
      "outputs": [],
      "source": [
        "null_indices = salary_data[salary_data['q24'].isnull()].index"
      ]
    },
    {
      "cell_type": "code",
      "execution_count": 69,
      "metadata": {
        "id": "GXrD4ycfyadY"
      },
      "outputs": [],
      "source": [
        "y = salary_data['q24'].dropna()\n",
        "X = salary_data_as_num.drop(index=null_indices)"
      ]
    },
    {
      "cell_type": "markdown",
      "metadata": {
        "id": "DPAsjkf1yadZ"
      },
      "source": [
        "#### Bin the levels of the target variables to reduce it to 4-class classification"
      ]
    },
    {
      "cell_type": "code",
      "execution_count": 70,
      "metadata": {
        "id": "leRvdIHHyadZ",
        "outputId": "06b24c54-d959-477c-f984-8debc120f22e",
        "colab": {
          "base_uri": "https://localhost:8080/"
        }
      },
      "outputs": [
        {
          "output_type": "execute_result",
          "data": {
            "text/plain": [
              "$0-999             2128\n",
              "10,000-14,999       665\n",
              "1,000-1,999         581\n",
              "100,000-124,999     573\n",
              "40,000-49,999       552\n",
              "30,000-39,999       540\n",
              "50,000-59,999       510\n",
              "5,000-7,499         488\n",
              "15,000-19,999       449\n",
              "60,000-69,999       408\n",
              "20,000-24,999       404\n",
              "70,000-79,999       394\n",
              "7,500-9,999         371\n",
              "150,000-199,999     347\n",
              "2,000-2,999         330\n",
              "125,000-149,999     315\n",
              "25,000-29,999       310\n",
              "90,000-99,999       280\n",
              "4,000-4,999         279\n",
              "80,000-89,999       273\n",
              "3,000-3,999         264\n",
              "200,000-249,999     115\n",
              "300,000-500,000      55\n",
              "> $500,000           50\n",
              "250,000-299,999      48\n",
              "Name: q24, dtype: int64"
            ]
          },
          "metadata": {},
          "execution_count": 70
        }
      ],
      "source": [
        "y.value_counts()"
      ]
    },
    {
      "cell_type": "code",
      "execution_count": 71,
      "metadata": {
        "id": "4lWb4pdAyadZ"
      },
      "outputs": [],
      "source": [
        "def binning_categories(c):\n",
        "    if c in ['$0-999','1,000-1,999','2,000-2,999','3,000-3,999','4,000-4,999','5,000-7,499','7,500-9,999']:\n",
        "        return \"0-9,999\"\n",
        "    elif c in ['10,000-14,999','15,000-19,999','20,000-24,999',\n",
        "             '25,000-29,999','30,000-39,999','40,000-49,999',\n",
        "             '50,000-59,999','60,000-69,999','70,000-79,999',\n",
        "             '80,000-89,999','90,000-99,999']:\n",
        "        return \"10,000-99,999\"\n",
        "    elif c in ['100,000-124,999','125,000-149,999','150,000-199,999',\n",
        "             '200,000-249,999','250,000-299,999','300,000-500,000']:\n",
        "        return \"100,000-500,000\"\n",
        "    else:\n",
        "        return \"> $500,000\""
      ]
    },
    {
      "cell_type": "code",
      "execution_count": 72,
      "metadata": {
        "id": "jVxZ1XVuyadZ",
        "outputId": "3682ca3c-f9df-45c9-df41-e7d3e0154bf5",
        "colab": {
          "base_uri": "https://localhost:8080/"
        }
      },
      "outputs": [
        {
          "output_type": "execute_result",
          "data": {
            "text/plain": [
              "10,000-99,999      4785\n",
              "0-9,999            4441\n",
              "100,000-500,000    1453\n",
              "> $500,000           50\n",
              "Name: q24, dtype: int64"
            ]
          },
          "metadata": {},
          "execution_count": 72
        }
      ],
      "source": [
        "y = y.apply(binning_categories)\n",
        "y.value_counts()"
      ]
    },
    {
      "cell_type": "code",
      "execution_count": 73,
      "metadata": {
        "id": "7zGKsPokyadZ"
      },
      "outputs": [],
      "source": [
        "# Train-test split\n",
        "\n",
        "from sklearn.model_selection import train_test_split\n",
        "\n",
        "X_dev, X_test, y_dev, y_test = train_test_split(X, y, random_state=42, test_size=0.2, stratify = y)\n"
      ]
    },
    {
      "cell_type": "code",
      "execution_count": 74,
      "metadata": {
        "id": "EzbYUi3FyadZ"
      },
      "outputs": [],
      "source": [
        "# label enc y\n",
        "\n",
        "from sklearn.preprocessing import LabelEncoder\n",
        "\n",
        "l_enc = LabelEncoder()\n",
        "y_dev_encoded = l_enc.fit_transform(y_dev)\n",
        "y_test_encoded = l_enc.transform(y_test)"
      ]
    },
    {
      "cell_type": "code",
      "execution_count": 75,
      "metadata": {
        "id": "kMC1Hq51yada"
      },
      "outputs": [],
      "source": [
        "from sklearn.metrics import roc_auc_score"
      ]
    },
    {
      "cell_type": "code",
      "source": [
        "y_dev_encoded_series = pd.Series(y_dev_encoded)\n",
        "\n",
        "# Now you can use value_counts\n",
        "value_counts = y_dev_encoded_series.value_counts()\n",
        "print(value_counts)"
      ],
      "metadata": {
        "colab": {
          "base_uri": "https://localhost:8080/"
        },
        "id": "9t18gK0Z2IG4",
        "outputId": "db12b3f0-5bd1-4fec-eaf7-9a032edde145"
      },
      "execution_count": 76,
      "outputs": [
        {
          "output_type": "stream",
          "name": "stdout",
          "text": [
            "1    3828\n",
            "0    3553\n",
            "2    1162\n",
            "3      40\n",
            "dtype: int64\n"
          ]
        }
      ]
    },
    {
      "cell_type": "code",
      "execution_count": 77,
      "metadata": {
        "id": "6CPGUnhfEz1X"
      },
      "outputs": [],
      "source": [
        "from sklearn.metrics import roc_auc_score"
      ]
    },
    {
      "cell_type": "code",
      "source": [
        "!pip install scikit-learn  lightgbm catboostxgboost"
      ],
      "metadata": {
        "id": "uiFgG736qDr-",
        "colab": {
          "base_uri": "https://localhost:8080/"
        },
        "outputId": "bfc3db08-2940-40da-9e3a-318e546a8c01"
      },
      "execution_count": 78,
      "outputs": [
        {
          "output_type": "stream",
          "name": "stdout",
          "text": [
            "Requirement already satisfied: scikit-learn in /usr/local/lib/python3.10/dist-packages (1.2.2)\n",
            "Requirement already satisfied: xgboost in /usr/local/lib/python3.10/dist-packages (2.0.2)\n",
            "Requirement already satisfied: lightgbm in /usr/local/lib/python3.10/dist-packages (4.1.0)\n",
            "Collecting catboost\n",
            "  Downloading catboost-1.2.2-cp310-cp310-manylinux2014_x86_64.whl (98.7 MB)\n",
            "\u001b[2K     \u001b[90m━━━━━━━━━━━━━━━━━━━━━━━━━━━━━━━━━━━━━━━━\u001b[0m \u001b[32m98.7/98.7 MB\u001b[0m \u001b[31m15.9 MB/s\u001b[0m eta \u001b[36m0:00:00\u001b[0m\n",
            "\u001b[?25hRequirement already satisfied: numpy>=1.17.3 in /usr/local/lib/python3.10/dist-packages (from scikit-learn) (1.23.5)\n",
            "Requirement already satisfied: scipy>=1.3.2 in /usr/local/lib/python3.10/dist-packages (from scikit-learn) (1.11.4)\n",
            "Requirement already satisfied: joblib>=1.1.1 in /usr/local/lib/python3.10/dist-packages (from scikit-learn) (1.3.2)\n",
            "Requirement already satisfied: threadpoolctl>=2.0.0 in /usr/local/lib/python3.10/dist-packages (from scikit-learn) (3.2.0)\n",
            "Requirement already satisfied: graphviz in /usr/local/lib/python3.10/dist-packages (from catboost) (0.20.1)\n",
            "Requirement already satisfied: matplotlib in /usr/local/lib/python3.10/dist-packages (from catboost) (3.7.1)\n",
            "Requirement already satisfied: pandas>=0.24 in /usr/local/lib/python3.10/dist-packages (from catboost) (1.5.3)\n",
            "Requirement already satisfied: plotly in /usr/local/lib/python3.10/dist-packages (from catboost) (5.15.0)\n",
            "Requirement already satisfied: six in /usr/local/lib/python3.10/dist-packages (from catboost) (1.16.0)\n",
            "Requirement already satisfied: python-dateutil>=2.8.1 in /usr/local/lib/python3.10/dist-packages (from pandas>=0.24->catboost) (2.8.2)\n",
            "Requirement already satisfied: pytz>=2020.1 in /usr/local/lib/python3.10/dist-packages (from pandas>=0.24->catboost) (2023.3.post1)\n",
            "Requirement already satisfied: contourpy>=1.0.1 in /usr/local/lib/python3.10/dist-packages (from matplotlib->catboost) (1.2.0)\n",
            "Requirement already satisfied: cycler>=0.10 in /usr/local/lib/python3.10/dist-packages (from matplotlib->catboost) (0.12.1)\n",
            "Requirement already satisfied: fonttools>=4.22.0 in /usr/local/lib/python3.10/dist-packages (from matplotlib->catboost) (4.45.1)\n",
            "Requirement already satisfied: kiwisolver>=1.0.1 in /usr/local/lib/python3.10/dist-packages (from matplotlib->catboost) (1.4.5)\n",
            "Requirement already satisfied: packaging>=20.0 in /usr/local/lib/python3.10/dist-packages (from matplotlib->catboost) (23.2)\n",
            "Requirement already satisfied: pillow>=6.2.0 in /usr/local/lib/python3.10/dist-packages (from matplotlib->catboost) (9.4.0)\n",
            "Requirement already satisfied: pyparsing>=2.3.1 in /usr/local/lib/python3.10/dist-packages (from matplotlib->catboost) (3.1.1)\n",
            "Requirement already satisfied: tenacity>=6.2.0 in /usr/local/lib/python3.10/dist-packages (from plotly->catboost) (8.2.3)\n",
            "Installing collected packages: catboost\n",
            "Successfully installed catboost-1.2.2\n"
          ]
        }
      ]
    },
    {
      "cell_type": "markdown",
      "metadata": {
        "id": "7mVLDIXwEz1Y"
      },
      "source": [
        "## BOOSTING CLASSIFIER"
      ]
    },
    {
      "cell_type": "code",
      "execution_count": 86,
      "metadata": {
        "id": "-FdXrmZxEz1Y"
      },
      "outputs": [],
      "source": [
        "from sklearn.ensemble import GradientBoostingClassifier\n",
        "import xgboost as xgb"
      ]
    },
    {
      "cell_type": "markdown",
      "metadata": {
        "id": "degPL2AoEz1Y"
      },
      "source": [
        "### BASELINE MODEL"
      ]
    },
    {
      "cell_type": "markdown",
      "metadata": {
        "id": "bHEefCBcEz1Y"
      },
      "source": [
        "#### Training"
      ]
    },
    {
      "cell_type": "code",
      "execution_count": 110,
      "metadata": {
        "colab": {
          "base_uri": "https://localhost:8080/",
          "height": 74
        },
        "id": "BIygdsDREz1Y",
        "outputId": "2dad12a5-8864-40f6-e26c-bef864220532"
      },
      "outputs": [
        {
          "output_type": "execute_result",
          "data": {
            "text/plain": [
              "GradientBoostingClassifier(random_state=84)"
            ],
            "text/html": [
              "<style>#sk-container-id-6 {color: black;background-color: white;}#sk-container-id-6 pre{padding: 0;}#sk-container-id-6 div.sk-toggleable {background-color: white;}#sk-container-id-6 label.sk-toggleable__label {cursor: pointer;display: block;width: 100%;margin-bottom: 0;padding: 0.3em;box-sizing: border-box;text-align: center;}#sk-container-id-6 label.sk-toggleable__label-arrow:before {content: \"▸\";float: left;margin-right: 0.25em;color: #696969;}#sk-container-id-6 label.sk-toggleable__label-arrow:hover:before {color: black;}#sk-container-id-6 div.sk-estimator:hover label.sk-toggleable__label-arrow:before {color: black;}#sk-container-id-6 div.sk-toggleable__content {max-height: 0;max-width: 0;overflow: hidden;text-align: left;background-color: #f0f8ff;}#sk-container-id-6 div.sk-toggleable__content pre {margin: 0.2em;color: black;border-radius: 0.25em;background-color: #f0f8ff;}#sk-container-id-6 input.sk-toggleable__control:checked~div.sk-toggleable__content {max-height: 200px;max-width: 100%;overflow: auto;}#sk-container-id-6 input.sk-toggleable__control:checked~label.sk-toggleable__label-arrow:before {content: \"▾\";}#sk-container-id-6 div.sk-estimator input.sk-toggleable__control:checked~label.sk-toggleable__label {background-color: #d4ebff;}#sk-container-id-6 div.sk-label input.sk-toggleable__control:checked~label.sk-toggleable__label {background-color: #d4ebff;}#sk-container-id-6 input.sk-hidden--visually {border: 0;clip: rect(1px 1px 1px 1px);clip: rect(1px, 1px, 1px, 1px);height: 1px;margin: -1px;overflow: hidden;padding: 0;position: absolute;width: 1px;}#sk-container-id-6 div.sk-estimator {font-family: monospace;background-color: #f0f8ff;border: 1px dotted black;border-radius: 0.25em;box-sizing: border-box;margin-bottom: 0.5em;}#sk-container-id-6 div.sk-estimator:hover {background-color: #d4ebff;}#sk-container-id-6 div.sk-parallel-item::after {content: \"\";width: 100%;border-bottom: 1px solid gray;flex-grow: 1;}#sk-container-id-6 div.sk-label:hover label.sk-toggleable__label {background-color: #d4ebff;}#sk-container-id-6 div.sk-serial::before {content: \"\";position: absolute;border-left: 1px solid gray;box-sizing: border-box;top: 0;bottom: 0;left: 50%;z-index: 0;}#sk-container-id-6 div.sk-serial {display: flex;flex-direction: column;align-items: center;background-color: white;padding-right: 0.2em;padding-left: 0.2em;position: relative;}#sk-container-id-6 div.sk-item {position: relative;z-index: 1;}#sk-container-id-6 div.sk-parallel {display: flex;align-items: stretch;justify-content: center;background-color: white;position: relative;}#sk-container-id-6 div.sk-item::before, #sk-container-id-6 div.sk-parallel-item::before {content: \"\";position: absolute;border-left: 1px solid gray;box-sizing: border-box;top: 0;bottom: 0;left: 50%;z-index: -1;}#sk-container-id-6 div.sk-parallel-item {display: flex;flex-direction: column;z-index: 1;position: relative;background-color: white;}#sk-container-id-6 div.sk-parallel-item:first-child::after {align-self: flex-end;width: 50%;}#sk-container-id-6 div.sk-parallel-item:last-child::after {align-self: flex-start;width: 50%;}#sk-container-id-6 div.sk-parallel-item:only-child::after {width: 0;}#sk-container-id-6 div.sk-dashed-wrapped {border: 1px dashed gray;margin: 0 0.4em 0.5em 0.4em;box-sizing: border-box;padding-bottom: 0.4em;background-color: white;}#sk-container-id-6 div.sk-label label {font-family: monospace;font-weight: bold;display: inline-block;line-height: 1.2em;}#sk-container-id-6 div.sk-label-container {text-align: center;}#sk-container-id-6 div.sk-container {/* jupyter's `normalize.less` sets `[hidden] { display: none; }` but bootstrap.min.css set `[hidden] { display: none !important; }` so we also need the `!important` here to be able to override the default hidden behavior on the sphinx rendered scikit-learn.org. See: https://github.com/scikit-learn/scikit-learn/issues/21755 */display: inline-block !important;position: relative;}#sk-container-id-6 div.sk-text-repr-fallback {display: none;}</style><div id=\"sk-container-id-6\" class=\"sk-top-container\"><div class=\"sk-text-repr-fallback\"><pre>GradientBoostingClassifier(random_state=84)</pre><b>In a Jupyter environment, please rerun this cell to show the HTML representation or trust the notebook. <br />On GitHub, the HTML representation is unable to render, please try loading this page with nbviewer.org.</b></div><div class=\"sk-container\" hidden><div class=\"sk-item\"><div class=\"sk-estimator sk-toggleable\"><input class=\"sk-toggleable__control sk-hidden--visually\" id=\"sk-estimator-id-6\" type=\"checkbox\" checked><label for=\"sk-estimator-id-6\" class=\"sk-toggleable__label sk-toggleable__label-arrow\">GradientBoostingClassifier</label><div class=\"sk-toggleable__content\"><pre>GradientBoostingClassifier(random_state=84)</pre></div></div></div></div></div>"
            ]
          },
          "metadata": {},
          "execution_count": 110
        }
      ],
      "source": [
        "bgc = GradientBoostingClassifier(random_state = 84)\n",
        "bgc.fit(X_dev, y_dev_encoded)"
      ]
    },
    {
      "cell_type": "markdown",
      "metadata": {
        "id": "97Oe3HIGEz1Y"
      },
      "source": [
        "#### Evaluation"
      ]
    },
    {
      "cell_type": "code",
      "execution_count": 111,
      "metadata": {
        "colab": {
          "base_uri": "https://localhost:8080/"
        },
        "id": "qSkdUm6dEz1Y",
        "outputId": "f6c8a2c2-dece-491a-f06a-b3d5922eccdc"
      },
      "outputs": [
        {
          "output_type": "stream",
          "name": "stdout",
          "text": [
            "The ROC-AUC score for this model is: 0.8204\n"
          ]
        }
      ],
      "source": [
        "print(f\"The ROC-AUC score for this model is: {roc_auc_score(y_test_encoded, bgc.predict_proba(X_test), average='weighted', multi_class='ovr'):.4f}\")"
      ]
    },
    {
      "cell_type": "code",
      "source": [
        "# # Identify columns with object dtype\n",
        "print(X_dev.columns)\n",
        "categorical_columns = X_dev.columns\n",
        "for col in categorical_columns:\n",
        "    X_dev[col] = X_dev[col].astype('category')\n",
        "    X_test[col] = X_test[col].astype('category')\n",
        "\n",
        "# Now, fit the XGBoost model\n",
        "xgbc = xgb.XGBClassifier(random_state=84,enable_categorical=True)\n",
        "xgbc.fit(X_dev, y_dev_encoded)"
      ],
      "metadata": {
        "id": "6dRdIT4Hp9FV",
        "colab": {
          "base_uri": "https://localhost:8080/",
          "height": 525
        },
        "outputId": "d3e4ca23-f359-4adc-8878-88046e2cc367"
      },
      "execution_count": 112,
      "outputs": [
        {
          "output_type": "stream",
          "name": "stdout",
          "text": [
            "Index(['q1', 'q2', 'q3', 'q4', 'q5', 'q6', 'q7_part_1', 'q7_part_2',\n",
            "       'q7_part_3', 'q7_part_4', 'q7_part_5', 'q7_part_6', 'q7_part_7',\n",
            "       'q7_part_8', 'q7_part_9', 'q7_part_10', 'q7_part_11', 'q7_part_12',\n",
            "       'q7_other', 'q11', 'q12_part_1', 'q12_part_2', 'q12_part_3',\n",
            "       'q12_other', 'q14_part_1', 'q14_part_2', 'q14_part_3', 'q14_part_4',\n",
            "       'q14_part_5', 'q14_part_6', 'q14_part_7', 'q14_part_8', 'q14_part_9',\n",
            "       'q14_part_10', 'q14_part_11', 'q14_other', 'q15', 'q17_part_1',\n",
            "       'q17_part_2', 'q17_part_3', 'q17_part_4', 'q17_part_5', 'q17_part_6',\n",
            "       'q17_part_7', 'q17_part_8', 'q17_part_9', 'q17_part_10', 'q17_part_11',\n",
            "       'q17_other', 'q20', 'q21', 'q22', 'q30', 'q32', 'q33', 'q37_part_1',\n",
            "       'q37_part_2', 'q37_part_3', 'q37_part_4', 'q37_part_5', 'q37_part_6',\n",
            "       'q37_part_7', 'q37_part_8', 'q37_part_9', 'q37_part_10', 'q37_part_11',\n",
            "       'q37_other', 'q38', 'q39_part_1', 'q39_part_2', 'q39_part_3',\n",
            "       'q39_part_4', 'q39_part_5', 'q39_part_6', 'q39_part_7', 'q39_part_8',\n",
            "       'q39_part_9', 'q39_part_10', 'q39_part_11', 'q39_other'],\n",
            "      dtype='object')\n"
          ]
        },
        {
          "output_type": "execute_result",
          "data": {
            "text/plain": [
              "XGBClassifier(base_score=None, booster=None, callbacks=None,\n",
              "              colsample_bylevel=None, colsample_bynode=None,\n",
              "              colsample_bytree=None, device=None, early_stopping_rounds=None,\n",
              "              enable_categorical=True, eval_metric=None, feature_types=None,\n",
              "              gamma=None, grow_policy=None, importance_type=None,\n",
              "              interaction_constraints=None, learning_rate=None, max_bin=None,\n",
              "              max_cat_threshold=None, max_cat_to_onehot=None,\n",
              "              max_delta_step=None, max_depth=None, max_leaves=None,\n",
              "              min_child_weight=None, missing=nan, monotone_constraints=None,\n",
              "              multi_strategy=None, n_estimators=None, n_jobs=None,\n",
              "              num_parallel_tree=None, objective='multi:softprob', ...)"
            ],
            "text/html": [
              "<style>#sk-container-id-7 {color: black;background-color: white;}#sk-container-id-7 pre{padding: 0;}#sk-container-id-7 div.sk-toggleable {background-color: white;}#sk-container-id-7 label.sk-toggleable__label {cursor: pointer;display: block;width: 100%;margin-bottom: 0;padding: 0.3em;box-sizing: border-box;text-align: center;}#sk-container-id-7 label.sk-toggleable__label-arrow:before {content: \"▸\";float: left;margin-right: 0.25em;color: #696969;}#sk-container-id-7 label.sk-toggleable__label-arrow:hover:before {color: black;}#sk-container-id-7 div.sk-estimator:hover label.sk-toggleable__label-arrow:before {color: black;}#sk-container-id-7 div.sk-toggleable__content {max-height: 0;max-width: 0;overflow: hidden;text-align: left;background-color: #f0f8ff;}#sk-container-id-7 div.sk-toggleable__content pre {margin: 0.2em;color: black;border-radius: 0.25em;background-color: #f0f8ff;}#sk-container-id-7 input.sk-toggleable__control:checked~div.sk-toggleable__content {max-height: 200px;max-width: 100%;overflow: auto;}#sk-container-id-7 input.sk-toggleable__control:checked~label.sk-toggleable__label-arrow:before {content: \"▾\";}#sk-container-id-7 div.sk-estimator input.sk-toggleable__control:checked~label.sk-toggleable__label {background-color: #d4ebff;}#sk-container-id-7 div.sk-label input.sk-toggleable__control:checked~label.sk-toggleable__label {background-color: #d4ebff;}#sk-container-id-7 input.sk-hidden--visually {border: 0;clip: rect(1px 1px 1px 1px);clip: rect(1px, 1px, 1px, 1px);height: 1px;margin: -1px;overflow: hidden;padding: 0;position: absolute;width: 1px;}#sk-container-id-7 div.sk-estimator {font-family: monospace;background-color: #f0f8ff;border: 1px dotted black;border-radius: 0.25em;box-sizing: border-box;margin-bottom: 0.5em;}#sk-container-id-7 div.sk-estimator:hover {background-color: #d4ebff;}#sk-container-id-7 div.sk-parallel-item::after {content: \"\";width: 100%;border-bottom: 1px solid gray;flex-grow: 1;}#sk-container-id-7 div.sk-label:hover label.sk-toggleable__label {background-color: #d4ebff;}#sk-container-id-7 div.sk-serial::before {content: \"\";position: absolute;border-left: 1px solid gray;box-sizing: border-box;top: 0;bottom: 0;left: 50%;z-index: 0;}#sk-container-id-7 div.sk-serial {display: flex;flex-direction: column;align-items: center;background-color: white;padding-right: 0.2em;padding-left: 0.2em;position: relative;}#sk-container-id-7 div.sk-item {position: relative;z-index: 1;}#sk-container-id-7 div.sk-parallel {display: flex;align-items: stretch;justify-content: center;background-color: white;position: relative;}#sk-container-id-7 div.sk-item::before, #sk-container-id-7 div.sk-parallel-item::before {content: \"\";position: absolute;border-left: 1px solid gray;box-sizing: border-box;top: 0;bottom: 0;left: 50%;z-index: -1;}#sk-container-id-7 div.sk-parallel-item {display: flex;flex-direction: column;z-index: 1;position: relative;background-color: white;}#sk-container-id-7 div.sk-parallel-item:first-child::after {align-self: flex-end;width: 50%;}#sk-container-id-7 div.sk-parallel-item:last-child::after {align-self: flex-start;width: 50%;}#sk-container-id-7 div.sk-parallel-item:only-child::after {width: 0;}#sk-container-id-7 div.sk-dashed-wrapped {border: 1px dashed gray;margin: 0 0.4em 0.5em 0.4em;box-sizing: border-box;padding-bottom: 0.4em;background-color: white;}#sk-container-id-7 div.sk-label label {font-family: monospace;font-weight: bold;display: inline-block;line-height: 1.2em;}#sk-container-id-7 div.sk-label-container {text-align: center;}#sk-container-id-7 div.sk-container {/* jupyter's `normalize.less` sets `[hidden] { display: none; }` but bootstrap.min.css set `[hidden] { display: none !important; }` so we also need the `!important` here to be able to override the default hidden behavior on the sphinx rendered scikit-learn.org. See: https://github.com/scikit-learn/scikit-learn/issues/21755 */display: inline-block !important;position: relative;}#sk-container-id-7 div.sk-text-repr-fallback {display: none;}</style><div id=\"sk-container-id-7\" class=\"sk-top-container\"><div class=\"sk-text-repr-fallback\"><pre>XGBClassifier(base_score=None, booster=None, callbacks=None,\n",
              "              colsample_bylevel=None, colsample_bynode=None,\n",
              "              colsample_bytree=None, device=None, early_stopping_rounds=None,\n",
              "              enable_categorical=True, eval_metric=None, feature_types=None,\n",
              "              gamma=None, grow_policy=None, importance_type=None,\n",
              "              interaction_constraints=None, learning_rate=None, max_bin=None,\n",
              "              max_cat_threshold=None, max_cat_to_onehot=None,\n",
              "              max_delta_step=None, max_depth=None, max_leaves=None,\n",
              "              min_child_weight=None, missing=nan, monotone_constraints=None,\n",
              "              multi_strategy=None, n_estimators=None, n_jobs=None,\n",
              "              num_parallel_tree=None, objective=&#x27;multi:softprob&#x27;, ...)</pre><b>In a Jupyter environment, please rerun this cell to show the HTML representation or trust the notebook. <br />On GitHub, the HTML representation is unable to render, please try loading this page with nbviewer.org.</b></div><div class=\"sk-container\" hidden><div class=\"sk-item\"><div class=\"sk-estimator sk-toggleable\"><input class=\"sk-toggleable__control sk-hidden--visually\" id=\"sk-estimator-id-7\" type=\"checkbox\" checked><label for=\"sk-estimator-id-7\" class=\"sk-toggleable__label sk-toggleable__label-arrow\">XGBClassifier</label><div class=\"sk-toggleable__content\"><pre>XGBClassifier(base_score=None, booster=None, callbacks=None,\n",
              "              colsample_bylevel=None, colsample_bynode=None,\n",
              "              colsample_bytree=None, device=None, early_stopping_rounds=None,\n",
              "              enable_categorical=True, eval_metric=None, feature_types=None,\n",
              "              gamma=None, grow_policy=None, importance_type=None,\n",
              "              interaction_constraints=None, learning_rate=None, max_bin=None,\n",
              "              max_cat_threshold=None, max_cat_to_onehot=None,\n",
              "              max_delta_step=None, max_depth=None, max_leaves=None,\n",
              "              min_child_weight=None, missing=nan, monotone_constraints=None,\n",
              "              multi_strategy=None, n_estimators=None, n_jobs=None,\n",
              "              num_parallel_tree=None, objective=&#x27;multi:softprob&#x27;, ...)</pre></div></div></div></div></div>"
            ]
          },
          "metadata": {},
          "execution_count": 112
        }
      ]
    },
    {
      "cell_type": "code",
      "source": [
        "print(f\"The ROC-AUC score for this model is: {roc_auc_score(y_test_encoded, xgbc.predict_proba(X_test), average='weighted', multi_class='ovr'):.4f}\")"
      ],
      "metadata": {
        "colab": {
          "base_uri": "https://localhost:8080/"
        },
        "id": "HydBgk3O1xA7",
        "outputId": "44d69f6f-9482-439a-9ffc-e68bc2f316e3"
      },
      "execution_count": 113,
      "outputs": [
        {
          "output_type": "stream",
          "name": "stdout",
          "text": [
            "The ROC-AUC score for this model is: 0.8287\n"
          ]
        }
      ]
    },
    {
      "cell_type": "code",
      "source": [
        "import lightgbm as lgb\n",
        "\n",
        "lgbm = lgb.LGBMClassifier(random_state=84)\n",
        "lgbm.fit(X_dev, y_dev_encoded)"
      ],
      "metadata": {
        "id": "cXM1Vsdip-rp",
        "colab": {
          "base_uri": "https://localhost:8080/",
          "height": 230
        },
        "outputId": "dbcd43ba-ce6e-46c4-e085-6fda7ef1c0e5"
      },
      "execution_count": 114,
      "outputs": [
        {
          "output_type": "stream",
          "name": "stdout",
          "text": [
            "[LightGBM] [Info] Auto-choosing row-wise multi-threading, the overhead of testing was 0.002110 seconds.\n",
            "You can set `force_row_wise=true` to remove the overhead.\n",
            "And if memory is not enough, you can set `force_col_wise=true`.\n",
            "[LightGBM] [Info] Total Bins 349\n",
            "[LightGBM] [Info] Number of data points in the train set: 8583, number of used features: 80\n",
            "[LightGBM] [Info] Start training from score -0.881991\n",
            "[LightGBM] [Info] Start training from score -0.807441\n",
            "[LightGBM] [Info] Start training from score -1.999641\n",
            "[LightGBM] [Info] Start training from score -5.368659\n"
          ]
        },
        {
          "output_type": "execute_result",
          "data": {
            "text/plain": [
              "LGBMClassifier(random_state=84)"
            ],
            "text/html": [
              "<style>#sk-container-id-8 {color: black;background-color: white;}#sk-container-id-8 pre{padding: 0;}#sk-container-id-8 div.sk-toggleable {background-color: white;}#sk-container-id-8 label.sk-toggleable__label {cursor: pointer;display: block;width: 100%;margin-bottom: 0;padding: 0.3em;box-sizing: border-box;text-align: center;}#sk-container-id-8 label.sk-toggleable__label-arrow:before {content: \"▸\";float: left;margin-right: 0.25em;color: #696969;}#sk-container-id-8 label.sk-toggleable__label-arrow:hover:before {color: black;}#sk-container-id-8 div.sk-estimator:hover label.sk-toggleable__label-arrow:before {color: black;}#sk-container-id-8 div.sk-toggleable__content {max-height: 0;max-width: 0;overflow: hidden;text-align: left;background-color: #f0f8ff;}#sk-container-id-8 div.sk-toggleable__content pre {margin: 0.2em;color: black;border-radius: 0.25em;background-color: #f0f8ff;}#sk-container-id-8 input.sk-toggleable__control:checked~div.sk-toggleable__content {max-height: 200px;max-width: 100%;overflow: auto;}#sk-container-id-8 input.sk-toggleable__control:checked~label.sk-toggleable__label-arrow:before {content: \"▾\";}#sk-container-id-8 div.sk-estimator input.sk-toggleable__control:checked~label.sk-toggleable__label {background-color: #d4ebff;}#sk-container-id-8 div.sk-label input.sk-toggleable__control:checked~label.sk-toggleable__label {background-color: #d4ebff;}#sk-container-id-8 input.sk-hidden--visually {border: 0;clip: rect(1px 1px 1px 1px);clip: rect(1px, 1px, 1px, 1px);height: 1px;margin: -1px;overflow: hidden;padding: 0;position: absolute;width: 1px;}#sk-container-id-8 div.sk-estimator {font-family: monospace;background-color: #f0f8ff;border: 1px dotted black;border-radius: 0.25em;box-sizing: border-box;margin-bottom: 0.5em;}#sk-container-id-8 div.sk-estimator:hover {background-color: #d4ebff;}#sk-container-id-8 div.sk-parallel-item::after {content: \"\";width: 100%;border-bottom: 1px solid gray;flex-grow: 1;}#sk-container-id-8 div.sk-label:hover label.sk-toggleable__label {background-color: #d4ebff;}#sk-container-id-8 div.sk-serial::before {content: \"\";position: absolute;border-left: 1px solid gray;box-sizing: border-box;top: 0;bottom: 0;left: 50%;z-index: 0;}#sk-container-id-8 div.sk-serial {display: flex;flex-direction: column;align-items: center;background-color: white;padding-right: 0.2em;padding-left: 0.2em;position: relative;}#sk-container-id-8 div.sk-item {position: relative;z-index: 1;}#sk-container-id-8 div.sk-parallel {display: flex;align-items: stretch;justify-content: center;background-color: white;position: relative;}#sk-container-id-8 div.sk-item::before, #sk-container-id-8 div.sk-parallel-item::before {content: \"\";position: absolute;border-left: 1px solid gray;box-sizing: border-box;top: 0;bottom: 0;left: 50%;z-index: -1;}#sk-container-id-8 div.sk-parallel-item {display: flex;flex-direction: column;z-index: 1;position: relative;background-color: white;}#sk-container-id-8 div.sk-parallel-item:first-child::after {align-self: flex-end;width: 50%;}#sk-container-id-8 div.sk-parallel-item:last-child::after {align-self: flex-start;width: 50%;}#sk-container-id-8 div.sk-parallel-item:only-child::after {width: 0;}#sk-container-id-8 div.sk-dashed-wrapped {border: 1px dashed gray;margin: 0 0.4em 0.5em 0.4em;box-sizing: border-box;padding-bottom: 0.4em;background-color: white;}#sk-container-id-8 div.sk-label label {font-family: monospace;font-weight: bold;display: inline-block;line-height: 1.2em;}#sk-container-id-8 div.sk-label-container {text-align: center;}#sk-container-id-8 div.sk-container {/* jupyter's `normalize.less` sets `[hidden] { display: none; }` but bootstrap.min.css set `[hidden] { display: none !important; }` so we also need the `!important` here to be able to override the default hidden behavior on the sphinx rendered scikit-learn.org. See: https://github.com/scikit-learn/scikit-learn/issues/21755 */display: inline-block !important;position: relative;}#sk-container-id-8 div.sk-text-repr-fallback {display: none;}</style><div id=\"sk-container-id-8\" class=\"sk-top-container\"><div class=\"sk-text-repr-fallback\"><pre>LGBMClassifier(random_state=84)</pre><b>In a Jupyter environment, please rerun this cell to show the HTML representation or trust the notebook. <br />On GitHub, the HTML representation is unable to render, please try loading this page with nbviewer.org.</b></div><div class=\"sk-container\" hidden><div class=\"sk-item\"><div class=\"sk-estimator sk-toggleable\"><input class=\"sk-toggleable__control sk-hidden--visually\" id=\"sk-estimator-id-8\" type=\"checkbox\" checked><label for=\"sk-estimator-id-8\" class=\"sk-toggleable__label sk-toggleable__label-arrow\">LGBMClassifier</label><div class=\"sk-toggleable__content\"><pre>LGBMClassifier(random_state=84)</pre></div></div></div></div></div>"
            ]
          },
          "metadata": {},
          "execution_count": 114
        }
      ]
    },
    {
      "cell_type": "code",
      "source": [
        "print(f\"The ROC-AUC score for this model is: {roc_auc_score(y_test_encoded, lgbm.predict_proba(X_test), average='weighted', multi_class='ovr'):.4f}\")"
      ],
      "metadata": {
        "colab": {
          "base_uri": "https://localhost:8080/"
        },
        "id": "eqww3Gaqrb6W",
        "outputId": "a78d5bf6-7f9d-4c6e-a401-77a3db854955"
      },
      "execution_count": 116,
      "outputs": [
        {
          "output_type": "stream",
          "name": "stdout",
          "text": [
            "The ROC-AUC score for this model is: 0.8364\n"
          ]
        }
      ]
    },
    {
      "cell_type": "code",
      "source": [
        "from catboost import CatBoostClassifier\n",
        "categorical_features = X_dev.columns.tolist()\n",
        "catboost = CatBoostClassifier(random_state=84, cat_features=categorical_features)\n",
        "catboost.fit(X_dev, y_dev_encoded)"
      ],
      "metadata": {
        "id": "e_ynuxoKqAEe",
        "colab": {
          "base_uri": "https://localhost:8080/"
        },
        "outputId": "5a91ea01-0b79-4501-8635-e5aa55c8e4ed"
      },
      "execution_count": 117,
      "outputs": [
        {
          "output_type": "stream",
          "name": "stdout",
          "text": [
            "Learning rate set to 0.088296\n",
            "0:\tlearn: 1.2945819\ttotal: 22ms\tremaining: 22s\n",
            "1:\tlearn: 1.2217874\ttotal: 43.9ms\tremaining: 21.9s\n",
            "2:\tlearn: 1.1622689\ttotal: 62.7ms\tremaining: 20.8s\n",
            "3:\tlearn: 1.1081777\ttotal: 82ms\tremaining: 20.4s\n",
            "4:\tlearn: 1.0661290\ttotal: 106ms\tremaining: 21.1s\n",
            "5:\tlearn: 1.0265370\ttotal: 127ms\tremaining: 21.1s\n",
            "6:\tlearn: 0.9924280\ttotal: 151ms\tremaining: 21.4s\n",
            "7:\tlearn: 0.9638557\ttotal: 172ms\tremaining: 21.3s\n",
            "8:\tlearn: 0.9370651\ttotal: 194ms\tremaining: 21.4s\n",
            "9:\tlearn: 0.9148388\ttotal: 217ms\tremaining: 21.5s\n",
            "10:\tlearn: 0.8959417\ttotal: 236ms\tremaining: 21.2s\n",
            "11:\tlearn: 0.8767641\ttotal: 256ms\tremaining: 21.1s\n",
            "12:\tlearn: 0.8639732\ttotal: 265ms\tremaining: 20.1s\n",
            "13:\tlearn: 0.8494394\ttotal: 284ms\tremaining: 20s\n",
            "14:\tlearn: 0.8357664\ttotal: 305ms\tremaining: 20s\n",
            "15:\tlearn: 0.8231348\ttotal: 329ms\tremaining: 20.2s\n",
            "16:\tlearn: 0.8122122\ttotal: 352ms\tremaining: 20.4s\n",
            "17:\tlearn: 0.8024805\ttotal: 375ms\tremaining: 20.4s\n",
            "18:\tlearn: 0.7947657\ttotal: 400ms\tremaining: 20.6s\n",
            "19:\tlearn: 0.7863225\ttotal: 426ms\tremaining: 20.9s\n",
            "20:\tlearn: 0.7780828\ttotal: 451ms\tremaining: 21s\n",
            "21:\tlearn: 0.7715284\ttotal: 475ms\tremaining: 21.1s\n",
            "22:\tlearn: 0.7650150\ttotal: 497ms\tremaining: 21.1s\n",
            "23:\tlearn: 0.7592573\ttotal: 520ms\tremaining: 21.1s\n",
            "24:\tlearn: 0.7534391\ttotal: 544ms\tremaining: 21.2s\n",
            "25:\tlearn: 0.7488929\ttotal: 567ms\tremaining: 21.2s\n",
            "26:\tlearn: 0.7443039\ttotal: 588ms\tremaining: 21.2s\n",
            "27:\tlearn: 0.7391882\ttotal: 611ms\tremaining: 21.2s\n",
            "28:\tlearn: 0.7351891\ttotal: 635ms\tremaining: 21.3s\n",
            "29:\tlearn: 0.7311025\ttotal: 660ms\tremaining: 21.4s\n",
            "30:\tlearn: 0.7283246\ttotal: 684ms\tremaining: 21.4s\n",
            "31:\tlearn: 0.7247961\ttotal: 710ms\tremaining: 21.5s\n",
            "32:\tlearn: 0.7221292\ttotal: 726ms\tremaining: 21.3s\n",
            "33:\tlearn: 0.7198354\ttotal: 747ms\tremaining: 21.2s\n",
            "34:\tlearn: 0.7177725\ttotal: 773ms\tremaining: 21.3s\n",
            "35:\tlearn: 0.7156212\ttotal: 797ms\tremaining: 21.3s\n",
            "36:\tlearn: 0.7133858\ttotal: 821ms\tremaining: 21.4s\n",
            "37:\tlearn: 0.7111460\ttotal: 848ms\tremaining: 21.5s\n",
            "38:\tlearn: 0.7088252\ttotal: 873ms\tremaining: 21.5s\n",
            "39:\tlearn: 0.7065635\ttotal: 896ms\tremaining: 21.5s\n",
            "40:\tlearn: 0.7043087\ttotal: 920ms\tremaining: 21.5s\n",
            "41:\tlearn: 0.7023473\ttotal: 944ms\tremaining: 21.5s\n",
            "42:\tlearn: 0.7004928\ttotal: 971ms\tremaining: 21.6s\n",
            "43:\tlearn: 0.6984735\ttotal: 994ms\tremaining: 21.6s\n",
            "44:\tlearn: 0.6966713\ttotal: 1.02s\tremaining: 21.6s\n",
            "45:\tlearn: 0.6952228\ttotal: 1.04s\tremaining: 21.6s\n",
            "46:\tlearn: 0.6937642\ttotal: 1.07s\tremaining: 21.7s\n",
            "47:\tlearn: 0.6921194\ttotal: 1.1s\tremaining: 21.7s\n",
            "48:\tlearn: 0.6908960\ttotal: 1.13s\tremaining: 21.8s\n",
            "49:\tlearn: 0.6901939\ttotal: 1.15s\tremaining: 21.9s\n",
            "50:\tlearn: 0.6887101\ttotal: 1.17s\tremaining: 21.9s\n",
            "51:\tlearn: 0.6875311\ttotal: 1.2s\tremaining: 21.9s\n",
            "52:\tlearn: 0.6863104\ttotal: 1.23s\tremaining: 21.9s\n",
            "53:\tlearn: 0.6854398\ttotal: 1.25s\tremaining: 21.9s\n",
            "54:\tlearn: 0.6842865\ttotal: 1.28s\tremaining: 22s\n",
            "55:\tlearn: 0.6833627\ttotal: 1.31s\tremaining: 22s\n",
            "56:\tlearn: 0.6819414\ttotal: 1.33s\tremaining: 22.1s\n",
            "57:\tlearn: 0.6807066\ttotal: 1.36s\tremaining: 22.1s\n",
            "58:\tlearn: 0.6792119\ttotal: 1.39s\tremaining: 22.1s\n",
            "59:\tlearn: 0.6780888\ttotal: 1.41s\tremaining: 22.1s\n",
            "60:\tlearn: 0.6768710\ttotal: 1.43s\tremaining: 22.1s\n",
            "61:\tlearn: 0.6761052\ttotal: 1.46s\tremaining: 22s\n",
            "62:\tlearn: 0.6756513\ttotal: 1.48s\tremaining: 22s\n",
            "63:\tlearn: 0.6747035\ttotal: 1.5s\tremaining: 22s\n",
            "64:\tlearn: 0.6740445\ttotal: 1.52s\tremaining: 21.9s\n",
            "65:\tlearn: 0.6736639\ttotal: 1.54s\tremaining: 21.9s\n",
            "66:\tlearn: 0.6732606\ttotal: 1.57s\tremaining: 21.8s\n",
            "67:\tlearn: 0.6720916\ttotal: 1.59s\tremaining: 21.8s\n",
            "68:\tlearn: 0.6717427\ttotal: 1.62s\tremaining: 21.8s\n",
            "69:\tlearn: 0.6707660\ttotal: 1.64s\tremaining: 21.8s\n",
            "70:\tlearn: 0.6699382\ttotal: 1.67s\tremaining: 21.8s\n",
            "71:\tlearn: 0.6690755\ttotal: 1.69s\tremaining: 21.8s\n",
            "72:\tlearn: 0.6684430\ttotal: 1.71s\tremaining: 21.7s\n",
            "73:\tlearn: 0.6678652\ttotal: 1.73s\tremaining: 21.7s\n",
            "74:\tlearn: 0.6674775\ttotal: 1.76s\tremaining: 21.7s\n",
            "75:\tlearn: 0.6670667\ttotal: 1.78s\tremaining: 21.7s\n",
            "76:\tlearn: 0.6661758\ttotal: 1.8s\tremaining: 21.6s\n",
            "77:\tlearn: 0.6653504\ttotal: 1.83s\tremaining: 21.6s\n",
            "78:\tlearn: 0.6645716\ttotal: 1.85s\tremaining: 21.6s\n",
            "79:\tlearn: 0.6642741\ttotal: 1.87s\tremaining: 21.5s\n",
            "80:\tlearn: 0.6637701\ttotal: 1.89s\tremaining: 21.4s\n",
            "81:\tlearn: 0.6628103\ttotal: 1.91s\tremaining: 21.4s\n",
            "82:\tlearn: 0.6624127\ttotal: 1.94s\tremaining: 21.4s\n",
            "83:\tlearn: 0.6618304\ttotal: 1.96s\tremaining: 21.4s\n",
            "84:\tlearn: 0.6614028\ttotal: 1.98s\tremaining: 21.4s\n",
            "85:\tlearn: 0.6605347\ttotal: 2.01s\tremaining: 21.3s\n",
            "86:\tlearn: 0.6599350\ttotal: 2.03s\tremaining: 21.3s\n",
            "87:\tlearn: 0.6594453\ttotal: 2.06s\tremaining: 21.3s\n",
            "88:\tlearn: 0.6586173\ttotal: 2.08s\tremaining: 21.3s\n",
            "89:\tlearn: 0.6577782\ttotal: 2.1s\tremaining: 21.3s\n",
            "90:\tlearn: 0.6570369\ttotal: 2.13s\tremaining: 21.3s\n",
            "91:\tlearn: 0.6566106\ttotal: 2.15s\tremaining: 21.2s\n",
            "92:\tlearn: 0.6559560\ttotal: 2.17s\tremaining: 21.2s\n",
            "93:\tlearn: 0.6548563\ttotal: 2.2s\tremaining: 21.2s\n",
            "94:\tlearn: 0.6542218\ttotal: 2.22s\tremaining: 21.2s\n",
            "95:\tlearn: 0.6532890\ttotal: 2.24s\tremaining: 21.1s\n",
            "96:\tlearn: 0.6526438\ttotal: 2.27s\tremaining: 21.1s\n",
            "97:\tlearn: 0.6522518\ttotal: 2.29s\tremaining: 21.1s\n",
            "98:\tlearn: 0.6517747\ttotal: 2.31s\tremaining: 21.1s\n",
            "99:\tlearn: 0.6513018\ttotal: 2.34s\tremaining: 21.1s\n",
            "100:\tlearn: 0.6509877\ttotal: 2.36s\tremaining: 21s\n",
            "101:\tlearn: 0.6503637\ttotal: 2.39s\tremaining: 21s\n",
            "102:\tlearn: 0.6497832\ttotal: 2.41s\tremaining: 21s\n",
            "103:\tlearn: 0.6490188\ttotal: 2.44s\tremaining: 21s\n",
            "104:\tlearn: 0.6482626\ttotal: 2.46s\tremaining: 21s\n",
            "105:\tlearn: 0.6475081\ttotal: 2.48s\tremaining: 21s\n",
            "106:\tlearn: 0.6470824\ttotal: 2.5s\tremaining: 20.9s\n",
            "107:\tlearn: 0.6462956\ttotal: 2.53s\tremaining: 20.9s\n",
            "108:\tlearn: 0.6457350\ttotal: 2.55s\tremaining: 20.9s\n",
            "109:\tlearn: 0.6450909\ttotal: 2.58s\tremaining: 20.8s\n",
            "110:\tlearn: 0.6441758\ttotal: 2.6s\tremaining: 20.8s\n",
            "111:\tlearn: 0.6437477\ttotal: 2.62s\tremaining: 20.8s\n",
            "112:\tlearn: 0.6427448\ttotal: 2.65s\tremaining: 20.8s\n",
            "113:\tlearn: 0.6420571\ttotal: 2.67s\tremaining: 20.8s\n",
            "114:\tlearn: 0.6416950\ttotal: 2.69s\tremaining: 20.7s\n",
            "115:\tlearn: 0.6411132\ttotal: 2.72s\tremaining: 20.7s\n",
            "116:\tlearn: 0.6403210\ttotal: 2.74s\tremaining: 20.7s\n",
            "117:\tlearn: 0.6397621\ttotal: 2.76s\tremaining: 20.7s\n",
            "118:\tlearn: 0.6387558\ttotal: 2.79s\tremaining: 20.6s\n",
            "119:\tlearn: 0.6386016\ttotal: 2.81s\tremaining: 20.6s\n",
            "120:\tlearn: 0.6379893\ttotal: 2.83s\tremaining: 20.6s\n",
            "121:\tlearn: 0.6374001\ttotal: 2.86s\tremaining: 20.6s\n",
            "122:\tlearn: 0.6365990\ttotal: 2.88s\tremaining: 20.5s\n",
            "123:\tlearn: 0.6358724\ttotal: 2.9s\tremaining: 20.5s\n",
            "124:\tlearn: 0.6354638\ttotal: 2.93s\tremaining: 20.5s\n",
            "125:\tlearn: 0.6348840\ttotal: 2.95s\tremaining: 20.5s\n",
            "126:\tlearn: 0.6343528\ttotal: 2.98s\tremaining: 20.5s\n",
            "127:\tlearn: 0.6337395\ttotal: 3s\tremaining: 20.5s\n",
            "128:\tlearn: 0.6331844\ttotal: 3.03s\tremaining: 20.4s\n",
            "129:\tlearn: 0.6325059\ttotal: 3.05s\tremaining: 20.4s\n",
            "130:\tlearn: 0.6318611\ttotal: 3.08s\tremaining: 20.4s\n",
            "131:\tlearn: 0.6312514\ttotal: 3.1s\tremaining: 20.4s\n",
            "132:\tlearn: 0.6308408\ttotal: 3.12s\tremaining: 20.4s\n",
            "133:\tlearn: 0.6301239\ttotal: 3.14s\tremaining: 20.3s\n",
            "134:\tlearn: 0.6294752\ttotal: 3.17s\tremaining: 20.3s\n",
            "135:\tlearn: 0.6286176\ttotal: 3.19s\tremaining: 20.3s\n",
            "136:\tlearn: 0.6280159\ttotal: 3.22s\tremaining: 20.3s\n",
            "137:\tlearn: 0.6271332\ttotal: 3.24s\tremaining: 20.2s\n",
            "138:\tlearn: 0.6265563\ttotal: 3.26s\tremaining: 20.2s\n",
            "139:\tlearn: 0.6262875\ttotal: 3.29s\tremaining: 20.2s\n",
            "140:\tlearn: 0.6259530\ttotal: 3.31s\tremaining: 20.2s\n",
            "141:\tlearn: 0.6248177\ttotal: 3.33s\tremaining: 20.2s\n",
            "142:\tlearn: 0.6243131\ttotal: 3.36s\tremaining: 20.1s\n",
            "143:\tlearn: 0.6239947\ttotal: 3.38s\tremaining: 20.1s\n",
            "144:\tlearn: 0.6234870\ttotal: 3.4s\tremaining: 20.1s\n",
            "145:\tlearn: 0.6232116\ttotal: 3.43s\tremaining: 20s\n",
            "146:\tlearn: 0.6225099\ttotal: 3.45s\tremaining: 20s\n",
            "147:\tlearn: 0.6218509\ttotal: 3.47s\tremaining: 20s\n",
            "148:\tlearn: 0.6208575\ttotal: 3.5s\tremaining: 20s\n",
            "149:\tlearn: 0.6201688\ttotal: 3.52s\tremaining: 19.9s\n",
            "150:\tlearn: 0.6197054\ttotal: 3.54s\tremaining: 19.9s\n",
            "151:\tlearn: 0.6190240\ttotal: 3.57s\tremaining: 19.9s\n",
            "152:\tlearn: 0.6181035\ttotal: 3.59s\tremaining: 19.9s\n",
            "153:\tlearn: 0.6174244\ttotal: 3.61s\tremaining: 19.8s\n",
            "154:\tlearn: 0.6170856\ttotal: 3.64s\tremaining: 19.8s\n",
            "155:\tlearn: 0.6162865\ttotal: 3.66s\tremaining: 19.8s\n",
            "156:\tlearn: 0.6154760\ttotal: 3.68s\tremaining: 19.8s\n",
            "157:\tlearn: 0.6150644\ttotal: 3.7s\tremaining: 19.7s\n",
            "158:\tlearn: 0.6147008\ttotal: 3.73s\tremaining: 19.7s\n",
            "159:\tlearn: 0.6142377\ttotal: 3.75s\tremaining: 19.7s\n",
            "160:\tlearn: 0.6139449\ttotal: 3.77s\tremaining: 19.7s\n",
            "161:\tlearn: 0.6135160\ttotal: 3.79s\tremaining: 19.6s\n",
            "162:\tlearn: 0.6132963\ttotal: 3.82s\tremaining: 19.6s\n",
            "163:\tlearn: 0.6127954\ttotal: 3.84s\tremaining: 19.6s\n",
            "164:\tlearn: 0.6125350\ttotal: 3.87s\tremaining: 19.6s\n",
            "165:\tlearn: 0.6122438\ttotal: 3.89s\tremaining: 19.5s\n",
            "166:\tlearn: 0.6117704\ttotal: 3.91s\tremaining: 19.5s\n",
            "167:\tlearn: 0.6114220\ttotal: 3.93s\tremaining: 19.5s\n",
            "168:\tlearn: 0.6110449\ttotal: 3.96s\tremaining: 19.5s\n",
            "169:\tlearn: 0.6104635\ttotal: 3.98s\tremaining: 19.4s\n",
            "170:\tlearn: 0.6102367\ttotal: 4.01s\tremaining: 19.4s\n",
            "171:\tlearn: 0.6093248\ttotal: 4.03s\tremaining: 19.4s\n",
            "172:\tlearn: 0.6086392\ttotal: 4.05s\tremaining: 19.4s\n",
            "173:\tlearn: 0.6079119\ttotal: 4.08s\tremaining: 19.4s\n",
            "174:\tlearn: 0.6074025\ttotal: 4.1s\tremaining: 19.3s\n",
            "175:\tlearn: 0.6067924\ttotal: 4.13s\tremaining: 19.3s\n",
            "176:\tlearn: 0.6062134\ttotal: 4.15s\tremaining: 19.3s\n",
            "177:\tlearn: 0.6056523\ttotal: 4.17s\tremaining: 19.3s\n",
            "178:\tlearn: 0.6053899\ttotal: 4.2s\tremaining: 19.3s\n",
            "179:\tlearn: 0.6047073\ttotal: 4.22s\tremaining: 19.2s\n",
            "180:\tlearn: 0.6044575\ttotal: 4.25s\tremaining: 19.2s\n",
            "181:\tlearn: 0.6040043\ttotal: 4.27s\tremaining: 19.2s\n",
            "182:\tlearn: 0.6038739\ttotal: 4.3s\tremaining: 19.2s\n",
            "183:\tlearn: 0.6036298\ttotal: 4.32s\tremaining: 19.2s\n",
            "184:\tlearn: 0.6030193\ttotal: 4.35s\tremaining: 19.2s\n",
            "185:\tlearn: 0.6025273\ttotal: 4.37s\tremaining: 19.1s\n",
            "186:\tlearn: 0.6019424\ttotal: 4.4s\tremaining: 19.1s\n",
            "187:\tlearn: 0.6013487\ttotal: 4.42s\tremaining: 19.1s\n",
            "188:\tlearn: 0.6011581\ttotal: 4.45s\tremaining: 19.1s\n",
            "189:\tlearn: 0.6007997\ttotal: 4.47s\tremaining: 19.1s\n",
            "190:\tlearn: 0.6000404\ttotal: 4.5s\tremaining: 19.1s\n",
            "191:\tlearn: 0.5997447\ttotal: 4.52s\tremaining: 19s\n",
            "192:\tlearn: 0.5995550\ttotal: 4.55s\tremaining: 19s\n",
            "193:\tlearn: 0.5991209\ttotal: 4.57s\tremaining: 19s\n",
            "194:\tlearn: 0.5981584\ttotal: 4.6s\tremaining: 19s\n",
            "195:\tlearn: 0.5976915\ttotal: 4.62s\tremaining: 19s\n",
            "196:\tlearn: 0.5970918\ttotal: 4.65s\tremaining: 18.9s\n",
            "197:\tlearn: 0.5966423\ttotal: 4.67s\tremaining: 18.9s\n",
            "198:\tlearn: 0.5957802\ttotal: 4.7s\tremaining: 18.9s\n",
            "199:\tlearn: 0.5956919\ttotal: 4.72s\tremaining: 18.9s\n",
            "200:\tlearn: 0.5952058\ttotal: 4.74s\tremaining: 18.8s\n",
            "201:\tlearn: 0.5943914\ttotal: 4.76s\tremaining: 18.8s\n",
            "202:\tlearn: 0.5941770\ttotal: 4.79s\tremaining: 18.8s\n",
            "203:\tlearn: 0.5937186\ttotal: 4.81s\tremaining: 18.8s\n",
            "204:\tlearn: 0.5929596\ttotal: 4.83s\tremaining: 18.7s\n",
            "205:\tlearn: 0.5925924\ttotal: 4.86s\tremaining: 18.7s\n",
            "206:\tlearn: 0.5923018\ttotal: 4.88s\tremaining: 18.7s\n",
            "207:\tlearn: 0.5922233\ttotal: 4.91s\tremaining: 18.7s\n",
            "208:\tlearn: 0.5920824\ttotal: 4.93s\tremaining: 18.7s\n",
            "209:\tlearn: 0.5916942\ttotal: 4.96s\tremaining: 18.6s\n",
            "210:\tlearn: 0.5911662\ttotal: 4.98s\tremaining: 18.6s\n",
            "211:\tlearn: 0.5909361\ttotal: 5s\tremaining: 18.6s\n",
            "212:\tlearn: 0.5902291\ttotal: 5.03s\tremaining: 18.6s\n",
            "213:\tlearn: 0.5898868\ttotal: 5.05s\tremaining: 18.6s\n",
            "214:\tlearn: 0.5891062\ttotal: 5.08s\tremaining: 18.5s\n",
            "215:\tlearn: 0.5885444\ttotal: 5.1s\tremaining: 18.5s\n",
            "216:\tlearn: 0.5878260\ttotal: 5.12s\tremaining: 18.5s\n",
            "217:\tlearn: 0.5873018\ttotal: 5.15s\tremaining: 18.5s\n",
            "218:\tlearn: 0.5867752\ttotal: 5.17s\tremaining: 18.4s\n",
            "219:\tlearn: 0.5866696\ttotal: 5.19s\tremaining: 18.4s\n",
            "220:\tlearn: 0.5862955\ttotal: 5.22s\tremaining: 18.4s\n",
            "221:\tlearn: 0.5853773\ttotal: 5.24s\tremaining: 18.4s\n",
            "222:\tlearn: 0.5848059\ttotal: 5.27s\tremaining: 18.4s\n",
            "223:\tlearn: 0.5842690\ttotal: 5.29s\tremaining: 18.3s\n",
            "224:\tlearn: 0.5839040\ttotal: 5.32s\tremaining: 18.3s\n",
            "225:\tlearn: 0.5835018\ttotal: 5.34s\tremaining: 18.3s\n",
            "226:\tlearn: 0.5832164\ttotal: 5.37s\tremaining: 18.3s\n",
            "227:\tlearn: 0.5822309\ttotal: 5.39s\tremaining: 18.3s\n",
            "228:\tlearn: 0.5815297\ttotal: 5.42s\tremaining: 18.2s\n",
            "229:\tlearn: 0.5811757\ttotal: 5.44s\tremaining: 18.2s\n",
            "230:\tlearn: 0.5810039\ttotal: 5.46s\tremaining: 18.2s\n",
            "231:\tlearn: 0.5804743\ttotal: 5.49s\tremaining: 18.2s\n",
            "232:\tlearn: 0.5800447\ttotal: 5.51s\tremaining: 18.2s\n",
            "233:\tlearn: 0.5797866\ttotal: 5.54s\tremaining: 18.1s\n",
            "234:\tlearn: 0.5793944\ttotal: 5.57s\tremaining: 18.1s\n",
            "235:\tlearn: 0.5791964\ttotal: 5.59s\tremaining: 18.1s\n",
            "236:\tlearn: 0.5787487\ttotal: 5.61s\tremaining: 18.1s\n",
            "237:\tlearn: 0.5781712\ttotal: 5.64s\tremaining: 18.1s\n",
            "238:\tlearn: 0.5777417\ttotal: 5.66s\tremaining: 18s\n",
            "239:\tlearn: 0.5773392\ttotal: 5.69s\tremaining: 18s\n",
            "240:\tlearn: 0.5770948\ttotal: 5.71s\tremaining: 18s\n",
            "241:\tlearn: 0.5765788\ttotal: 5.74s\tremaining: 18s\n",
            "242:\tlearn: 0.5761910\ttotal: 5.77s\tremaining: 18s\n",
            "243:\tlearn: 0.5757291\ttotal: 5.79s\tremaining: 17.9s\n",
            "244:\tlearn: 0.5751811\ttotal: 5.81s\tremaining: 17.9s\n",
            "245:\tlearn: 0.5744644\ttotal: 5.84s\tremaining: 17.9s\n",
            "246:\tlearn: 0.5740073\ttotal: 5.86s\tremaining: 17.9s\n",
            "247:\tlearn: 0.5736271\ttotal: 5.88s\tremaining: 17.8s\n",
            "248:\tlearn: 0.5732275\ttotal: 5.91s\tremaining: 17.8s\n",
            "249:\tlearn: 0.5730919\ttotal: 5.93s\tremaining: 17.8s\n",
            "250:\tlearn: 0.5729027\ttotal: 5.96s\tremaining: 17.8s\n",
            "251:\tlearn: 0.5726752\ttotal: 5.98s\tremaining: 17.7s\n",
            "252:\tlearn: 0.5725620\ttotal: 6s\tremaining: 17.7s\n",
            "253:\tlearn: 0.5724783\ttotal: 6.02s\tremaining: 17.7s\n",
            "254:\tlearn: 0.5719986\ttotal: 6.04s\tremaining: 17.7s\n",
            "255:\tlearn: 0.5716758\ttotal: 6.07s\tremaining: 17.6s\n",
            "256:\tlearn: 0.5711073\ttotal: 6.1s\tremaining: 17.6s\n",
            "257:\tlearn: 0.5706924\ttotal: 6.12s\tremaining: 17.6s\n",
            "258:\tlearn: 0.5702401\ttotal: 6.15s\tremaining: 17.6s\n",
            "259:\tlearn: 0.5698906\ttotal: 6.18s\tremaining: 17.6s\n",
            "260:\tlearn: 0.5692788\ttotal: 6.2s\tremaining: 17.6s\n",
            "261:\tlearn: 0.5689673\ttotal: 6.23s\tremaining: 17.5s\n",
            "262:\tlearn: 0.5685098\ttotal: 6.25s\tremaining: 17.5s\n",
            "263:\tlearn: 0.5679542\ttotal: 6.28s\tremaining: 17.5s\n",
            "264:\tlearn: 0.5668502\ttotal: 6.3s\tremaining: 17.5s\n",
            "265:\tlearn: 0.5664753\ttotal: 6.33s\tremaining: 17.5s\n",
            "266:\tlearn: 0.5659179\ttotal: 6.36s\tremaining: 17.4s\n",
            "267:\tlearn: 0.5655493\ttotal: 6.38s\tremaining: 17.4s\n",
            "268:\tlearn: 0.5653277\ttotal: 6.41s\tremaining: 17.4s\n",
            "269:\tlearn: 0.5647503\ttotal: 6.43s\tremaining: 17.4s\n",
            "270:\tlearn: 0.5644258\ttotal: 6.46s\tremaining: 17.4s\n",
            "271:\tlearn: 0.5642489\ttotal: 6.48s\tremaining: 17.3s\n",
            "272:\tlearn: 0.5636995\ttotal: 6.5s\tremaining: 17.3s\n",
            "273:\tlearn: 0.5630795\ttotal: 6.53s\tremaining: 17.3s\n",
            "274:\tlearn: 0.5627457\ttotal: 6.55s\tremaining: 17.3s\n",
            "275:\tlearn: 0.5624763\ttotal: 6.58s\tremaining: 17.3s\n",
            "276:\tlearn: 0.5623833\ttotal: 6.6s\tremaining: 17.2s\n",
            "277:\tlearn: 0.5620283\ttotal: 6.63s\tremaining: 17.2s\n",
            "278:\tlearn: 0.5618680\ttotal: 6.65s\tremaining: 17.2s\n",
            "279:\tlearn: 0.5612942\ttotal: 6.67s\tremaining: 17.2s\n",
            "280:\tlearn: 0.5610052\ttotal: 6.7s\tremaining: 17.1s\n",
            "281:\tlearn: 0.5605747\ttotal: 6.72s\tremaining: 17.1s\n",
            "282:\tlearn: 0.5603449\ttotal: 6.75s\tremaining: 17.1s\n",
            "283:\tlearn: 0.5598642\ttotal: 6.77s\tremaining: 17.1s\n",
            "284:\tlearn: 0.5594891\ttotal: 6.79s\tremaining: 17s\n",
            "285:\tlearn: 0.5591876\ttotal: 6.82s\tremaining: 17s\n",
            "286:\tlearn: 0.5590366\ttotal: 6.84s\tremaining: 17s\n",
            "287:\tlearn: 0.5586046\ttotal: 6.87s\tremaining: 17s\n",
            "288:\tlearn: 0.5582848\ttotal: 6.89s\tremaining: 17s\n",
            "289:\tlearn: 0.5580647\ttotal: 6.92s\tremaining: 16.9s\n",
            "290:\tlearn: 0.5576759\ttotal: 6.94s\tremaining: 16.9s\n",
            "291:\tlearn: 0.5576155\ttotal: 6.97s\tremaining: 16.9s\n",
            "292:\tlearn: 0.5575302\ttotal: 7s\tremaining: 16.9s\n",
            "293:\tlearn: 0.5570350\ttotal: 7.02s\tremaining: 16.9s\n",
            "294:\tlearn: 0.5563975\ttotal: 7.05s\tremaining: 16.8s\n",
            "295:\tlearn: 0.5562896\ttotal: 7.07s\tremaining: 16.8s\n",
            "296:\tlearn: 0.5561757\ttotal: 7.1s\tremaining: 16.8s\n",
            "297:\tlearn: 0.5559102\ttotal: 7.12s\tremaining: 16.8s\n",
            "298:\tlearn: 0.5553403\ttotal: 7.15s\tremaining: 16.8s\n",
            "299:\tlearn: 0.5549022\ttotal: 7.17s\tremaining: 16.7s\n",
            "300:\tlearn: 0.5547127\ttotal: 7.2s\tremaining: 16.7s\n",
            "301:\tlearn: 0.5543298\ttotal: 7.22s\tremaining: 16.7s\n",
            "302:\tlearn: 0.5540263\ttotal: 7.25s\tremaining: 16.7s\n",
            "303:\tlearn: 0.5536533\ttotal: 7.27s\tremaining: 16.6s\n",
            "304:\tlearn: 0.5533970\ttotal: 7.29s\tremaining: 16.6s\n",
            "305:\tlearn: 0.5529754\ttotal: 7.32s\tremaining: 16.6s\n",
            "306:\tlearn: 0.5527086\ttotal: 7.34s\tremaining: 16.6s\n",
            "307:\tlearn: 0.5525949\ttotal: 7.37s\tremaining: 16.6s\n",
            "308:\tlearn: 0.5522905\ttotal: 7.39s\tremaining: 16.5s\n",
            "309:\tlearn: 0.5519292\ttotal: 7.42s\tremaining: 16.5s\n",
            "310:\tlearn: 0.5510317\ttotal: 7.44s\tremaining: 16.5s\n",
            "311:\tlearn: 0.5506536\ttotal: 7.47s\tremaining: 16.5s\n",
            "312:\tlearn: 0.5503154\ttotal: 7.49s\tremaining: 16.4s\n",
            "313:\tlearn: 0.5498221\ttotal: 7.52s\tremaining: 16.4s\n",
            "314:\tlearn: 0.5496939\ttotal: 7.54s\tremaining: 16.4s\n",
            "315:\tlearn: 0.5492271\ttotal: 7.56s\tremaining: 16.4s\n",
            "316:\tlearn: 0.5487834\ttotal: 7.59s\tremaining: 16.3s\n",
            "317:\tlearn: 0.5484458\ttotal: 7.61s\tremaining: 16.3s\n",
            "318:\tlearn: 0.5479054\ttotal: 7.64s\tremaining: 16.3s\n",
            "319:\tlearn: 0.5476663\ttotal: 7.66s\tremaining: 16.3s\n",
            "320:\tlearn: 0.5471883\ttotal: 7.68s\tremaining: 16.3s\n",
            "321:\tlearn: 0.5465540\ttotal: 7.71s\tremaining: 16.2s\n",
            "322:\tlearn: 0.5458380\ttotal: 7.73s\tremaining: 16.2s\n",
            "323:\tlearn: 0.5453271\ttotal: 7.75s\tremaining: 16.2s\n",
            "324:\tlearn: 0.5450059\ttotal: 7.78s\tremaining: 16.2s\n",
            "325:\tlearn: 0.5442761\ttotal: 7.8s\tremaining: 16.1s\n",
            "326:\tlearn: 0.5439583\ttotal: 7.83s\tremaining: 16.1s\n",
            "327:\tlearn: 0.5433873\ttotal: 7.85s\tremaining: 16.1s\n",
            "328:\tlearn: 0.5429066\ttotal: 7.88s\tremaining: 16.1s\n",
            "329:\tlearn: 0.5425601\ttotal: 7.91s\tremaining: 16.1s\n",
            "330:\tlearn: 0.5420090\ttotal: 7.93s\tremaining: 16s\n",
            "331:\tlearn: 0.5416373\ttotal: 7.96s\tremaining: 16s\n",
            "332:\tlearn: 0.5413359\ttotal: 7.98s\tremaining: 16s\n",
            "333:\tlearn: 0.5409699\ttotal: 8.01s\tremaining: 16s\n",
            "334:\tlearn: 0.5405302\ttotal: 8.04s\tremaining: 16s\n",
            "335:\tlearn: 0.5399170\ttotal: 8.06s\tremaining: 15.9s\n",
            "336:\tlearn: 0.5395715\ttotal: 8.09s\tremaining: 15.9s\n",
            "337:\tlearn: 0.5389088\ttotal: 8.11s\tremaining: 15.9s\n",
            "338:\tlearn: 0.5383418\ttotal: 8.13s\tremaining: 15.9s\n",
            "339:\tlearn: 0.5381793\ttotal: 8.16s\tremaining: 15.8s\n",
            "340:\tlearn: 0.5379915\ttotal: 8.19s\tremaining: 15.8s\n",
            "341:\tlearn: 0.5373526\ttotal: 8.22s\tremaining: 15.8s\n",
            "342:\tlearn: 0.5368693\ttotal: 8.25s\tremaining: 15.8s\n",
            "343:\tlearn: 0.5366878\ttotal: 8.28s\tremaining: 15.8s\n",
            "344:\tlearn: 0.5364332\ttotal: 8.3s\tremaining: 15.8s\n",
            "345:\tlearn: 0.5360970\ttotal: 8.33s\tremaining: 15.7s\n",
            "346:\tlearn: 0.5359044\ttotal: 8.35s\tremaining: 15.7s\n",
            "347:\tlearn: 0.5352316\ttotal: 8.38s\tremaining: 15.7s\n",
            "348:\tlearn: 0.5342417\ttotal: 8.41s\tremaining: 15.7s\n",
            "349:\tlearn: 0.5337606\ttotal: 8.43s\tremaining: 15.7s\n",
            "350:\tlearn: 0.5333711\ttotal: 8.46s\tremaining: 15.6s\n",
            "351:\tlearn: 0.5330600\ttotal: 8.48s\tremaining: 15.6s\n",
            "352:\tlearn: 0.5326691\ttotal: 8.5s\tremaining: 15.6s\n",
            "353:\tlearn: 0.5321241\ttotal: 8.53s\tremaining: 15.6s\n",
            "354:\tlearn: 0.5319792\ttotal: 8.55s\tremaining: 15.5s\n",
            "355:\tlearn: 0.5314472\ttotal: 8.58s\tremaining: 15.5s\n",
            "356:\tlearn: 0.5312477\ttotal: 8.61s\tremaining: 15.5s\n",
            "357:\tlearn: 0.5306503\ttotal: 8.63s\tremaining: 15.5s\n",
            "358:\tlearn: 0.5302833\ttotal: 8.66s\tremaining: 15.5s\n",
            "359:\tlearn: 0.5292976\ttotal: 8.68s\tremaining: 15.4s\n",
            "360:\tlearn: 0.5286239\ttotal: 8.71s\tremaining: 15.4s\n",
            "361:\tlearn: 0.5285135\ttotal: 8.74s\tremaining: 15.4s\n",
            "362:\tlearn: 0.5279573\ttotal: 8.76s\tremaining: 15.4s\n",
            "363:\tlearn: 0.5273673\ttotal: 8.79s\tremaining: 15.4s\n",
            "364:\tlearn: 0.5272623\ttotal: 8.81s\tremaining: 15.3s\n",
            "365:\tlearn: 0.5269278\ttotal: 8.84s\tremaining: 15.3s\n",
            "366:\tlearn: 0.5268408\ttotal: 8.86s\tremaining: 15.3s\n",
            "367:\tlearn: 0.5266870\ttotal: 8.89s\tremaining: 15.3s\n",
            "368:\tlearn: 0.5264378\ttotal: 8.92s\tremaining: 15.3s\n",
            "369:\tlearn: 0.5260965\ttotal: 8.95s\tremaining: 15.2s\n",
            "370:\tlearn: 0.5255006\ttotal: 8.97s\tremaining: 15.2s\n",
            "371:\tlearn: 0.5250385\ttotal: 9s\tremaining: 15.2s\n",
            "372:\tlearn: 0.5246929\ttotal: 9.02s\tremaining: 15.2s\n",
            "373:\tlearn: 0.5244069\ttotal: 9.05s\tremaining: 15.1s\n",
            "374:\tlearn: 0.5239806\ttotal: 9.07s\tremaining: 15.1s\n",
            "375:\tlearn: 0.5234311\ttotal: 9.1s\tremaining: 15.1s\n",
            "376:\tlearn: 0.5228178\ttotal: 9.12s\tremaining: 15.1s\n",
            "377:\tlearn: 0.5227497\ttotal: 9.15s\tremaining: 15.1s\n",
            "378:\tlearn: 0.5225779\ttotal: 9.17s\tremaining: 15s\n",
            "379:\tlearn: 0.5220964\ttotal: 9.19s\tremaining: 15s\n",
            "380:\tlearn: 0.5218448\ttotal: 9.22s\tremaining: 15s\n",
            "381:\tlearn: 0.5215534\ttotal: 9.25s\tremaining: 15s\n",
            "382:\tlearn: 0.5210450\ttotal: 9.27s\tremaining: 14.9s\n",
            "383:\tlearn: 0.5205088\ttotal: 9.3s\tremaining: 14.9s\n",
            "384:\tlearn: 0.5202966\ttotal: 9.33s\tremaining: 14.9s\n",
            "385:\tlearn: 0.5196434\ttotal: 9.35s\tremaining: 14.9s\n",
            "386:\tlearn: 0.5194208\ttotal: 9.38s\tremaining: 14.9s\n",
            "387:\tlearn: 0.5192404\ttotal: 9.41s\tremaining: 14.8s\n",
            "388:\tlearn: 0.5189850\ttotal: 9.43s\tremaining: 14.8s\n",
            "389:\tlearn: 0.5186122\ttotal: 9.46s\tremaining: 14.8s\n",
            "390:\tlearn: 0.5183802\ttotal: 9.48s\tremaining: 14.8s\n",
            "391:\tlearn: 0.5181493\ttotal: 9.51s\tremaining: 14.7s\n",
            "392:\tlearn: 0.5178838\ttotal: 9.53s\tremaining: 14.7s\n",
            "393:\tlearn: 0.5171919\ttotal: 9.56s\tremaining: 14.7s\n",
            "394:\tlearn: 0.5169327\ttotal: 9.58s\tremaining: 14.7s\n",
            "395:\tlearn: 0.5168204\ttotal: 9.61s\tremaining: 14.7s\n",
            "396:\tlearn: 0.5164809\ttotal: 9.63s\tremaining: 14.6s\n",
            "397:\tlearn: 0.5163257\ttotal: 9.66s\tremaining: 14.6s\n",
            "398:\tlearn: 0.5159120\ttotal: 9.69s\tremaining: 14.6s\n",
            "399:\tlearn: 0.5156998\ttotal: 9.71s\tremaining: 14.6s\n",
            "400:\tlearn: 0.5154139\ttotal: 9.74s\tremaining: 14.5s\n",
            "401:\tlearn: 0.5153182\ttotal: 9.76s\tremaining: 14.5s\n",
            "402:\tlearn: 0.5152073\ttotal: 9.79s\tremaining: 14.5s\n",
            "403:\tlearn: 0.5148192\ttotal: 9.81s\tremaining: 14.5s\n",
            "404:\tlearn: 0.5144599\ttotal: 9.84s\tremaining: 14.5s\n",
            "405:\tlearn: 0.5141369\ttotal: 9.86s\tremaining: 14.4s\n",
            "406:\tlearn: 0.5138776\ttotal: 9.89s\tremaining: 14.4s\n",
            "407:\tlearn: 0.5133605\ttotal: 9.92s\tremaining: 14.4s\n",
            "408:\tlearn: 0.5127846\ttotal: 9.94s\tremaining: 14.4s\n",
            "409:\tlearn: 0.5123420\ttotal: 9.97s\tremaining: 14.3s\n",
            "410:\tlearn: 0.5122765\ttotal: 9.99s\tremaining: 14.3s\n",
            "411:\tlearn: 0.5117517\ttotal: 10s\tremaining: 14.3s\n",
            "412:\tlearn: 0.5115093\ttotal: 10s\tremaining: 14.3s\n",
            "413:\tlearn: 0.5111590\ttotal: 10.1s\tremaining: 14.2s\n",
            "414:\tlearn: 0.5106292\ttotal: 10.1s\tremaining: 14.2s\n",
            "415:\tlearn: 0.5101221\ttotal: 10.1s\tremaining: 14.2s\n",
            "416:\tlearn: 0.5098849\ttotal: 10.1s\tremaining: 14.2s\n",
            "417:\tlearn: 0.5093595\ttotal: 10.2s\tremaining: 14.2s\n",
            "418:\tlearn: 0.5089059\ttotal: 10.2s\tremaining: 14.1s\n",
            "419:\tlearn: 0.5086554\ttotal: 10.2s\tremaining: 14.1s\n",
            "420:\tlearn: 0.5083631\ttotal: 10.2s\tremaining: 14.1s\n",
            "421:\tlearn: 0.5079435\ttotal: 10.3s\tremaining: 14.1s\n",
            "422:\tlearn: 0.5076422\ttotal: 10.3s\tremaining: 14s\n",
            "423:\tlearn: 0.5073725\ttotal: 10.3s\tremaining: 14s\n",
            "424:\tlearn: 0.5069925\ttotal: 10.3s\tremaining: 14s\n",
            "425:\tlearn: 0.5068269\ttotal: 10.4s\tremaining: 14s\n",
            "426:\tlearn: 0.5062824\ttotal: 10.4s\tremaining: 13.9s\n",
            "427:\tlearn: 0.5054440\ttotal: 10.4s\tremaining: 13.9s\n",
            "428:\tlearn: 0.5050962\ttotal: 10.4s\tremaining: 13.9s\n",
            "429:\tlearn: 0.5047278\ttotal: 10.5s\tremaining: 13.9s\n",
            "430:\tlearn: 0.5044363\ttotal: 10.5s\tremaining: 13.9s\n",
            "431:\tlearn: 0.5040959\ttotal: 10.5s\tremaining: 13.8s\n",
            "432:\tlearn: 0.5035780\ttotal: 10.5s\tremaining: 13.8s\n",
            "433:\tlearn: 0.5033680\ttotal: 10.6s\tremaining: 13.8s\n",
            "434:\tlearn: 0.5031355\ttotal: 10.6s\tremaining: 13.8s\n",
            "435:\tlearn: 0.5028472\ttotal: 10.6s\tremaining: 13.7s\n",
            "436:\tlearn: 0.5026972\ttotal: 10.7s\tremaining: 13.7s\n",
            "437:\tlearn: 0.5023161\ttotal: 10.7s\tremaining: 13.7s\n",
            "438:\tlearn: 0.5017732\ttotal: 10.7s\tremaining: 13.7s\n",
            "439:\tlearn: 0.5014057\ttotal: 10.7s\tremaining: 13.7s\n",
            "440:\tlearn: 0.5012285\ttotal: 10.8s\tremaining: 13.6s\n",
            "441:\tlearn: 0.5010144\ttotal: 10.8s\tremaining: 13.6s\n",
            "442:\tlearn: 0.5008293\ttotal: 10.8s\tremaining: 13.6s\n",
            "443:\tlearn: 0.5001493\ttotal: 10.9s\tremaining: 13.6s\n",
            "444:\tlearn: 0.4997385\ttotal: 10.9s\tremaining: 13.6s\n",
            "445:\tlearn: 0.4994634\ttotal: 10.9s\tremaining: 13.6s\n",
            "446:\tlearn: 0.4992322\ttotal: 10.9s\tremaining: 13.5s\n",
            "447:\tlearn: 0.4991228\ttotal: 11s\tremaining: 13.5s\n",
            "448:\tlearn: 0.4988102\ttotal: 11s\tremaining: 13.5s\n",
            "449:\tlearn: 0.4987000\ttotal: 11s\tremaining: 13.5s\n",
            "450:\tlearn: 0.4983138\ttotal: 11.1s\tremaining: 13.5s\n",
            "451:\tlearn: 0.4978839\ttotal: 11.1s\tremaining: 13.4s\n",
            "452:\tlearn: 0.4977241\ttotal: 11.1s\tremaining: 13.4s\n",
            "453:\tlearn: 0.4976187\ttotal: 11.1s\tremaining: 13.4s\n",
            "454:\tlearn: 0.4972995\ttotal: 11.2s\tremaining: 13.4s\n",
            "455:\tlearn: 0.4970978\ttotal: 11.2s\tremaining: 13.3s\n",
            "456:\tlearn: 0.4969379\ttotal: 11.2s\tremaining: 13.3s\n",
            "457:\tlearn: 0.4965937\ttotal: 11.2s\tremaining: 13.3s\n",
            "458:\tlearn: 0.4963867\ttotal: 11.3s\tremaining: 13.3s\n",
            "459:\tlearn: 0.4962277\ttotal: 11.3s\tremaining: 13.2s\n",
            "460:\tlearn: 0.4960937\ttotal: 11.3s\tremaining: 13.2s\n",
            "461:\tlearn: 0.4955066\ttotal: 11.3s\tremaining: 13.2s\n",
            "462:\tlearn: 0.4951485\ttotal: 11.3s\tremaining: 13.2s\n",
            "463:\tlearn: 0.4949564\ttotal: 11.4s\tremaining: 13.1s\n",
            "464:\tlearn: 0.4947892\ttotal: 11.4s\tremaining: 13.1s\n",
            "465:\tlearn: 0.4944642\ttotal: 11.4s\tremaining: 13.1s\n",
            "466:\tlearn: 0.4942082\ttotal: 11.4s\tremaining: 13.1s\n",
            "467:\tlearn: 0.4940592\ttotal: 11.5s\tremaining: 13s\n",
            "468:\tlearn: 0.4938313\ttotal: 11.5s\tremaining: 13s\n",
            "469:\tlearn: 0.4933568\ttotal: 11.5s\tremaining: 13s\n",
            "470:\tlearn: 0.4931414\ttotal: 11.5s\tremaining: 13s\n",
            "471:\tlearn: 0.4927382\ttotal: 11.6s\tremaining: 12.9s\n",
            "472:\tlearn: 0.4924895\ttotal: 11.6s\tremaining: 12.9s\n",
            "473:\tlearn: 0.4924075\ttotal: 11.6s\tremaining: 12.9s\n",
            "474:\tlearn: 0.4919513\ttotal: 11.6s\tremaining: 12.9s\n",
            "475:\tlearn: 0.4917960\ttotal: 11.7s\tremaining: 12.8s\n",
            "476:\tlearn: 0.4915533\ttotal: 11.7s\tremaining: 12.8s\n",
            "477:\tlearn: 0.4913741\ttotal: 11.7s\tremaining: 12.8s\n",
            "478:\tlearn: 0.4910165\ttotal: 11.7s\tremaining: 12.8s\n",
            "479:\tlearn: 0.4908488\ttotal: 11.8s\tremaining: 12.7s\n",
            "480:\tlearn: 0.4904061\ttotal: 11.8s\tremaining: 12.7s\n",
            "481:\tlearn: 0.4901331\ttotal: 11.8s\tremaining: 12.7s\n",
            "482:\tlearn: 0.4899128\ttotal: 11.8s\tremaining: 12.7s\n",
            "483:\tlearn: 0.4896285\ttotal: 11.9s\tremaining: 12.7s\n",
            "484:\tlearn: 0.4894288\ttotal: 11.9s\tremaining: 12.6s\n",
            "485:\tlearn: 0.4893525\ttotal: 11.9s\tremaining: 12.6s\n",
            "486:\tlearn: 0.4891507\ttotal: 11.9s\tremaining: 12.6s\n",
            "487:\tlearn: 0.4887792\ttotal: 12s\tremaining: 12.6s\n",
            "488:\tlearn: 0.4884760\ttotal: 12s\tremaining: 12.5s\n",
            "489:\tlearn: 0.4882591\ttotal: 12s\tremaining: 12.5s\n",
            "490:\tlearn: 0.4879695\ttotal: 12s\tremaining: 12.5s\n",
            "491:\tlearn: 0.4873484\ttotal: 12.1s\tremaining: 12.5s\n",
            "492:\tlearn: 0.4867846\ttotal: 12.1s\tremaining: 12.4s\n",
            "493:\tlearn: 0.4864891\ttotal: 12.1s\tremaining: 12.4s\n",
            "494:\tlearn: 0.4863570\ttotal: 12.1s\tremaining: 12.4s\n",
            "495:\tlearn: 0.4860427\ttotal: 12.2s\tremaining: 12.4s\n",
            "496:\tlearn: 0.4859137\ttotal: 12.2s\tremaining: 12.3s\n",
            "497:\tlearn: 0.4855530\ttotal: 12.2s\tremaining: 12.3s\n",
            "498:\tlearn: 0.4850837\ttotal: 12.2s\tremaining: 12.3s\n",
            "499:\tlearn: 0.4847907\ttotal: 12.3s\tremaining: 12.3s\n",
            "500:\tlearn: 0.4842517\ttotal: 12.3s\tremaining: 12.2s\n",
            "501:\tlearn: 0.4840979\ttotal: 12.3s\tremaining: 12.2s\n",
            "502:\tlearn: 0.4839249\ttotal: 12.3s\tremaining: 12.2s\n",
            "503:\tlearn: 0.4835449\ttotal: 12.4s\tremaining: 12.2s\n",
            "504:\tlearn: 0.4834749\ttotal: 12.4s\tremaining: 12.1s\n",
            "505:\tlearn: 0.4834241\ttotal: 12.4s\tremaining: 12.1s\n",
            "506:\tlearn: 0.4830456\ttotal: 12.4s\tremaining: 12.1s\n",
            "507:\tlearn: 0.4828150\ttotal: 12.5s\tremaining: 12.1s\n",
            "508:\tlearn: 0.4824910\ttotal: 12.5s\tremaining: 12s\n",
            "509:\tlearn: 0.4821480\ttotal: 12.5s\tremaining: 12s\n",
            "510:\tlearn: 0.4816448\ttotal: 12.5s\tremaining: 12s\n",
            "511:\tlearn: 0.4811990\ttotal: 12.6s\tremaining: 12s\n",
            "512:\tlearn: 0.4809201\ttotal: 12.6s\tremaining: 11.9s\n",
            "513:\tlearn: 0.4806715\ttotal: 12.6s\tremaining: 11.9s\n",
            "514:\tlearn: 0.4803626\ttotal: 12.6s\tremaining: 11.9s\n",
            "515:\tlearn: 0.4798074\ttotal: 12.7s\tremaining: 11.9s\n",
            "516:\tlearn: 0.4794661\ttotal: 12.7s\tremaining: 11.9s\n",
            "517:\tlearn: 0.4788663\ttotal: 12.7s\tremaining: 11.8s\n",
            "518:\tlearn: 0.4786132\ttotal: 12.7s\tremaining: 11.8s\n",
            "519:\tlearn: 0.4784675\ttotal: 12.8s\tremaining: 11.8s\n",
            "520:\tlearn: 0.4783375\ttotal: 12.8s\tremaining: 11.8s\n",
            "521:\tlearn: 0.4776927\ttotal: 12.8s\tremaining: 11.7s\n",
            "522:\tlearn: 0.4775187\ttotal: 12.8s\tremaining: 11.7s\n",
            "523:\tlearn: 0.4772404\ttotal: 12.9s\tremaining: 11.7s\n",
            "524:\tlearn: 0.4769928\ttotal: 12.9s\tremaining: 11.7s\n",
            "525:\tlearn: 0.4767449\ttotal: 12.9s\tremaining: 11.6s\n",
            "526:\tlearn: 0.4766028\ttotal: 12.9s\tremaining: 11.6s\n",
            "527:\tlearn: 0.4763796\ttotal: 13s\tremaining: 11.6s\n",
            "528:\tlearn: 0.4760943\ttotal: 13s\tremaining: 11.6s\n",
            "529:\tlearn: 0.4756279\ttotal: 13s\tremaining: 11.5s\n",
            "530:\tlearn: 0.4753316\ttotal: 13s\tremaining: 11.5s\n",
            "531:\tlearn: 0.4749663\ttotal: 13.1s\tremaining: 11.5s\n",
            "532:\tlearn: 0.4747458\ttotal: 13.1s\tremaining: 11.5s\n",
            "533:\tlearn: 0.4741606\ttotal: 13.1s\tremaining: 11.4s\n",
            "534:\tlearn: 0.4739696\ttotal: 13.1s\tremaining: 11.4s\n",
            "535:\tlearn: 0.4739355\ttotal: 13.2s\tremaining: 11.4s\n",
            "536:\tlearn: 0.4739271\ttotal: 13.2s\tremaining: 11.4s\n",
            "537:\tlearn: 0.4736334\ttotal: 13.2s\tremaining: 11.3s\n",
            "538:\tlearn: 0.4732410\ttotal: 13.2s\tremaining: 11.3s\n",
            "539:\tlearn: 0.4729434\ttotal: 13.3s\tremaining: 11.3s\n",
            "540:\tlearn: 0.4720741\ttotal: 13.3s\tremaining: 11.3s\n",
            "541:\tlearn: 0.4718821\ttotal: 13.3s\tremaining: 11.2s\n",
            "542:\tlearn: 0.4714737\ttotal: 13.3s\tremaining: 11.2s\n",
            "543:\tlearn: 0.4710744\ttotal: 13.3s\tremaining: 11.2s\n",
            "544:\tlearn: 0.4706962\ttotal: 13.4s\tremaining: 11.2s\n",
            "545:\tlearn: 0.4705195\ttotal: 13.4s\tremaining: 11.1s\n",
            "546:\tlearn: 0.4701171\ttotal: 13.4s\tremaining: 11.1s\n",
            "547:\tlearn: 0.4696214\ttotal: 13.5s\tremaining: 11.1s\n",
            "548:\tlearn: 0.4694732\ttotal: 13.5s\tremaining: 11.1s\n",
            "549:\tlearn: 0.4693568\ttotal: 13.5s\tremaining: 11s\n",
            "550:\tlearn: 0.4686410\ttotal: 13.5s\tremaining: 11s\n",
            "551:\tlearn: 0.4684199\ttotal: 13.6s\tremaining: 11s\n",
            "552:\tlearn: 0.4681421\ttotal: 13.6s\tremaining: 11s\n",
            "553:\tlearn: 0.4678053\ttotal: 13.6s\tremaining: 11s\n",
            "554:\tlearn: 0.4677038\ttotal: 13.6s\tremaining: 10.9s\n",
            "555:\tlearn: 0.4674768\ttotal: 13.7s\tremaining: 10.9s\n",
            "556:\tlearn: 0.4672455\ttotal: 13.7s\tremaining: 10.9s\n",
            "557:\tlearn: 0.4668466\ttotal: 13.7s\tremaining: 10.9s\n",
            "558:\tlearn: 0.4663721\ttotal: 13.7s\tremaining: 10.8s\n",
            "559:\tlearn: 0.4660294\ttotal: 13.8s\tremaining: 10.8s\n",
            "560:\tlearn: 0.4658013\ttotal: 13.8s\tremaining: 10.8s\n",
            "561:\tlearn: 0.4657470\ttotal: 13.8s\tremaining: 10.8s\n",
            "562:\tlearn: 0.4655425\ttotal: 13.8s\tremaining: 10.7s\n",
            "563:\tlearn: 0.4654825\ttotal: 13.9s\tremaining: 10.7s\n",
            "564:\tlearn: 0.4652981\ttotal: 13.9s\tremaining: 10.7s\n",
            "565:\tlearn: 0.4650742\ttotal: 13.9s\tremaining: 10.7s\n",
            "566:\tlearn: 0.4646392\ttotal: 13.9s\tremaining: 10.6s\n",
            "567:\tlearn: 0.4642244\ttotal: 14s\tremaining: 10.6s\n",
            "568:\tlearn: 0.4639450\ttotal: 14s\tremaining: 10.6s\n",
            "569:\tlearn: 0.4638869\ttotal: 14s\tremaining: 10.6s\n",
            "570:\tlearn: 0.4637011\ttotal: 14s\tremaining: 10.5s\n",
            "571:\tlearn: 0.4635283\ttotal: 14.1s\tremaining: 10.5s\n",
            "572:\tlearn: 0.4631932\ttotal: 14.1s\tremaining: 10.5s\n",
            "573:\tlearn: 0.4627057\ttotal: 14.1s\tremaining: 10.5s\n",
            "574:\tlearn: 0.4622185\ttotal: 14.1s\tremaining: 10.4s\n",
            "575:\tlearn: 0.4618025\ttotal: 14.1s\tremaining: 10.4s\n",
            "576:\tlearn: 0.4613529\ttotal: 14.2s\tremaining: 10.4s\n",
            "577:\tlearn: 0.4611092\ttotal: 14.2s\tremaining: 10.4s\n",
            "578:\tlearn: 0.4609636\ttotal: 14.2s\tremaining: 10.3s\n",
            "579:\tlearn: 0.4604191\ttotal: 14.3s\tremaining: 10.3s\n",
            "580:\tlearn: 0.4600195\ttotal: 14.3s\tremaining: 10.3s\n",
            "581:\tlearn: 0.4598671\ttotal: 14.3s\tremaining: 10.3s\n",
            "582:\tlearn: 0.4597785\ttotal: 14.3s\tremaining: 10.2s\n",
            "583:\tlearn: 0.4596547\ttotal: 14.3s\tremaining: 10.2s\n",
            "584:\tlearn: 0.4595065\ttotal: 14.4s\tremaining: 10.2s\n",
            "585:\tlearn: 0.4591981\ttotal: 14.4s\tremaining: 10.2s\n",
            "586:\tlearn: 0.4590635\ttotal: 14.4s\tremaining: 10.2s\n",
            "587:\tlearn: 0.4586124\ttotal: 14.5s\tremaining: 10.1s\n",
            "588:\tlearn: 0.4584031\ttotal: 14.5s\tremaining: 10.1s\n",
            "589:\tlearn: 0.4582629\ttotal: 14.5s\tremaining: 10.1s\n",
            "590:\tlearn: 0.4580352\ttotal: 14.5s\tremaining: 10.1s\n",
            "591:\tlearn: 0.4575829\ttotal: 14.6s\tremaining: 10s\n",
            "592:\tlearn: 0.4572638\ttotal: 14.6s\tremaining: 10s\n",
            "593:\tlearn: 0.4571565\ttotal: 14.6s\tremaining: 9.98s\n",
            "594:\tlearn: 0.4569908\ttotal: 14.6s\tremaining: 9.96s\n",
            "595:\tlearn: 0.4565870\ttotal: 14.7s\tremaining: 9.94s\n",
            "596:\tlearn: 0.4564585\ttotal: 14.7s\tremaining: 9.91s\n",
            "597:\tlearn: 0.4561828\ttotal: 14.7s\tremaining: 9.88s\n",
            "598:\tlearn: 0.4556667\ttotal: 14.7s\tremaining: 9.86s\n",
            "599:\tlearn: 0.4552793\ttotal: 14.8s\tremaining: 9.83s\n",
            "600:\tlearn: 0.4548931\ttotal: 14.8s\tremaining: 9.81s\n",
            "601:\tlearn: 0.4545489\ttotal: 14.8s\tremaining: 9.78s\n",
            "602:\tlearn: 0.4540558\ttotal: 14.8s\tremaining: 9.76s\n",
            "603:\tlearn: 0.4539800\ttotal: 14.9s\tremaining: 9.74s\n",
            "604:\tlearn: 0.4538313\ttotal: 14.9s\tremaining: 9.71s\n",
            "605:\tlearn: 0.4536758\ttotal: 14.9s\tremaining: 9.69s\n",
            "606:\tlearn: 0.4534070\ttotal: 14.9s\tremaining: 9.67s\n",
            "607:\tlearn: 0.4531823\ttotal: 15s\tremaining: 9.64s\n",
            "608:\tlearn: 0.4530018\ttotal: 15s\tremaining: 9.62s\n",
            "609:\tlearn: 0.4528430\ttotal: 15s\tremaining: 9.59s\n",
            "610:\tlearn: 0.4526037\ttotal: 15s\tremaining: 9.57s\n",
            "611:\tlearn: 0.4524039\ttotal: 15.1s\tremaining: 9.54s\n",
            "612:\tlearn: 0.4520995\ttotal: 15.1s\tremaining: 9.52s\n",
            "613:\tlearn: 0.4515818\ttotal: 15.1s\tremaining: 9.5s\n",
            "614:\tlearn: 0.4513736\ttotal: 15.1s\tremaining: 9.47s\n",
            "615:\tlearn: 0.4512675\ttotal: 15.2s\tremaining: 9.45s\n",
            "616:\tlearn: 0.4510922\ttotal: 15.2s\tremaining: 9.42s\n",
            "617:\tlearn: 0.4509408\ttotal: 15.2s\tremaining: 9.4s\n",
            "618:\tlearn: 0.4508248\ttotal: 15.2s\tremaining: 9.37s\n",
            "619:\tlearn: 0.4505229\ttotal: 15.3s\tremaining: 9.35s\n",
            "620:\tlearn: 0.4503508\ttotal: 15.3s\tremaining: 9.32s\n",
            "621:\tlearn: 0.4501339\ttotal: 15.3s\tremaining: 9.3s\n",
            "622:\tlearn: 0.4495890\ttotal: 15.3s\tremaining: 9.28s\n",
            "623:\tlearn: 0.4493083\ttotal: 15.4s\tremaining: 9.25s\n",
            "624:\tlearn: 0.4491985\ttotal: 15.4s\tremaining: 9.23s\n",
            "625:\tlearn: 0.4489623\ttotal: 15.4s\tremaining: 9.2s\n",
            "626:\tlearn: 0.4488560\ttotal: 15.4s\tremaining: 9.18s\n",
            "627:\tlearn: 0.4483897\ttotal: 15.5s\tremaining: 9.16s\n",
            "628:\tlearn: 0.4482371\ttotal: 15.5s\tremaining: 9.13s\n",
            "629:\tlearn: 0.4478152\ttotal: 15.5s\tremaining: 9.11s\n",
            "630:\tlearn: 0.4476253\ttotal: 15.5s\tremaining: 9.08s\n",
            "631:\tlearn: 0.4474990\ttotal: 15.6s\tremaining: 9.06s\n",
            "632:\tlearn: 0.4470355\ttotal: 15.6s\tremaining: 9.04s\n",
            "633:\tlearn: 0.4467625\ttotal: 15.6s\tremaining: 9.01s\n",
            "634:\tlearn: 0.4465387\ttotal: 15.6s\tremaining: 8.99s\n",
            "635:\tlearn: 0.4463177\ttotal: 15.7s\tremaining: 8.96s\n",
            "636:\tlearn: 0.4461095\ttotal: 15.7s\tremaining: 8.94s\n",
            "637:\tlearn: 0.4460399\ttotal: 15.7s\tremaining: 8.91s\n",
            "638:\tlearn: 0.4456688\ttotal: 15.7s\tremaining: 8.89s\n",
            "639:\tlearn: 0.4451661\ttotal: 15.8s\tremaining: 8.86s\n",
            "640:\tlearn: 0.4448926\ttotal: 15.8s\tremaining: 8.84s\n",
            "641:\tlearn: 0.4445930\ttotal: 15.8s\tremaining: 8.81s\n",
            "642:\tlearn: 0.4443838\ttotal: 15.8s\tremaining: 8.79s\n",
            "643:\tlearn: 0.4440645\ttotal: 15.9s\tremaining: 8.77s\n",
            "644:\tlearn: 0.4436991\ttotal: 15.9s\tremaining: 8.74s\n",
            "645:\tlearn: 0.4431059\ttotal: 15.9s\tremaining: 8.72s\n",
            "646:\tlearn: 0.4430619\ttotal: 15.9s\tremaining: 8.69s\n",
            "647:\tlearn: 0.4425516\ttotal: 16s\tremaining: 8.67s\n",
            "648:\tlearn: 0.4421787\ttotal: 16s\tremaining: 8.64s\n",
            "649:\tlearn: 0.4419193\ttotal: 16s\tremaining: 8.62s\n",
            "650:\tlearn: 0.4417770\ttotal: 16s\tremaining: 8.6s\n",
            "651:\tlearn: 0.4414287\ttotal: 16.1s\tremaining: 8.57s\n",
            "652:\tlearn: 0.4410498\ttotal: 16.1s\tremaining: 8.55s\n",
            "653:\tlearn: 0.4407889\ttotal: 16.1s\tremaining: 8.52s\n",
            "654:\tlearn: 0.4406186\ttotal: 16.1s\tremaining: 8.5s\n",
            "655:\tlearn: 0.4402973\ttotal: 16.2s\tremaining: 8.47s\n",
            "656:\tlearn: 0.4400903\ttotal: 16.2s\tremaining: 8.45s\n",
            "657:\tlearn: 0.4397772\ttotal: 16.2s\tremaining: 8.43s\n",
            "658:\tlearn: 0.4395026\ttotal: 16.2s\tremaining: 8.4s\n",
            "659:\tlearn: 0.4391702\ttotal: 16.3s\tremaining: 8.38s\n",
            "660:\tlearn: 0.4389572\ttotal: 16.3s\tremaining: 8.35s\n",
            "661:\tlearn: 0.4385843\ttotal: 16.3s\tremaining: 8.33s\n",
            "662:\tlearn: 0.4385421\ttotal: 16.3s\tremaining: 8.3s\n",
            "663:\tlearn: 0.4383000\ttotal: 16.4s\tremaining: 8.28s\n",
            "664:\tlearn: 0.4382129\ttotal: 16.4s\tremaining: 8.25s\n",
            "665:\tlearn: 0.4379803\ttotal: 16.4s\tremaining: 8.23s\n",
            "666:\tlearn: 0.4376498\ttotal: 16.4s\tremaining: 8.21s\n",
            "667:\tlearn: 0.4374803\ttotal: 16.5s\tremaining: 8.18s\n",
            "668:\tlearn: 0.4372775\ttotal: 16.5s\tremaining: 8.15s\n",
            "669:\tlearn: 0.4371279\ttotal: 16.5s\tremaining: 8.13s\n",
            "670:\tlearn: 0.4369690\ttotal: 16.5s\tremaining: 8.11s\n",
            "671:\tlearn: 0.4368626\ttotal: 16.6s\tremaining: 8.08s\n",
            "672:\tlearn: 0.4366442\ttotal: 16.6s\tremaining: 8.05s\n",
            "673:\tlearn: 0.4364384\ttotal: 16.6s\tremaining: 8.03s\n",
            "674:\tlearn: 0.4362542\ttotal: 16.6s\tremaining: 8.01s\n",
            "675:\tlearn: 0.4360011\ttotal: 16.7s\tremaining: 7.98s\n",
            "676:\tlearn: 0.4355933\ttotal: 16.7s\tremaining: 7.96s\n",
            "677:\tlearn: 0.4354032\ttotal: 16.7s\tremaining: 7.93s\n",
            "678:\tlearn: 0.4351066\ttotal: 16.7s\tremaining: 7.91s\n",
            "679:\tlearn: 0.4350092\ttotal: 16.8s\tremaining: 7.88s\n",
            "680:\tlearn: 0.4344323\ttotal: 16.8s\tremaining: 7.86s\n",
            "681:\tlearn: 0.4342616\ttotal: 16.8s\tremaining: 7.83s\n",
            "682:\tlearn: 0.4339194\ttotal: 16.8s\tremaining: 7.81s\n",
            "683:\tlearn: 0.4336785\ttotal: 16.9s\tremaining: 7.79s\n",
            "684:\tlearn: 0.4336032\ttotal: 16.9s\tremaining: 7.76s\n",
            "685:\tlearn: 0.4332912\ttotal: 16.9s\tremaining: 7.74s\n",
            "686:\tlearn: 0.4329909\ttotal: 16.9s\tremaining: 7.71s\n",
            "687:\tlearn: 0.4327944\ttotal: 17s\tremaining: 7.69s\n",
            "688:\tlearn: 0.4326523\ttotal: 17s\tremaining: 7.66s\n",
            "689:\tlearn: 0.4325007\ttotal: 17s\tremaining: 7.64s\n",
            "690:\tlearn: 0.4321017\ttotal: 17s\tremaining: 7.62s\n",
            "691:\tlearn: 0.4318382\ttotal: 17.1s\tremaining: 7.59s\n",
            "692:\tlearn: 0.4316248\ttotal: 17.1s\tremaining: 7.57s\n",
            "693:\tlearn: 0.4314845\ttotal: 17.1s\tremaining: 7.54s\n",
            "694:\tlearn: 0.4313870\ttotal: 17.1s\tremaining: 7.52s\n",
            "695:\tlearn: 0.4311469\ttotal: 17.2s\tremaining: 7.49s\n",
            "696:\tlearn: 0.4308170\ttotal: 17.2s\tremaining: 7.47s\n",
            "697:\tlearn: 0.4305392\ttotal: 17.2s\tremaining: 7.44s\n",
            "698:\tlearn: 0.4304969\ttotal: 17.2s\tremaining: 7.42s\n",
            "699:\tlearn: 0.4302170\ttotal: 17.2s\tremaining: 7.39s\n",
            "700:\tlearn: 0.4298842\ttotal: 17.3s\tremaining: 7.37s\n",
            "701:\tlearn: 0.4296974\ttotal: 17.3s\tremaining: 7.34s\n",
            "702:\tlearn: 0.4294395\ttotal: 17.3s\tremaining: 7.32s\n",
            "703:\tlearn: 0.4291657\ttotal: 17.3s\tremaining: 7.29s\n",
            "704:\tlearn: 0.4290348\ttotal: 17.4s\tremaining: 7.27s\n",
            "705:\tlearn: 0.4289674\ttotal: 17.4s\tremaining: 7.24s\n",
            "706:\tlearn: 0.4286934\ttotal: 17.4s\tremaining: 7.22s\n",
            "707:\tlearn: 0.4283869\ttotal: 17.4s\tremaining: 7.19s\n",
            "708:\tlearn: 0.4283269\ttotal: 17.5s\tremaining: 7.17s\n",
            "709:\tlearn: 0.4278621\ttotal: 17.5s\tremaining: 7.14s\n",
            "710:\tlearn: 0.4276144\ttotal: 17.5s\tremaining: 7.12s\n",
            "711:\tlearn: 0.4270069\ttotal: 17.5s\tremaining: 7.09s\n",
            "712:\tlearn: 0.4268457\ttotal: 17.6s\tremaining: 7.07s\n",
            "713:\tlearn: 0.4267334\ttotal: 17.6s\tremaining: 7.04s\n",
            "714:\tlearn: 0.4265194\ttotal: 17.6s\tremaining: 7.02s\n",
            "715:\tlearn: 0.4261819\ttotal: 17.6s\tremaining: 6.99s\n",
            "716:\tlearn: 0.4260587\ttotal: 17.7s\tremaining: 6.97s\n",
            "717:\tlearn: 0.4258769\ttotal: 17.7s\tremaining: 6.94s\n",
            "718:\tlearn: 0.4256865\ttotal: 17.7s\tremaining: 6.92s\n",
            "719:\tlearn: 0.4255788\ttotal: 17.7s\tremaining: 6.89s\n",
            "720:\tlearn: 0.4253716\ttotal: 17.8s\tremaining: 6.87s\n",
            "721:\tlearn: 0.4250969\ttotal: 17.8s\tremaining: 6.85s\n",
            "722:\tlearn: 0.4247972\ttotal: 17.8s\tremaining: 6.82s\n",
            "723:\tlearn: 0.4246312\ttotal: 17.8s\tremaining: 6.8s\n",
            "724:\tlearn: 0.4242930\ttotal: 17.9s\tremaining: 6.77s\n",
            "725:\tlearn: 0.4241030\ttotal: 17.9s\tremaining: 6.75s\n",
            "726:\tlearn: 0.4236799\ttotal: 17.9s\tremaining: 6.72s\n",
            "727:\tlearn: 0.4233301\ttotal: 17.9s\tremaining: 6.7s\n",
            "728:\tlearn: 0.4230331\ttotal: 18s\tremaining: 6.67s\n",
            "729:\tlearn: 0.4227669\ttotal: 18s\tremaining: 6.65s\n",
            "730:\tlearn: 0.4225115\ttotal: 18s\tremaining: 6.63s\n",
            "731:\tlearn: 0.4221192\ttotal: 18s\tremaining: 6.6s\n",
            "732:\tlearn: 0.4217593\ttotal: 18.1s\tremaining: 6.58s\n",
            "733:\tlearn: 0.4214325\ttotal: 18.1s\tremaining: 6.55s\n",
            "734:\tlearn: 0.4211693\ttotal: 18.1s\tremaining: 6.53s\n",
            "735:\tlearn: 0.4209587\ttotal: 18.1s\tremaining: 6.5s\n",
            "736:\tlearn: 0.4206384\ttotal: 18.1s\tremaining: 6.48s\n",
            "737:\tlearn: 0.4203496\ttotal: 18.2s\tremaining: 6.45s\n",
            "738:\tlearn: 0.4200969\ttotal: 18.2s\tremaining: 6.43s\n",
            "739:\tlearn: 0.4198125\ttotal: 18.2s\tremaining: 6.4s\n",
            "740:\tlearn: 0.4196683\ttotal: 18.2s\tremaining: 6.38s\n",
            "741:\tlearn: 0.4194511\ttotal: 18.3s\tremaining: 6.35s\n",
            "742:\tlearn: 0.4192062\ttotal: 18.3s\tremaining: 6.33s\n",
            "743:\tlearn: 0.4191127\ttotal: 18.3s\tremaining: 6.3s\n",
            "744:\tlearn: 0.4188148\ttotal: 18.3s\tremaining: 6.28s\n",
            "745:\tlearn: 0.4184715\ttotal: 18.4s\tremaining: 6.25s\n",
            "746:\tlearn: 0.4179918\ttotal: 18.4s\tremaining: 6.23s\n",
            "747:\tlearn: 0.4177446\ttotal: 18.4s\tremaining: 6.21s\n",
            "748:\tlearn: 0.4176352\ttotal: 18.4s\tremaining: 6.18s\n",
            "749:\tlearn: 0.4174348\ttotal: 18.5s\tremaining: 6.16s\n",
            "750:\tlearn: 0.4171144\ttotal: 18.5s\tremaining: 6.13s\n",
            "751:\tlearn: 0.4168644\ttotal: 18.5s\tremaining: 6.11s\n",
            "752:\tlearn: 0.4168111\ttotal: 18.6s\tremaining: 6.08s\n",
            "753:\tlearn: 0.4165502\ttotal: 18.6s\tremaining: 6.06s\n",
            "754:\tlearn: 0.4163296\ttotal: 18.6s\tremaining: 6.04s\n",
            "755:\tlearn: 0.4161213\ttotal: 18.6s\tremaining: 6.01s\n",
            "756:\tlearn: 0.4156923\ttotal: 18.7s\tremaining: 5.99s\n",
            "757:\tlearn: 0.4154914\ttotal: 18.7s\tremaining: 5.96s\n",
            "758:\tlearn: 0.4150853\ttotal: 18.7s\tremaining: 5.94s\n",
            "759:\tlearn: 0.4148718\ttotal: 18.7s\tremaining: 5.91s\n",
            "760:\tlearn: 0.4147305\ttotal: 18.8s\tremaining: 5.89s\n",
            "761:\tlearn: 0.4144590\ttotal: 18.8s\tremaining: 5.87s\n",
            "762:\tlearn: 0.4143151\ttotal: 18.8s\tremaining: 5.84s\n",
            "763:\tlearn: 0.4138804\ttotal: 18.8s\tremaining: 5.82s\n",
            "764:\tlearn: 0.4136702\ttotal: 18.9s\tremaining: 5.79s\n",
            "765:\tlearn: 0.4133659\ttotal: 18.9s\tremaining: 5.77s\n",
            "766:\tlearn: 0.4132052\ttotal: 18.9s\tremaining: 5.74s\n",
            "767:\tlearn: 0.4128589\ttotal: 18.9s\tremaining: 5.72s\n",
            "768:\tlearn: 0.4126325\ttotal: 19s\tremaining: 5.69s\n",
            "769:\tlearn: 0.4124057\ttotal: 19s\tremaining: 5.67s\n",
            "770:\tlearn: 0.4118129\ttotal: 19s\tremaining: 5.64s\n",
            "771:\tlearn: 0.4116294\ttotal: 19s\tremaining: 5.62s\n",
            "772:\tlearn: 0.4116070\ttotal: 19.1s\tremaining: 5.59s\n",
            "773:\tlearn: 0.4114035\ttotal: 19.1s\tremaining: 5.57s\n",
            "774:\tlearn: 0.4112462\ttotal: 19.1s\tremaining: 5.55s\n",
            "775:\tlearn: 0.4109638\ttotal: 19.1s\tremaining: 5.52s\n",
            "776:\tlearn: 0.4105975\ttotal: 19.2s\tremaining: 5.5s\n",
            "777:\tlearn: 0.4103941\ttotal: 19.2s\tremaining: 5.47s\n",
            "778:\tlearn: 0.4101222\ttotal: 19.2s\tremaining: 5.45s\n",
            "779:\tlearn: 0.4095999\ttotal: 19.2s\tremaining: 5.42s\n",
            "780:\tlearn: 0.4095893\ttotal: 19.3s\tremaining: 5.4s\n",
            "781:\tlearn: 0.4092178\ttotal: 19.3s\tremaining: 5.38s\n",
            "782:\tlearn: 0.4090317\ttotal: 19.3s\tremaining: 5.35s\n",
            "783:\tlearn: 0.4086227\ttotal: 19.3s\tremaining: 5.33s\n",
            "784:\tlearn: 0.4083662\ttotal: 19.4s\tremaining: 5.3s\n",
            "785:\tlearn: 0.4081669\ttotal: 19.4s\tremaining: 5.28s\n",
            "786:\tlearn: 0.4079174\ttotal: 19.4s\tremaining: 5.25s\n",
            "787:\tlearn: 0.4078135\ttotal: 19.4s\tremaining: 5.23s\n",
            "788:\tlearn: 0.4076531\ttotal: 19.5s\tremaining: 5.21s\n",
            "789:\tlearn: 0.4074218\ttotal: 19.5s\tremaining: 5.18s\n",
            "790:\tlearn: 0.4071495\ttotal: 19.5s\tremaining: 5.16s\n",
            "791:\tlearn: 0.4069041\ttotal: 19.6s\tremaining: 5.13s\n",
            "792:\tlearn: 0.4067323\ttotal: 19.6s\tremaining: 5.11s\n",
            "793:\tlearn: 0.4064883\ttotal: 19.6s\tremaining: 5.09s\n",
            "794:\tlearn: 0.4060401\ttotal: 19.6s\tremaining: 5.06s\n",
            "795:\tlearn: 0.4057211\ttotal: 19.7s\tremaining: 5.04s\n",
            "796:\tlearn: 0.4053061\ttotal: 19.7s\tremaining: 5.01s\n",
            "797:\tlearn: 0.4050133\ttotal: 19.7s\tremaining: 4.99s\n",
            "798:\tlearn: 0.4047558\ttotal: 19.7s\tremaining: 4.96s\n",
            "799:\tlearn: 0.4044178\ttotal: 19.8s\tremaining: 4.94s\n",
            "800:\tlearn: 0.4042370\ttotal: 19.8s\tremaining: 4.92s\n",
            "801:\tlearn: 0.4039985\ttotal: 19.8s\tremaining: 4.89s\n",
            "802:\tlearn: 0.4037484\ttotal: 19.8s\tremaining: 4.87s\n",
            "803:\tlearn: 0.4037030\ttotal: 19.9s\tremaining: 4.84s\n",
            "804:\tlearn: 0.4034554\ttotal: 19.9s\tremaining: 4.82s\n",
            "805:\tlearn: 0.4029220\ttotal: 19.9s\tremaining: 4.79s\n",
            "806:\tlearn: 0.4026708\ttotal: 19.9s\tremaining: 4.77s\n",
            "807:\tlearn: 0.4025146\ttotal: 20s\tremaining: 4.74s\n",
            "808:\tlearn: 0.4022522\ttotal: 20s\tremaining: 4.72s\n",
            "809:\tlearn: 0.4018676\ttotal: 20s\tremaining: 4.69s\n",
            "810:\tlearn: 0.4017330\ttotal: 20s\tremaining: 4.67s\n",
            "811:\tlearn: 0.4014730\ttotal: 20.1s\tremaining: 4.65s\n",
            "812:\tlearn: 0.4013043\ttotal: 20.1s\tremaining: 4.62s\n",
            "813:\tlearn: 0.4009605\ttotal: 20.1s\tremaining: 4.6s\n",
            "814:\tlearn: 0.4006492\ttotal: 20.1s\tremaining: 4.57s\n",
            "815:\tlearn: 0.4005515\ttotal: 20.2s\tremaining: 4.55s\n",
            "816:\tlearn: 0.4002376\ttotal: 20.2s\tremaining: 4.52s\n",
            "817:\tlearn: 0.3998356\ttotal: 20.2s\tremaining: 4.5s\n",
            "818:\tlearn: 0.3997713\ttotal: 20.2s\tremaining: 4.47s\n",
            "819:\tlearn: 0.3995311\ttotal: 20.3s\tremaining: 4.45s\n",
            "820:\tlearn: 0.3993848\ttotal: 20.3s\tremaining: 4.42s\n",
            "821:\tlearn: 0.3992749\ttotal: 20.3s\tremaining: 4.4s\n",
            "822:\tlearn: 0.3991684\ttotal: 20.3s\tremaining: 4.38s\n",
            "823:\tlearn: 0.3988630\ttotal: 20.4s\tremaining: 4.35s\n",
            "824:\tlearn: 0.3987774\ttotal: 20.4s\tremaining: 4.33s\n",
            "825:\tlearn: 0.3983618\ttotal: 20.4s\tremaining: 4.3s\n",
            "826:\tlearn: 0.3980973\ttotal: 20.4s\tremaining: 4.28s\n",
            "827:\tlearn: 0.3978642\ttotal: 20.5s\tremaining: 4.25s\n",
            "828:\tlearn: 0.3976887\ttotal: 20.5s\tremaining: 4.23s\n",
            "829:\tlearn: 0.3974064\ttotal: 20.5s\tremaining: 4.2s\n",
            "830:\tlearn: 0.3971630\ttotal: 20.6s\tremaining: 4.18s\n",
            "831:\tlearn: 0.3969562\ttotal: 20.6s\tremaining: 4.16s\n",
            "832:\tlearn: 0.3968401\ttotal: 20.6s\tremaining: 4.13s\n",
            "833:\tlearn: 0.3965489\ttotal: 20.6s\tremaining: 4.11s\n",
            "834:\tlearn: 0.3960571\ttotal: 20.7s\tremaining: 4.08s\n",
            "835:\tlearn: 0.3959536\ttotal: 20.7s\tremaining: 4.06s\n",
            "836:\tlearn: 0.3957379\ttotal: 20.7s\tremaining: 4.03s\n",
            "837:\tlearn: 0.3954365\ttotal: 20.7s\tremaining: 4.01s\n",
            "838:\tlearn: 0.3949880\ttotal: 20.8s\tremaining: 3.98s\n",
            "839:\tlearn: 0.3946819\ttotal: 20.8s\tremaining: 3.96s\n",
            "840:\tlearn: 0.3940067\ttotal: 20.8s\tremaining: 3.94s\n",
            "841:\tlearn: 0.3938249\ttotal: 20.9s\tremaining: 3.91s\n",
            "842:\tlearn: 0.3935152\ttotal: 20.9s\tremaining: 3.89s\n",
            "843:\tlearn: 0.3934248\ttotal: 20.9s\tremaining: 3.87s\n",
            "844:\tlearn: 0.3931833\ttotal: 20.9s\tremaining: 3.84s\n",
            "845:\tlearn: 0.3930211\ttotal: 21s\tremaining: 3.82s\n",
            "846:\tlearn: 0.3926740\ttotal: 21s\tremaining: 3.79s\n",
            "847:\tlearn: 0.3924738\ttotal: 21s\tremaining: 3.77s\n",
            "848:\tlearn: 0.3923719\ttotal: 21.1s\tremaining: 3.75s\n",
            "849:\tlearn: 0.3921532\ttotal: 21.1s\tremaining: 3.72s\n",
            "850:\tlearn: 0.3919970\ttotal: 21.1s\tremaining: 3.7s\n",
            "851:\tlearn: 0.3918119\ttotal: 21.1s\tremaining: 3.67s\n",
            "852:\tlearn: 0.3916262\ttotal: 21.2s\tremaining: 3.65s\n",
            "853:\tlearn: 0.3914086\ttotal: 21.2s\tremaining: 3.62s\n",
            "854:\tlearn: 0.3913202\ttotal: 21.2s\tremaining: 3.6s\n",
            "855:\tlearn: 0.3911172\ttotal: 21.3s\tremaining: 3.58s\n",
            "856:\tlearn: 0.3909323\ttotal: 21.3s\tremaining: 3.55s\n",
            "857:\tlearn: 0.3906391\ttotal: 21.3s\tremaining: 3.53s\n",
            "858:\tlearn: 0.3905328\ttotal: 21.3s\tremaining: 3.5s\n",
            "859:\tlearn: 0.3901941\ttotal: 21.4s\tremaining: 3.48s\n",
            "860:\tlearn: 0.3899604\ttotal: 21.4s\tremaining: 3.45s\n",
            "861:\tlearn: 0.3897479\ttotal: 21.4s\tremaining: 3.43s\n",
            "862:\tlearn: 0.3896720\ttotal: 21.4s\tremaining: 3.4s\n",
            "863:\tlearn: 0.3893937\ttotal: 21.5s\tremaining: 3.38s\n",
            "864:\tlearn: 0.3893538\ttotal: 21.5s\tremaining: 3.35s\n",
            "865:\tlearn: 0.3891070\ttotal: 21.5s\tremaining: 3.33s\n",
            "866:\tlearn: 0.3888637\ttotal: 21.6s\tremaining: 3.31s\n",
            "867:\tlearn: 0.3887641\ttotal: 21.6s\tremaining: 3.28s\n",
            "868:\tlearn: 0.3885644\ttotal: 21.6s\tremaining: 3.26s\n",
            "869:\tlearn: 0.3884152\ttotal: 21.6s\tremaining: 3.23s\n",
            "870:\tlearn: 0.3880559\ttotal: 21.7s\tremaining: 3.21s\n",
            "871:\tlearn: 0.3877813\ttotal: 21.7s\tremaining: 3.18s\n",
            "872:\tlearn: 0.3876285\ttotal: 21.7s\tremaining: 3.16s\n",
            "873:\tlearn: 0.3875628\ttotal: 21.7s\tremaining: 3.13s\n",
            "874:\tlearn: 0.3874705\ttotal: 21.8s\tremaining: 3.11s\n",
            "875:\tlearn: 0.3873583\ttotal: 21.8s\tremaining: 3.08s\n",
            "876:\tlearn: 0.3871198\ttotal: 21.8s\tremaining: 3.06s\n",
            "877:\tlearn: 0.3869424\ttotal: 21.9s\tremaining: 3.04s\n",
            "878:\tlearn: 0.3866648\ttotal: 21.9s\tremaining: 3.01s\n",
            "879:\tlearn: 0.3865459\ttotal: 21.9s\tremaining: 2.99s\n",
            "880:\tlearn: 0.3860600\ttotal: 21.9s\tremaining: 2.96s\n",
            "881:\tlearn: 0.3858414\ttotal: 22s\tremaining: 2.94s\n",
            "882:\tlearn: 0.3856177\ttotal: 22s\tremaining: 2.91s\n",
            "883:\tlearn: 0.3853133\ttotal: 22s\tremaining: 2.89s\n",
            "884:\tlearn: 0.3851595\ttotal: 22s\tremaining: 2.86s\n",
            "885:\tlearn: 0.3849304\ttotal: 22.1s\tremaining: 2.84s\n",
            "886:\tlearn: 0.3848436\ttotal: 22.1s\tremaining: 2.81s\n",
            "887:\tlearn: 0.3847442\ttotal: 22.1s\tremaining: 2.79s\n",
            "888:\tlearn: 0.3846410\ttotal: 22.1s\tremaining: 2.76s\n",
            "889:\tlearn: 0.3843916\ttotal: 22.2s\tremaining: 2.74s\n",
            "890:\tlearn: 0.3843365\ttotal: 22.2s\tremaining: 2.71s\n",
            "891:\tlearn: 0.3842497\ttotal: 22.2s\tremaining: 2.69s\n",
            "892:\tlearn: 0.3840346\ttotal: 22.2s\tremaining: 2.67s\n",
            "893:\tlearn: 0.3837759\ttotal: 22.3s\tremaining: 2.64s\n",
            "894:\tlearn: 0.3837240\ttotal: 22.3s\tremaining: 2.62s\n",
            "895:\tlearn: 0.3835517\ttotal: 22.3s\tremaining: 2.59s\n",
            "896:\tlearn: 0.3833471\ttotal: 22.4s\tremaining: 2.57s\n",
            "897:\tlearn: 0.3831468\ttotal: 22.4s\tremaining: 2.54s\n",
            "898:\tlearn: 0.3828892\ttotal: 22.4s\tremaining: 2.52s\n",
            "899:\tlearn: 0.3825541\ttotal: 22.4s\tremaining: 2.49s\n",
            "900:\tlearn: 0.3824087\ttotal: 22.5s\tremaining: 2.47s\n",
            "901:\tlearn: 0.3822555\ttotal: 22.5s\tremaining: 2.44s\n",
            "902:\tlearn: 0.3818830\ttotal: 22.5s\tremaining: 2.42s\n",
            "903:\tlearn: 0.3817314\ttotal: 22.5s\tremaining: 2.39s\n",
            "904:\tlearn: 0.3815149\ttotal: 22.6s\tremaining: 2.37s\n",
            "905:\tlearn: 0.3811521\ttotal: 22.6s\tremaining: 2.34s\n",
            "906:\tlearn: 0.3808467\ttotal: 22.6s\tremaining: 2.32s\n",
            "907:\tlearn: 0.3805999\ttotal: 22.6s\tremaining: 2.29s\n",
            "908:\tlearn: 0.3802507\ttotal: 22.7s\tremaining: 2.27s\n",
            "909:\tlearn: 0.3798877\ttotal: 22.7s\tremaining: 2.24s\n",
            "910:\tlearn: 0.3796480\ttotal: 22.7s\tremaining: 2.22s\n",
            "911:\tlearn: 0.3794458\ttotal: 22.7s\tremaining: 2.19s\n",
            "912:\tlearn: 0.3790975\ttotal: 22.8s\tremaining: 2.17s\n",
            "913:\tlearn: 0.3789942\ttotal: 22.8s\tremaining: 2.14s\n",
            "914:\tlearn: 0.3788867\ttotal: 22.8s\tremaining: 2.12s\n",
            "915:\tlearn: 0.3785766\ttotal: 22.8s\tremaining: 2.09s\n",
            "916:\tlearn: 0.3782255\ttotal: 22.9s\tremaining: 2.07s\n",
            "917:\tlearn: 0.3778744\ttotal: 22.9s\tremaining: 2.04s\n",
            "918:\tlearn: 0.3778072\ttotal: 22.9s\tremaining: 2.02s\n",
            "919:\tlearn: 0.3777083\ttotal: 22.9s\tremaining: 2s\n",
            "920:\tlearn: 0.3775569\ttotal: 23s\tremaining: 1.97s\n",
            "921:\tlearn: 0.3772320\ttotal: 23s\tremaining: 1.95s\n",
            "922:\tlearn: 0.3769463\ttotal: 23s\tremaining: 1.92s\n",
            "923:\tlearn: 0.3767255\ttotal: 23s\tremaining: 1.9s\n",
            "924:\tlearn: 0.3764496\ttotal: 23.1s\tremaining: 1.87s\n",
            "925:\tlearn: 0.3762064\ttotal: 23.1s\tremaining: 1.84s\n",
            "926:\tlearn: 0.3759300\ttotal: 23.1s\tremaining: 1.82s\n",
            "927:\tlearn: 0.3757267\ttotal: 23.1s\tremaining: 1.8s\n",
            "928:\tlearn: 0.3755202\ttotal: 23.2s\tremaining: 1.77s\n",
            "929:\tlearn: 0.3751812\ttotal: 23.2s\tremaining: 1.75s\n",
            "930:\tlearn: 0.3749814\ttotal: 23.2s\tremaining: 1.72s\n",
            "931:\tlearn: 0.3747767\ttotal: 23.2s\tremaining: 1.7s\n",
            "932:\tlearn: 0.3746203\ttotal: 23.3s\tremaining: 1.67s\n",
            "933:\tlearn: 0.3744254\ttotal: 23.3s\tremaining: 1.65s\n",
            "934:\tlearn: 0.3742337\ttotal: 23.3s\tremaining: 1.62s\n",
            "935:\tlearn: 0.3740811\ttotal: 23.3s\tremaining: 1.6s\n",
            "936:\tlearn: 0.3738910\ttotal: 23.4s\tremaining: 1.57s\n",
            "937:\tlearn: 0.3737097\ttotal: 23.4s\tremaining: 1.55s\n",
            "938:\tlearn: 0.3732531\ttotal: 23.4s\tremaining: 1.52s\n",
            "939:\tlearn: 0.3728504\ttotal: 23.4s\tremaining: 1.5s\n",
            "940:\tlearn: 0.3724984\ttotal: 23.5s\tremaining: 1.47s\n",
            "941:\tlearn: 0.3722272\ttotal: 23.5s\tremaining: 1.45s\n",
            "942:\tlearn: 0.3720898\ttotal: 23.5s\tremaining: 1.42s\n",
            "943:\tlearn: 0.3719317\ttotal: 23.6s\tremaining: 1.4s\n",
            "944:\tlearn: 0.3717779\ttotal: 23.6s\tremaining: 1.37s\n",
            "945:\tlearn: 0.3715887\ttotal: 23.6s\tremaining: 1.35s\n",
            "946:\tlearn: 0.3713975\ttotal: 23.6s\tremaining: 1.32s\n",
            "947:\tlearn: 0.3711156\ttotal: 23.7s\tremaining: 1.3s\n",
            "948:\tlearn: 0.3709892\ttotal: 23.7s\tremaining: 1.27s\n",
            "949:\tlearn: 0.3708666\ttotal: 23.7s\tremaining: 1.25s\n",
            "950:\tlearn: 0.3705485\ttotal: 23.7s\tremaining: 1.22s\n",
            "951:\tlearn: 0.3701700\ttotal: 23.8s\tremaining: 1.2s\n",
            "952:\tlearn: 0.3699474\ttotal: 23.8s\tremaining: 1.17s\n",
            "953:\tlearn: 0.3696138\ttotal: 23.8s\tremaining: 1.15s\n",
            "954:\tlearn: 0.3693766\ttotal: 23.8s\tremaining: 1.12s\n",
            "955:\tlearn: 0.3693166\ttotal: 23.9s\tremaining: 1.1s\n",
            "956:\tlearn: 0.3689342\ttotal: 23.9s\tremaining: 1.07s\n",
            "957:\tlearn: 0.3686852\ttotal: 23.9s\tremaining: 1.05s\n",
            "958:\tlearn: 0.3686249\ttotal: 23.9s\tremaining: 1.02s\n",
            "959:\tlearn: 0.3685751\ttotal: 24s\tremaining: 998ms\n",
            "960:\tlearn: 0.3682281\ttotal: 24s\tremaining: 973ms\n",
            "961:\tlearn: 0.3679519\ttotal: 24s\tremaining: 948ms\n",
            "962:\tlearn: 0.3677169\ttotal: 24s\tremaining: 923ms\n",
            "963:\tlearn: 0.3674933\ttotal: 24.1s\tremaining: 899ms\n",
            "964:\tlearn: 0.3673617\ttotal: 24.1s\tremaining: 874ms\n",
            "965:\tlearn: 0.3672278\ttotal: 24.1s\tremaining: 849ms\n",
            "966:\tlearn: 0.3671717\ttotal: 24.1s\tremaining: 824ms\n",
            "967:\tlearn: 0.3668180\ttotal: 24.2s\tremaining: 799ms\n",
            "968:\tlearn: 0.3666494\ttotal: 24.2s\tremaining: 774ms\n",
            "969:\tlearn: 0.3665160\ttotal: 24.2s\tremaining: 749ms\n",
            "970:\tlearn: 0.3663538\ttotal: 24.2s\tremaining: 724ms\n",
            "971:\tlearn: 0.3663124\ttotal: 24.3s\tremaining: 699ms\n",
            "972:\tlearn: 0.3660235\ttotal: 24.3s\tremaining: 674ms\n",
            "973:\tlearn: 0.3658542\ttotal: 24.3s\tremaining: 649ms\n",
            "974:\tlearn: 0.3657061\ttotal: 24.3s\tremaining: 624ms\n",
            "975:\tlearn: 0.3656471\ttotal: 24.4s\tremaining: 599ms\n",
            "976:\tlearn: 0.3654873\ttotal: 24.4s\tremaining: 574ms\n",
            "977:\tlearn: 0.3651574\ttotal: 24.4s\tremaining: 549ms\n",
            "978:\tlearn: 0.3648804\ttotal: 24.4s\tremaining: 524ms\n",
            "979:\tlearn: 0.3647441\ttotal: 24.5s\tremaining: 500ms\n",
            "980:\tlearn: 0.3644531\ttotal: 24.5s\tremaining: 475ms\n",
            "981:\tlearn: 0.3640948\ttotal: 24.5s\tremaining: 450ms\n",
            "982:\tlearn: 0.3637585\ttotal: 24.5s\tremaining: 424ms\n",
            "983:\tlearn: 0.3636118\ttotal: 24.6s\tremaining: 400ms\n",
            "984:\tlearn: 0.3634665\ttotal: 24.6s\tremaining: 375ms\n",
            "985:\tlearn: 0.3633960\ttotal: 24.6s\tremaining: 350ms\n",
            "986:\tlearn: 0.3633494\ttotal: 24.6s\tremaining: 325ms\n",
            "987:\tlearn: 0.3632159\ttotal: 24.7s\tremaining: 300ms\n",
            "988:\tlearn: 0.3628209\ttotal: 24.7s\tremaining: 275ms\n",
            "989:\tlearn: 0.3626947\ttotal: 24.7s\tremaining: 250ms\n",
            "990:\tlearn: 0.3625520\ttotal: 24.8s\tremaining: 225ms\n",
            "991:\tlearn: 0.3624440\ttotal: 24.8s\tremaining: 200ms\n",
            "992:\tlearn: 0.3623118\ttotal: 24.8s\tremaining: 175ms\n",
            "993:\tlearn: 0.3619964\ttotal: 24.8s\tremaining: 150ms\n",
            "994:\tlearn: 0.3618169\ttotal: 24.9s\tremaining: 125ms\n",
            "995:\tlearn: 0.3617096\ttotal: 24.9s\tremaining: 99.9ms\n",
            "996:\tlearn: 0.3614521\ttotal: 24.9s\tremaining: 75ms\n",
            "997:\tlearn: 0.3613255\ttotal: 24.9s\tremaining: 50ms\n",
            "998:\tlearn: 0.3610374\ttotal: 25s\tremaining: 25ms\n",
            "999:\tlearn: 0.3609788\ttotal: 25s\tremaining: 0us\n"
          ]
        },
        {
          "output_type": "execute_result",
          "data": {
            "text/plain": [
              "<catboost.core.CatBoostClassifier at 0x7e55201b6230>"
            ]
          },
          "metadata": {},
          "execution_count": 117
        }
      ]
    },
    {
      "cell_type": "code",
      "source": [
        "print(f\"The ROC-AUC score for this model is: {roc_auc_score(y_test_encoded, catboost.predict_proba(X_test), average='weighted', multi_class='ovr'):.4f}\")"
      ],
      "metadata": {
        "id": "NmAMF-0yrcqB",
        "colab": {
          "base_uri": "https://localhost:8080/"
        },
        "outputId": "a92da39e-acbf-4089-8071-d4475a3d2b37"
      },
      "execution_count": 118,
      "outputs": [
        {
          "output_type": "stream",
          "name": "stdout",
          "text": [
            "The ROC-AUC score for this model is: 0.8447\n"
          ]
        }
      ]
    },
    {
      "cell_type": "markdown",
      "metadata": {
        "id": "a3K7MhWzEz1Z"
      },
      "source": [
        "### HYPERPARAMETER OPTIMIZATION USING GRID SEARCH\n"
      ]
    },
    {
      "cell_type": "code",
      "execution_count": 149,
      "metadata": {
        "id": "s4qPIt1gEz1Z"
      },
      "outputs": [],
      "source": [
        "from sklearn.model_selection import GridSearchCV, StratifiedKFold"
      ]
    },
    {
      "cell_type": "markdown",
      "metadata": {
        "id": "VMJ10uBoEz1Z"
      },
      "source": [
        "#### Preparing the hyperparameter space and performing GridSearch CV"
      ]
    },
    {
      "cell_type": "code",
      "source": [
        "results_df = pd.DataFrame(np.zeros(shape=(4, 8)))\n",
        "\n",
        "# Initialize the DataFrame without specifying initial values\n",
        "results_df = pd.DataFrame(columns=[\"Model_Name\", \"Training accuracy\", \"Testing accuracy\", \"Precision\", \"Recall\", \"F1_score\", \"AUC\", \"AP\"])\n",
        "results_df.index.name = \"Model\"\n",
        "\n",
        "# Add model names\n",
        "results_df[\"Model_Name\"] = [\"Gradient Boosting\", \"XGBoost\", \"LightGBM\", \"CatBoost\"]\n"
      ],
      "metadata": {
        "id": "VBXHAwg-dU_T"
      },
      "execution_count": 150,
      "outputs": []
    },
    {
      "cell_type": "code",
      "source": [
        "from sklearn.ensemble import GradientBoostingClassifier\n",
        "from sklearn.model_selection import StratifiedKFold, GridSearchCV\n",
        "\n",
        "# Define the StratifiedKFold\n",
        "stratified_kfold = StratifiedKFold(n_splits=5, shuffle=True, random_state=84)\n",
        "\n",
        "# Hyperparameter tuning with GridSearchCV and StratifiedKFold\n",
        "param_grid = {\n",
        "    'n_estimators': [50, 100, 200],\n",
        "    'learning_rate': [0.01, 0.1, 0.2],\n",
        "    'max_depth': [3, 5, 7],\n",
        "    'subsample': [0.8, 1.0]\n",
        "}\n",
        "\n",
        "gbm = GradientBoostingClassifier(random_state=84)\n",
        "grid_search_gbm = GridSearchCV(gbm, param_grid, cv=stratified_kfold, scoring='accuracy')\n",
        "grid_search_gbm.fit(X_dev, y_dev_encoded)\n",
        "\n",
        "# Fit the model with the best parameters\n",
        "best_gbm = grid_search_gbm.best_estimator_\n",
        "best_gbm.fit(X_dev, y_dev_encoded)"
      ],
      "metadata": {
        "id": "mTC_Prvsqc0W"
      },
      "execution_count": null,
      "outputs": []
    },
    {
      "cell_type": "code",
      "source": [
        "print(grid_search_gbm.best_params_)"
      ],
      "metadata": {
        "id": "lntG8-BCLRdw"
      },
      "execution_count": null,
      "outputs": []
    },
    {
      "cell_type": "code",
      "source": [
        "print(f\"The ROC-AUC score for this model is: {roc_auc_score(y_test_encoded, best_gbm.predict_proba(X_test), average='weighted', multi_class='ovr'):.4f}\")"
      ],
      "metadata": {
        "id": "lTQPjrbYrNO9"
      },
      "execution_count": null,
      "outputs": []
    },
    {
      "cell_type": "code",
      "source": [
        "from sklearn.metrics import accuracy_score, precision_score, recall_score, f1_score, roc_auc_score, average_precision_score\n",
        "\n",
        "# Assuming best_gbm is your trained model, X_test is your test set, and y_test_encoded is the encoded true labels\n",
        "y_pred_proba = best_gbm.predict_proba(X_test)\n",
        "y_pred = best_gbm.predict(X_test)\n",
        "y_pred_encoded = l_enc.transform(y_pred)\n",
        "y_dev_pred = best_gbm.predict(X_dev)\n",
        "y_dev_pred_encoded = l_enc.transform(y_dev_pred)\n",
        "\n",
        "# Accuracy\n",
        "accuracy_training = accuracy_score(y_dev_encoded, y_dev_pred_encoded)\n",
        "accuracy_testing = accuracy_score(y_test_encoded, y_pred_encoded)\n",
        "\n",
        "# Precision, Recall, F1-score\n",
        "precision = precision_score(y_test_encoded, y_pred_encoded, average='weighted')\n",
        "recall = recall_score(y_test_encoded, y_pred_encoded, average='weighted')\n",
        "f1 = f1_score(y_test_encoded, y_pred_encoded, average='weighted')\n",
        "\n",
        "# ROC-AUC Score\n",
        "roc_auc = roc_auc_score(y_test_encoded, best_gbm.predict_proba(X_test), average='weighted', multi_class='ovr')\n",
        "\n",
        "# Average Precision (AP)\n",
        "from sklearn.preprocessing import label_binarize\n",
        "y_test_encoded_bin = label_binarize(y_test_encoded, classes=[0, 1, 2, 3])\n",
        "average_precision = average_precision_score(y_test_encoded_bin, best_gbm.predict_proba(X_test), average='weighted')\n",
        "\n",
        "results_df.loc[0, 'Training accuracy'] = accuracy_training\n",
        "results_df.loc[0, 'Testing accuracy'] = accuracy_testing\n",
        "results_df.loc[0, 'Precision'] = precision\n",
        "results_df.loc[0, 'Recall'] = recall\n",
        "results_df.loc[0, 'F1_score'] = f1\n",
        "results_df.loc[0, 'AUC'] = roc_auc\n",
        "results_df.loc[0, 'AP'] = average_precision\n",
        "\n",
        "# Display the updated DataFrame\n",
        "results_df"
      ],
      "metadata": {
        "id": "Begn-TvMdxH3"
      },
      "execution_count": null,
      "outputs": []
    },
    {
      "cell_type": "code",
      "source": [
        "import xgboost as xgb\n",
        "from sklearn.model_selection import StratifiedKFold, GridSearchCV\n",
        "\n",
        "# Define the StratifiedKFold\n",
        "stratified_kfold = StratifiedKFold(n_splits=5, shuffle=True, random_state=84)\n",
        "\n",
        "# Hyperparameter tuning with GridSearchCV and StratifiedKFold\n",
        "param_grid = {\n",
        "    'learning_rate': [0.01, 0.1, 0.2],\n",
        "    'n_estimators': [50, 100, 200],\n",
        "    'max_depth': [3, 5, 7],\n",
        "    'subsample': [0.8, 1.0],\n",
        "    'colsample_bytree': [0.8, 1.0],\n",
        "    'reg_alpha': [0, 0.1, 0.5],\n",
        "    'reg_lambda': [0, 0.1, 0.5]\n",
        "}\n",
        "\n",
        "xgbc = xgb.XGBClassifier(random_state=84,enable_categorical=True)\n",
        "grid_search_xgb = GridSearchCV(xgbc, param_grid, cv=stratified_kfold, scoring='accuracy')\n",
        "grid_search_xgb.fit(X_dev, y_test_encoded)\n",
        "\n",
        "# Fit the model with the best parameters\n",
        "best_xgbc = grid_search_xgb.best_estimator_\n",
        "best_xgbc.fit(X_dev, y_test_encoded)\n"
      ],
      "metadata": {
        "id": "PohvtOeXq_fX"
      },
      "execution_count": null,
      "outputs": []
    },
    {
      "cell_type": "code",
      "source": [
        "print(grid_search_xgb.best_params_)"
      ],
      "metadata": {
        "id": "D_uTn2xrc1pC"
      },
      "execution_count": null,
      "outputs": []
    },
    {
      "cell_type": "code",
      "source": [
        "print(f\"The ROC-AUC score for this model is: {roc_auc_score(y_test, best_xgbc.predict_proba(X_test), average='weighted', multi_class='ovr'):.4f}\")"
      ],
      "metadata": {
        "id": "fbf4gE8HrOWC"
      },
      "execution_count": null,
      "outputs": []
    },
    {
      "cell_type": "code",
      "source": [
        "y_pred_proba = grid_search_xgb.predict_proba(X_test)\n",
        "y_pred = grid_search_xgb.predict(X_test)\n",
        "y_pred_encoded = l_enc.transform(y_pred)\n",
        "y_dev_pred = grid_search_xgb.predict(X_dev)\n",
        "y_dev_pred_encoded = l_enc.transform(y_dev_pred)\n",
        "\n",
        "# Accuracy\n",
        "accuracy_training = accuracy_score(y_dev_encoded, y_dev_pred_encoded)\n",
        "accuracy_testing = accuracy_score(y_test_encoded, y_pred_encoded)\n",
        "\n",
        "# Precision, Recall, F1-score\n",
        "precision = precision_score(y_test_encoded, y_pred_encoded, average='weighted')\n",
        "recall = recall_score(y_test_encoded, y_pred_encoded, average='weighted')\n",
        "f1 = f1_score(y_test_encoded, y_pred_encoded, average='weighted')\n",
        "\n",
        "# ROC-AUC Score\n",
        "roc_auc = roc_auc_score(y_test_encoded, grid_search_xgb.predict_proba(X_test), average='weighted', multi_class='ovr')\n",
        "\n",
        "# Average Precision (AP)\n",
        "from sklearn.preprocessing import label_binarize\n",
        "y_test_encoded_bin = label_binarize(y_test_encoded, classes=[0, 1, 2, 3])\n",
        "average_precision = average_precision_score(y_test_encoded_bin, grid_search_xgb.predict_proba(X_test), average='weighted')\n",
        "\n",
        "results_df.loc[1, 'Training accuracy'] = accuracy_training\n",
        "results_df.loc[1, 'Testing accuracy'] = accuracy_testing\n",
        "results_df.loc[1, 'Precision'] = precision\n",
        "results_df.loc[1, 'Recall'] = recall\n",
        "results_df.loc[1, 'F1_score'] = f1\n",
        "results_df.loc[1, 'AUC'] = roc_auc\n",
        "results_df.loc[1, 'AP'] = average_precision\n",
        "\n",
        "# Display the updated DataFrame\n",
        "results_df"
      ],
      "metadata": {
        "id": "1j5gNDMlkGoR"
      },
      "execution_count": null,
      "outputs": []
    },
    {
      "cell_type": "code",
      "source": [
        "import lightgbm as lgb\n",
        "from sklearn.model_selection import StratifiedKFold, GridSearchCV\n",
        "\n",
        "# Define the StratifiedKFold\n",
        "stratified_kfold = StratifiedKFold(n_splits=5, shuffle=True, random_state=84)\n",
        "\n",
        "# Hyperparameter tuning with GridSearchCV and StratifiedKFold\n",
        "param_grid = {\n",
        "    'learning_rate': [0.01, 0.1, 0.2],\n",
        "    'n_estimators': [50, 100, 200],\n",
        "    'max_depth': [3, 5, 7],\n",
        "    'subsample': [0.8, 1.0],\n",
        "    'colsample_bytree': [0.8, 1.0]\n",
        "}\n",
        "\n",
        "lgbm = lgb.LGBMClassifier(random_state=84)\n",
        "grid_search_lgbm = GridSearchCV(lgbm, param_grid, cv=stratified_kfold, scoring='accuracy')\n",
        "grid_search_lgbm.fit(X_dev, y_test_encoded)\n",
        "\n",
        "# Fit the model with the best parameters\n",
        "best_lgbm = grid_search_lgbm.best_estimator_\n",
        "best_lgbm.fit(X_dev, y_test_encoded)"
      ],
      "metadata": {
        "id": "OTCeJ3uHrBR6"
      },
      "execution_count": null,
      "outputs": []
    },
    {
      "cell_type": "code",
      "source": [
        "print(f\"The ROC-AUC score for this model is: {roc_auc_score(y_test_encoded, best_lgbm.predict_proba(X_test), average='weighted', multi_class='ovr'):.4f}\")"
      ],
      "metadata": {
        "id": "ZE-muasXrPLb"
      },
      "execution_count": null,
      "outputs": []
    },
    {
      "cell_type": "code",
      "source": [
        "print(grid_search_lgbm.best_params_)"
      ],
      "metadata": {
        "id": "iMZ0FWBWc75C"
      },
      "execution_count": null,
      "outputs": []
    },
    {
      "cell_type": "code",
      "source": [
        "y_pred_proba = grid_search_lgbm.predict_proba(X_test)\n",
        "y_pred = grid_search_lgbm.predict(X_test)\n",
        "y_pred_encoded = l_enc.transform(y_pred)\n",
        "y_dev_pred = grid_search_lgbm.predict(X_dev)\n",
        "y_dev_pred_encoded = l_enc.transform(y_dev_pred)\n",
        "\n",
        "# Accuracy\n",
        "accuracy_training = accuracy_score(y_dev_encoded, y_dev_pred_encoded)\n",
        "accuracy_testing = accuracy_score(y_test_encoded, y_pred_encoded)\n",
        "\n",
        "# Precision, Recall, F1-score\n",
        "precision = precision_score(y_test_encoded, y_pred_encoded, average='weighted')\n",
        "recall = recall_score(y_test_encoded, y_pred_encoded, average='weighted')\n",
        "f1 = f1_score(y_test_encoded, y_pred_encoded, average='weighted')\n",
        "\n",
        "# ROC-AUC Score\n",
        "roc_auc = roc_auc_score(y_test_encoded, grid_search_lgbm.predict_proba(X_test), average='weighted', multi_class='ovr')\n",
        "\n",
        "# Average Precision (AP)\n",
        "from sklearn.preprocessing import label_binarize\n",
        "y_test_encoded_bin = label_binarize(y_test_encoded, classes=[0, 1, 2, 3])\n",
        "average_precision = average_precision_score(y_test_encoded_bin, grid_search_lgbm.predict_proba(X_test), average='weighted')\n",
        "\n",
        "results_df.loc[2, 'Training accuracy'] = accuracy_training\n",
        "results_df.loc[2, 'Testing accuracy'] = accuracy_testing\n",
        "results_df.loc[2, 'Precision'] = precision\n",
        "results_df.loc[2, 'Recall'] = recall\n",
        "results_df.loc[2, 'F1_score'] = f1\n",
        "results_df.loc[2, 'AUC'] = roc_auc\n",
        "results_df.loc[2, 'AP'] = average_precision\n",
        "\n",
        "# Display the updated DataFrame\n",
        "results_df"
      ],
      "metadata": {
        "id": "DyI29KnskJ_Z"
      },
      "execution_count": null,
      "outputs": []
    },
    {
      "cell_type": "code",
      "source": [
        "from catboost import CatBoostClassifier\n",
        "from sklearn.model_selection import StratifiedKFold, GridSearchCV\n",
        "\n",
        "# Define the StratifiedKFold\n",
        "stratified_kfold = StratifiedKFold(n_splits=5, shuffle=True, random_state=84)\n",
        "\n",
        "# Hyperparameter tuning with GridSearchCV and StratifiedKFold\n",
        "param_grid = {\n",
        "    'learning_rate': [0.01, 0.1, 0.2],\n",
        "    'n_estimators': [50, 100, 200],\n",
        "    'max_depth': [3, 5, 7],\n",
        "    'subsample': [0.8, 1.0]\n",
        "}\n",
        "\n",
        "categorical_features = X_dev.columns.tolist()\n",
        "catboost = CatBoostClassifier(random_state=84, cat_features=categorical_features)\n",
        "\n",
        "grid_search_ct = GridSearchCV(catboost, param_grid, cv=stratified_kfold, scoring='accuracy')\n",
        "grid_search_ct.fit(X_dev, y_dev_encoded)\n",
        "\n",
        "# Fit the model with the best parameters\n",
        "best_catboost = grid_search_ct.best_estimator_\n",
        "best_catboost.fit(X_dev, y_dev_encoded)"
      ],
      "metadata": {
        "id": "IzbVD95SrDU6"
      },
      "execution_count": null,
      "outputs": []
    },
    {
      "cell_type": "code",
      "source": [
        "print(f\"The ROC-AUC score for this model is: {roc_auc_score(y_test_encoded, best_catboost.predict_proba(X_test), average='weighted', multi_class='ovr'):.4f}\")"
      ],
      "metadata": {
        "id": "R5dgBSTYrQJ7"
      },
      "execution_count": null,
      "outputs": []
    },
    {
      "cell_type": "code",
      "source": [
        "print(grid_search_ct.best_params_)"
      ],
      "metadata": {
        "id": "4lqyAObgdJAQ"
      },
      "execution_count": null,
      "outputs": []
    },
    {
      "cell_type": "code",
      "source": [
        "y_pred_proba = grid_search_ct.predict_proba(X_test)\n",
        "y_pred = grid_search_ct.predict(X_test)\n",
        "y_pred_encoded = l_enc.transform(y_pred)\n",
        "y_dev_pred = grid_search_ct.predict(X_dev)\n",
        "y_dev_pred_encoded = l_enc.transform(y_dev_pred)\n",
        "\n",
        "# Accuracy\n",
        "accuracy_training = accuracy_score(y_dev_encoded, y_dev_pred_encoded)\n",
        "accuracy_testing = accuracy_score(y_test_encoded, y_pred_encoded)\n",
        "\n",
        "# Precision, Recall, F1-score\n",
        "precision = precision_score(y_test_encoded, y_pred_encoded, average='weighted')\n",
        "recall = recall_score(y_test_encoded, y_pred_encoded, average='weighted')\n",
        "f1 = f1_score(y_test_encoded, y_pred_encoded, average='weighted')\n",
        "\n",
        "# ROC-AUC Score\n",
        "roc_auc = roc_auc_score(y_test_encoded, grid_search_ct.predict_proba(X_test), average='weighted', multi_class='ovr')\n",
        "\n",
        "# Average Precision (AP)\n",
        "from sklearn.preprocessing import label_binarize\n",
        "y_test_encoded_bin = label_binarize(y_test_encoded, classes=[0, 1, 2, 3])\n",
        "average_precision = average_precision_score(y_test_encoded_bin, grid_search_ct.predict_proba(X_test), average='weighted')\n",
        "\n",
        "results_df.loc[0, 'Training accuracy'] = accuracy_training\n",
        "results_df.loc[0, 'Testing accuracy'] = accuracy_testing\n",
        "results_df.loc[0, 'Precision'] = precision\n",
        "results_df.loc[0, 'Recall'] = recall\n",
        "results_df.loc[0, 'F1_score'] = f1\n",
        "results_df.loc[0, 'AUC'] = roc_auc\n",
        "results_df.loc[0, 'AP'] = average_precision\n",
        "\n",
        "# Display the updated DataFrame\n",
        "results_df"
      ],
      "metadata": {
        "id": "NewbecfokX7U"
      },
      "execution_count": null,
      "outputs": []
    }
  ],
  "metadata": {
    "kernelspec": {
      "display_name": "Python 3",
      "name": "python3"
    },
    "language_info": {
      "codemirror_mode": {
        "name": "ipython",
        "version": 3
      },
      "file_extension": ".py",
      "mimetype": "text/x-python",
      "name": "python",
      "nbconvert_exporter": "python",
      "pygments_lexer": "ipython3",
      "version": "3.11.4"
    },
    "colab": {
      "provenance": [],
      "machine_shape": "hm"
    },
    "accelerator": "TPU"
  },
  "nbformat": 4,
  "nbformat_minor": 0
}
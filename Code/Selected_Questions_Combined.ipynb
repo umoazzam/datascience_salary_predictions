{
 "cells": [
  {
   "cell_type": "code",
   "execution_count": 1,
   "metadata": {},
   "outputs": [],
   "source": [
    "import numpy as np\n",
    "import pandas as pd\n",
    "import seaborn as sns\n",
    "import matplotlib.pyplot as plt\n",
    "import random\n",
    "import math"
   ]
  },
  {
   "cell_type": "code",
   "execution_count": 2,
   "metadata": {},
   "outputs": [],
   "source": [
    "%matplotlib inline\n",
    "sns.set_theme()"
   ]
  },
  {
   "cell_type": "code",
   "execution_count": 3,
   "metadata": {},
   "outputs": [],
   "source": [
    "df = pd.read_csv(\"kaggle_survey_2020_responses.csv\")"
   ]
  },
  {
   "cell_type": "code",
   "execution_count": 4,
   "metadata": {},
   "outputs": [],
   "source": [
    "salary_data = df.drop(columns = [\"time_from_start_to_finish_seconds\"])"
   ]
  },
  {
   "cell_type": "code",
   "execution_count": 5,
   "metadata": {},
   "outputs": [],
   "source": [
    "salary_data_as_num = pd.DataFrame()"
   ]
  },
  {
   "cell_type": "code",
   "execution_count": 6,
   "metadata": {},
   "outputs": [],
   "source": [
    "def convert_to_category(col_name: str, order_rules: list, data):\n",
    "    data[col_name] = pd.Categorical(data[col_name], order_rules)"
   ]
  },
  {
   "cell_type": "code",
   "execution_count": 7,
   "metadata": {},
   "outputs": [],
   "source": [
    "def convert_to_category_no_specified_order(col_name, data):\n",
    "    if sum(data[col_name].isna().astype(int)) > 0:\n",
    "        data[col_name].fillna(\"No response\", inplace = True)\n",
    "    \n",
    "    order = list(set(data[col_name]))\n",
    "    convert_to_category(col_name, order, data)"
   ]
  },
  {
   "cell_type": "code",
   "execution_count": 8,
   "metadata": {},
   "outputs": [],
   "source": [
    "def convert_category_to_code(col_name: str, data, inplace = False):\n",
    "    if inplace:\n",
    "        data[col_name] = data[col_name].cat.codes + 1 # because NaN automatically becomes -1\n",
    "    else:\n",
    "        return data[col_name].cat.codes + 1"
   ]
  },
  {
   "cell_type": "code",
   "execution_count": 9,
   "metadata": {},
   "outputs": [],
   "source": [
    "def process_column(col_name: str, order_rules = None, data = salary_data, num_data = salary_data_as_num):\n",
    "    if order_rules:\n",
    "        convert_to_category(col_name, order_rules, data)\n",
    "    else:\n",
    "        convert_to_category_no_specified_order(col_name, data)\n",
    "    num_data[col_name] = convert_category_to_code(col_name, data)"
   ]
  },
  {
   "cell_type": "code",
   "execution_count": 10,
   "metadata": {},
   "outputs": [],
   "source": [
    "def one_hot_column_to_binary(col_name, data = salary_data):\n",
    "    data[col_name].fillna(0, inplace = True)\n",
    "    data[col_name].mask(data[col_name] != 0, 1, inplace = True)"
   ]
  },
  {
   "cell_type": "code",
   "execution_count": 11,
   "metadata": {},
   "outputs": [],
   "source": [
    "def process_one_hot_encoded_columns(columns, data = salary_data, num_data = salary_data_as_num):\n",
    "    for col in columns:\n",
    "        one_hot_column_to_binary(col, data)\n",
    "        num_data[col] = data[col]"
   ]
  },
  {
   "cell_type": "code",
   "execution_count": 12,
   "metadata": {},
   "outputs": [],
   "source": [
    "def column_text_to_binary(col_name, data = salary_data, num_data = salary_data_as_num):\n",
    "    data[col_name] = data[col_name].notna().astype(int)\n",
    "    num_data[col_name] = data[col_name]"
   ]
  },
  {
   "cell_type": "code",
   "execution_count": 13,
   "metadata": {},
   "outputs": [],
   "source": [
    "def combine_multiple_columns_into_one_binary(columns, new_col_name, data = salary_data, num_data = salary_data_as_num):\n",
    "    for col_name in columns:\n",
    "        one_hot_column_to_binary(col_name)\n",
    "        \n",
    "    data[new_col_name] = data[columns].sum(axis = 1)\n",
    "    data[new_col_name] = data[new_col_name].astype(int)\n",
    "    \n",
    "    data[new_col_name].mask(data[new_col_name] > 0, 1, inplace = True)\n",
    "    num_data[new_col_name] = data[new_col_name]"
   ]
  },
  {
   "cell_type": "markdown",
   "metadata": {},
   "source": [
    "## Q1 Age"
   ]
  },
  {
   "cell_type": "code",
   "execution_count": 14,
   "metadata": {},
   "outputs": [
    {
     "data": {
      "text/plain": [
       "25-29    4011\n",
       "22-24    3786\n",
       "18-21    3469\n",
       "30-34    2811\n",
       "35-39    1991\n",
       "40-44    1397\n",
       "45-49     988\n",
       "50-54     698\n",
       "55-59     411\n",
       "60-69     398\n",
       "70         76\n",
       "Name: q1, dtype: int64"
      ]
     },
     "execution_count": 14,
     "metadata": {},
     "output_type": "execute_result"
    }
   ],
   "source": [
    "salary_data[\"q1\"].value_counts()"
   ]
  },
  {
   "cell_type": "code",
   "execution_count": 15,
   "metadata": {},
   "outputs": [],
   "source": [
    "q1_order = [\n",
    "    \"18-21\",\n",
    "    \"22-24\",\n",
    "    \"25-29\",\n",
    "    \"30-34\",\n",
    "    \"35-39\",\n",
    "    \"40-44\",\n",
    "    \"45-49\",\n",
    "    \"50-54\",\n",
    "    \"55-59\",\n",
    "    \"60-69\",\n",
    "    \"70\"\n",
    "]"
   ]
  },
  {
   "cell_type": "code",
   "execution_count": 16,
   "metadata": {},
   "outputs": [],
   "source": [
    "convert_to_category(\"q1\", q1_order, salary_data)"
   ]
  },
  {
   "cell_type": "code",
   "execution_count": 17,
   "metadata": {},
   "outputs": [
    {
     "data": {
      "text/html": [
       "<div>\n",
       "<style scoped>\n",
       "    .dataframe tbody tr th:only-of-type {\n",
       "        vertical-align: middle;\n",
       "    }\n",
       "\n",
       "    .dataframe tbody tr th {\n",
       "        vertical-align: top;\n",
       "    }\n",
       "\n",
       "    .dataframe thead th {\n",
       "        text-align: right;\n",
       "    }\n",
       "</style>\n",
       "<table border=\"1\" class=\"dataframe\">\n",
       "  <thead>\n",
       "    <tr style=\"text-align: right;\">\n",
       "      <th></th>\n",
       "      <th>q1</th>\n",
       "    </tr>\n",
       "  </thead>\n",
       "  <tbody>\n",
       "    <tr>\n",
       "      <th>0</th>\n",
       "      <td>5</td>\n",
       "    </tr>\n",
       "    <tr>\n",
       "      <th>1</th>\n",
       "      <td>4</td>\n",
       "    </tr>\n",
       "    <tr>\n",
       "      <th>2</th>\n",
       "      <td>5</td>\n",
       "    </tr>\n",
       "    <tr>\n",
       "      <th>3</th>\n",
       "      <td>4</td>\n",
       "    </tr>\n",
       "    <tr>\n",
       "      <th>4</th>\n",
       "      <td>4</td>\n",
       "    </tr>\n",
       "    <tr>\n",
       "      <th>...</th>\n",
       "      <td>...</td>\n",
       "    </tr>\n",
       "    <tr>\n",
       "      <th>20031</th>\n",
       "      <td>1</td>\n",
       "    </tr>\n",
       "    <tr>\n",
       "      <th>20032</th>\n",
       "      <td>9</td>\n",
       "    </tr>\n",
       "    <tr>\n",
       "      <th>20033</th>\n",
       "      <td>4</td>\n",
       "    </tr>\n",
       "    <tr>\n",
       "      <th>20034</th>\n",
       "      <td>2</td>\n",
       "    </tr>\n",
       "    <tr>\n",
       "      <th>20035</th>\n",
       "      <td>2</td>\n",
       "    </tr>\n",
       "  </tbody>\n",
       "</table>\n",
       "<p>20036 rows × 1 columns</p>\n",
       "</div>"
      ],
      "text/plain": [
       "       q1\n",
       "0       5\n",
       "1       4\n",
       "2       5\n",
       "3       4\n",
       "4       4\n",
       "...    ..\n",
       "20031   1\n",
       "20032   9\n",
       "20033   4\n",
       "20034   2\n",
       "20035   2\n",
       "\n",
       "[20036 rows x 1 columns]"
      ]
     },
     "execution_count": 17,
     "metadata": {},
     "output_type": "execute_result"
    }
   ],
   "source": [
    "salary_data_as_num[\"q1\"] = convert_category_to_code(\"q1\", salary_data, False)\n",
    "salary_data_as_num"
   ]
  },
  {
   "cell_type": "code",
   "execution_count": 18,
   "metadata": {},
   "outputs": [
    {
     "data": {
      "text/plain": [
       "3     4011\n",
       "2     3786\n",
       "1     3469\n",
       "4     2811\n",
       "5     1991\n",
       "6     1397\n",
       "7      988\n",
       "8      698\n",
       "9      411\n",
       "10     398\n",
       "11      76\n",
       "Name: q1, dtype: int64"
      ]
     },
     "execution_count": 18,
     "metadata": {},
     "output_type": "execute_result"
    }
   ],
   "source": [
    "salary_data_as_num[\"q1\"].value_counts()"
   ]
  },
  {
   "cell_type": "markdown",
   "metadata": {},
   "source": [
    "## Q2 Gender"
   ]
  },
  {
   "cell_type": "code",
   "execution_count": 19,
   "metadata": {},
   "outputs": [
    {
     "data": {
      "text/plain": [
       "Man                        15789\n",
       "Woman                       3878\n",
       "Prefer not to say            263\n",
       "Prefer to self-describe       54\n",
       "Nonbinary                     52\n",
       "Name: q2, dtype: int64"
      ]
     },
     "execution_count": 19,
     "metadata": {},
     "output_type": "execute_result"
    }
   ],
   "source": [
    "salary_data[\"q2\"].value_counts()"
   ]
  },
  {
   "cell_type": "code",
   "execution_count": 20,
   "metadata": {},
   "outputs": [],
   "source": [
    "q2_order = ['Man', \"Woman\", \"Nonbinary\", 'Prefer to self-describe', 'Prefer not to say']"
   ]
  },
  {
   "cell_type": "code",
   "execution_count": 21,
   "metadata": {},
   "outputs": [],
   "source": [
    "convert_to_category(\"q2\", q2_order, salary_data)"
   ]
  },
  {
   "cell_type": "code",
   "execution_count": 22,
   "metadata": {},
   "outputs": [
    {
     "data": {
      "text/html": [
       "<div>\n",
       "<style scoped>\n",
       "    .dataframe tbody tr th:only-of-type {\n",
       "        vertical-align: middle;\n",
       "    }\n",
       "\n",
       "    .dataframe tbody tr th {\n",
       "        vertical-align: top;\n",
       "    }\n",
       "\n",
       "    .dataframe thead th {\n",
       "        text-align: right;\n",
       "    }\n",
       "</style>\n",
       "<table border=\"1\" class=\"dataframe\">\n",
       "  <thead>\n",
       "    <tr style=\"text-align: right;\">\n",
       "      <th></th>\n",
       "      <th>q1</th>\n",
       "      <th>q2</th>\n",
       "    </tr>\n",
       "  </thead>\n",
       "  <tbody>\n",
       "    <tr>\n",
       "      <th>0</th>\n",
       "      <td>5</td>\n",
       "      <td>1</td>\n",
       "    </tr>\n",
       "    <tr>\n",
       "      <th>1</th>\n",
       "      <td>4</td>\n",
       "      <td>1</td>\n",
       "    </tr>\n",
       "    <tr>\n",
       "      <th>2</th>\n",
       "      <td>5</td>\n",
       "      <td>1</td>\n",
       "    </tr>\n",
       "    <tr>\n",
       "      <th>3</th>\n",
       "      <td>4</td>\n",
       "      <td>1</td>\n",
       "    </tr>\n",
       "    <tr>\n",
       "      <th>4</th>\n",
       "      <td>4</td>\n",
       "      <td>1</td>\n",
       "    </tr>\n",
       "    <tr>\n",
       "      <th>...</th>\n",
       "      <td>...</td>\n",
       "      <td>...</td>\n",
       "    </tr>\n",
       "    <tr>\n",
       "      <th>20031</th>\n",
       "      <td>1</td>\n",
       "      <td>1</td>\n",
       "    </tr>\n",
       "    <tr>\n",
       "      <th>20032</th>\n",
       "      <td>9</td>\n",
       "      <td>2</td>\n",
       "    </tr>\n",
       "    <tr>\n",
       "      <th>20033</th>\n",
       "      <td>4</td>\n",
       "      <td>1</td>\n",
       "    </tr>\n",
       "    <tr>\n",
       "      <th>20034</th>\n",
       "      <td>2</td>\n",
       "      <td>1</td>\n",
       "    </tr>\n",
       "    <tr>\n",
       "      <th>20035</th>\n",
       "      <td>2</td>\n",
       "      <td>1</td>\n",
       "    </tr>\n",
       "  </tbody>\n",
       "</table>\n",
       "<p>20036 rows × 2 columns</p>\n",
       "</div>"
      ],
      "text/plain": [
       "       q1  q2\n",
       "0       5   1\n",
       "1       4   1\n",
       "2       5   1\n",
       "3       4   1\n",
       "4       4   1\n",
       "...    ..  ..\n",
       "20031   1   1\n",
       "20032   9   2\n",
       "20033   4   1\n",
       "20034   2   1\n",
       "20035   2   1\n",
       "\n",
       "[20036 rows x 2 columns]"
      ]
     },
     "execution_count": 22,
     "metadata": {},
     "output_type": "execute_result"
    }
   ],
   "source": [
    "salary_data_as_num[\"q2\"] = convert_category_to_code(\"q2\", salary_data, False)\n",
    "salary_data_as_num"
   ]
  },
  {
   "cell_type": "code",
   "execution_count": 23,
   "metadata": {},
   "outputs": [
    {
     "data": {
      "text/plain": [
       "1    15789\n",
       "2     3878\n",
       "5      263\n",
       "4       54\n",
       "3       52\n",
       "Name: q2, dtype: int64"
      ]
     },
     "execution_count": 23,
     "metadata": {},
     "output_type": "execute_result"
    }
   ],
   "source": [
    "salary_data_as_num[\"q2\"].value_counts()"
   ]
  },
  {
   "cell_type": "markdown",
   "metadata": {},
   "source": [
    "## Q3 Country"
   ]
  },
  {
   "cell_type": "code",
   "execution_count": 24,
   "metadata": {},
   "outputs": [],
   "source": [
    "convert_to_category_no_specified_order(\"q3\", salary_data)"
   ]
  },
  {
   "cell_type": "code",
   "execution_count": 25,
   "metadata": {},
   "outputs": [],
   "source": [
    "salary_data_as_num[\"q3\"] = convert_category_to_code(\"q3\", salary_data)"
   ]
  },
  {
   "cell_type": "markdown",
   "metadata": {},
   "source": [
    "## Q4 Education"
   ]
  },
  {
   "cell_type": "code",
   "execution_count": 26,
   "metadata": {},
   "outputs": [
    {
     "data": {
      "text/plain": [
       "Master’s degree                                                      7859\n",
       "Bachelor’s degree                                                    6978\n",
       "Doctoral degree                                                      2302\n",
       "Some college/university study without earning a bachelor’s degree    1092\n",
       "Professional degree                                                   699\n",
       "I prefer not to answer                                                399\n",
       "No formal education past high school                                  240\n",
       "Name: q4, dtype: int64"
      ]
     },
     "execution_count": 26,
     "metadata": {},
     "output_type": "execute_result"
    }
   ],
   "source": [
    "salary_data[\"q4\"].value_counts()"
   ]
  },
  {
   "cell_type": "code",
   "execution_count": 27,
   "metadata": {},
   "outputs": [],
   "source": [
    "q4_order = [\"No formal education past high school\",\n",
    "            \"Some college/university study without earning a bachelor’s degree\",\n",
    "            \"Professional degree\",\n",
    "            \"Bachelor’s degree\",\n",
    "            \"Master’s degree\",\n",
    "            \"Doctoral degree\",\n",
    "            \"I prefer not to answer\"\n",
    "            ]"
   ]
  },
  {
   "cell_type": "code",
   "execution_count": 28,
   "metadata": {},
   "outputs": [],
   "source": [
    "convert_to_category(\"q4\", q4_order, salary_data)"
   ]
  },
  {
   "cell_type": "code",
   "execution_count": 29,
   "metadata": {},
   "outputs": [],
   "source": [
    "salary_data_as_num[\"q4\"] = convert_category_to_code(\"q4\", salary_data)"
   ]
  },
  {
   "cell_type": "code",
   "execution_count": 30,
   "metadata": {},
   "outputs": [
    {
     "data": {
      "text/plain": [
       "5    7859\n",
       "4    6978\n",
       "6    2302\n",
       "2    1092\n",
       "3     699\n",
       "0     467\n",
       "7     399\n",
       "1     240\n",
       "Name: q4, dtype: int64"
      ]
     },
     "execution_count": 30,
     "metadata": {},
     "output_type": "execute_result"
    }
   ],
   "source": [
    "salary_data_as_num[\"q4\"].value_counts()"
   ]
  },
  {
   "cell_type": "markdown",
   "metadata": {},
   "source": [
    "## Q5 Job Title"
   ]
  },
  {
   "cell_type": "code",
   "execution_count": 31,
   "metadata": {},
   "outputs": [
    {
     "data": {
      "text/plain": [
       "Student                      5171\n",
       "Data Scientist               2676\n",
       "Software Engineer            1968\n",
       "Other                        1737\n",
       "Currently not employed       1652\n",
       "Data Analyst                 1475\n",
       "Research Scientist           1174\n",
       "Machine Learning Engineer    1082\n",
       "Business Analyst              798\n",
       "Product/Project Manager       692\n",
       "Data Engineer                 437\n",
       "Statistician                  290\n",
       "DBA/Database Engineer         125\n",
       "Name: q5, dtype: int64"
      ]
     },
     "execution_count": 31,
     "metadata": {},
     "output_type": "execute_result"
    }
   ],
   "source": [
    "salary_data[\"q5\"].value_counts()"
   ]
  },
  {
   "cell_type": "code",
   "execution_count": 32,
   "metadata": {},
   "outputs": [],
   "source": [
    "convert_to_category_no_specified_order(\"q5\", salary_data)"
   ]
  },
  {
   "cell_type": "code",
   "execution_count": 33,
   "metadata": {},
   "outputs": [],
   "source": [
    "salary_data_as_num[\"q5\"] = convert_category_to_code(\"q5\", salary_data)"
   ]
  },
  {
   "cell_type": "markdown",
   "metadata": {},
   "source": [
    "## Q6 Years Coding"
   ]
  },
  {
   "cell_type": "code",
   "execution_count": 34,
   "metadata": {},
   "outputs": [],
   "source": [
    "q6_order = [\n",
    " 'I have never written code',\n",
    " '< 1 years',\n",
    " '1-2 years',\n",
    " '3-5 years',\n",
    " '5-10 years',\n",
    " '10-20 years',\n",
    " '20+ years']"
   ]
  },
  {
   "cell_type": "code",
   "execution_count": 35,
   "metadata": {},
   "outputs": [],
   "source": [
    "process_column(\"q6\", q6_order)"
   ]
  },
  {
   "cell_type": "markdown",
   "metadata": {},
   "source": [
    "## Q7 Language"
   ]
  },
  {
   "cell_type": "code",
   "execution_count": 36,
   "metadata": {},
   "outputs": [],
   "source": [
    "q7_columns = [\n",
    "     'q7_part_1',\n",
    " 'q7_part_2',\n",
    " 'q7_part_3',\n",
    " 'q7_part_4',\n",
    " 'q7_part_5',\n",
    " 'q7_part_6',\n",
    " 'q7_part_7',\n",
    " 'q7_part_8',\n",
    " 'q7_part_9',\n",
    " 'q7_part_10',\n",
    " 'q7_part_11',\n",
    " 'q7_part_12',\n",
    " 'q7_other'\n",
    "]"
   ]
  },
  {
   "cell_type": "code",
   "execution_count": 37,
   "metadata": {},
   "outputs": [],
   "source": [
    "process_one_hot_encoded_columns(q7_columns)"
   ]
  },
  {
   "cell_type": "markdown",
   "metadata": {},
   "source": [
    "## Q11 Computing Platform"
   ]
  },
  {
   "cell_type": "code",
   "execution_count": 38,
   "metadata": {},
   "outputs": [],
   "source": [
    "process_column(\"q11\")"
   ]
  },
  {
   "cell_type": "markdown",
   "metadata": {},
   "source": [
    "## Q12 Specialized Hardware"
   ]
  },
  {
   "cell_type": "code",
   "execution_count": 39,
   "metadata": {},
   "outputs": [],
   "source": [
    "q12_columns = [\n",
    "    'q12_part_1',\n",
    " 'q12_part_2',\n",
    " 'q12_part_3',\n",
    " 'q12_other'\n",
    "]"
   ]
  },
  {
   "cell_type": "code",
   "execution_count": 40,
   "metadata": {},
   "outputs": [],
   "source": [
    "process_one_hot_encoded_columns(q12_columns)"
   ]
  },
  {
   "cell_type": "markdown",
   "metadata": {},
   "source": [
    "## Q14 Visualization"
   ]
  },
  {
   "cell_type": "code",
   "execution_count": 41,
   "metadata": {},
   "outputs": [],
   "source": [
    "q14_columns = [\n",
    "    'q14_part_1',\n",
    " 'q14_part_2',\n",
    " 'q14_part_3',\n",
    " 'q14_part_4',\n",
    " 'q14_part_5',\n",
    " 'q14_part_6',\n",
    " 'q14_part_7',\n",
    " 'q14_part_8',\n",
    " 'q14_part_9',\n",
    " 'q14_part_10',\n",
    " 'q14_part_11',\n",
    " 'q14_other'\n",
    "]"
   ]
  },
  {
   "cell_type": "code",
   "execution_count": 42,
   "metadata": {},
   "outputs": [],
   "source": [
    "process_one_hot_encoded_columns(q14_columns)"
   ]
  },
  {
   "cell_type": "markdown",
   "metadata": {},
   "source": [
    "## Q15 Years ML"
   ]
  },
  {
   "cell_type": "code",
   "execution_count": 43,
   "metadata": {},
   "outputs": [],
   "source": [
    "q15_order = [\n",
    "    'I do not use machine learning methods',\n",
    "    'Under 1 year',\n",
    "    '1-2 years',\n",
    "    '2-3 years',\n",
    "    '3-4 years',\n",
    "    '4-5 years',\n",
    "    '5-10 years',\n",
    "    '10-20 years',\n",
    "    '20 or more years'\n",
    "]"
   ]
  },
  {
   "cell_type": "code",
   "execution_count": 44,
   "metadata": {},
   "outputs": [],
   "source": [
    "process_column(\"q15\", q15_order)"
   ]
  },
  {
   "cell_type": "markdown",
   "metadata": {},
   "source": [
    "## Q17 ML Algorithms"
   ]
  },
  {
   "cell_type": "code",
   "execution_count": 45,
   "metadata": {},
   "outputs": [],
   "source": [
    "q17_columns = [\n",
    "    'q17_part_1',\n",
    " 'q17_part_2',\n",
    " 'q17_part_3',\n",
    " 'q17_part_4',\n",
    " 'q17_part_5',\n",
    " 'q17_part_6',\n",
    " 'q17_part_7',\n",
    " 'q17_part_8',\n",
    " 'q17_part_9',\n",
    " 'q17_part_10',\n",
    " 'q17_part_11',\n",
    " 'q17_other'\n",
    "]"
   ]
  },
  {
   "cell_type": "code",
   "execution_count": 46,
   "metadata": {},
   "outputs": [],
   "source": [
    "process_one_hot_encoded_columns(q17_columns)"
   ]
  },
  {
   "cell_type": "markdown",
   "metadata": {},
   "source": [
    "## Q20 Company Size"
   ]
  },
  {
   "cell_type": "code",
   "execution_count": 47,
   "metadata": {},
   "outputs": [],
   "source": [
    "q20_order = [\n",
    "    '0-49 employees',\n",
    "    '50-249 employees',\n",
    "    '250-999 employees',\n",
    "    '1000-9,999 employees',\n",
    "    '10,000 or more employees'\n",
    "]"
   ]
  },
  {
   "cell_type": "code",
   "execution_count": 48,
   "metadata": {},
   "outputs": [],
   "source": [
    "process_column(\"q20\", q20_order)"
   ]
  },
  {
   "cell_type": "markdown",
   "metadata": {},
   "source": [
    "## Q21 Datascience Workloads"
   ]
  },
  {
   "cell_type": "code",
   "execution_count": 49,
   "metadata": {},
   "outputs": [],
   "source": [
    "q21_order = [\n",
    "    '0',\n",
    "    '1-2',\n",
    "    '3-4',\n",
    "    '5-9',\n",
    "    '10-14',\n",
    "    '15-19',\n",
    "    '20'\n",
    "]"
   ]
  },
  {
   "cell_type": "code",
   "execution_count": 50,
   "metadata": {},
   "outputs": [],
   "source": [
    "process_column(\"q21\", q21_order)"
   ]
  },
  {
   "cell_type": "markdown",
   "metadata": {},
   "source": [
    "## Q22 Incorporating ML"
   ]
  },
  {
   "cell_type": "markdown",
   "metadata": {},
   "source": [
    "i'm not super sure about the proper \"order\" for this question. Feel free to change this if you find it more appropriate. Just please let the chat know in case it affects others' encoding."
   ]
  },
  {
   "cell_type": "code",
   "execution_count": 51,
   "metadata": {},
   "outputs": [],
   "source": [
    "q22_order = [\n",
    "    'I do not know',\n",
    "    'No (we do not use ML methods)',\n",
    "    'We are exploring ML methods (and may one day put a model into production)',\n",
    "    'We use ML methods for generating insights (but do not put working models into production)',\n",
    "    'We recently started using ML methods (i.e., models in production for less than 2 years)',\n",
    "    'We have well established ML methods (i.e., models in production for more than 2 years)'\n",
    "]"
   ]
  },
  {
   "cell_type": "code",
   "execution_count": 52,
   "metadata": {},
   "outputs": [],
   "source": [
    "process_column(\"q22\", q22_order)"
   ]
  },
  {
   "cell_type": "markdown",
   "metadata": {},
   "source": [
    "## Q30 Big Data Products"
   ]
  },
  {
   "cell_type": "code",
   "execution_count": 53,
   "metadata": {},
   "outputs": [],
   "source": [
    "column_text_to_binary(\"q30\")"
   ]
  },
  {
   "cell_type": "markdown",
   "metadata": {},
   "source": [
    "## Q32 Business Intelligence Tools"
   ]
  },
  {
   "cell_type": "code",
   "execution_count": 54,
   "metadata": {},
   "outputs": [],
   "source": [
    "column_text_to_binary(\"q32\")"
   ]
  },
  {
   "cell_type": "markdown",
   "metadata": {},
   "source": [
    "## Q33 Automated ML Tools"
   ]
  },
  {
   "cell_type": "code",
   "execution_count": 55,
   "metadata": {},
   "outputs": [],
   "source": [
    "q33_columns = [\n",
    "    'q33_a_part_1',\n",
    " 'q33_a_part_2',\n",
    " 'q33_a_part_3',\n",
    " 'q33_a_part_4',\n",
    " 'q33_a_part_5',\n",
    " 'q33_a_part_6',\n",
    " 'q33_a_part_7',\n",
    " 'q33_a_other'\n",
    "]"
   ]
  },
  {
   "cell_type": "code",
   "execution_count": 56,
   "metadata": {},
   "outputs": [],
   "source": [
    "combine_multiple_columns_into_one_binary(q33_columns, \"q33\")"
   ]
  },
  {
   "cell_type": "markdown",
   "metadata": {},
   "source": [
    "## Q37 Data Science Courses"
   ]
  },
  {
   "cell_type": "code",
   "execution_count": 57,
   "metadata": {},
   "outputs": [],
   "source": [
    "q37_columns = [\n",
    "    'q37_part_1',\n",
    " 'q37_part_2',\n",
    " 'q37_part_3',\n",
    " 'q37_part_4',\n",
    " 'q37_part_5',\n",
    " 'q37_part_6',\n",
    " 'q37_part_7',\n",
    " 'q37_part_8',\n",
    " 'q37_part_9',\n",
    " 'q37_part_10',\n",
    " 'q37_part_11',\n",
    " 'q37_other'\n",
    "]"
   ]
  },
  {
   "cell_type": "code",
   "execution_count": 58,
   "metadata": {},
   "outputs": [],
   "source": [
    "process_one_hot_encoded_columns(q37_columns)"
   ]
  },
  {
   "cell_type": "markdown",
   "metadata": {},
   "source": [
    "## Q38 Primary Data Analysis Tool"
   ]
  },
  {
   "cell_type": "code",
   "execution_count": 59,
   "metadata": {},
   "outputs": [],
   "source": [
    "process_column(\"q38\")"
   ]
  },
  {
   "cell_type": "markdown",
   "metadata": {},
   "source": [
    "## Q39 Media Sources"
   ]
  },
  {
   "cell_type": "code",
   "execution_count": 60,
   "metadata": {},
   "outputs": [],
   "source": [
    "q39_columns = [\n",
    "    'q39_part_1',\n",
    " 'q39_part_2',\n",
    " 'q39_part_3',\n",
    " 'q39_part_4',\n",
    " 'q39_part_5',\n",
    " 'q39_part_6',\n",
    " 'q39_part_7',\n",
    " 'q39_part_8',\n",
    " 'q39_part_9',\n",
    " 'q39_part_10',\n",
    " 'q39_part_11',\n",
    " 'q39_other'\n",
    "]"
   ]
  },
  {
   "cell_type": "code",
   "execution_count": 61,
   "metadata": {},
   "outputs": [],
   "source": [
    "process_one_hot_encoded_columns(q39_columns)"
   ]
  },
  {
   "cell_type": "markdown",
   "metadata": {},
   "source": [
    "## Dropped Columns"
   ]
  },
  {
   "cell_type": "code",
   "execution_count": 62,
   "metadata": {},
   "outputs": [],
   "source": [
    "one_hot_dropped = [\n",
    "    'q33_a_part_1',\n",
    " 'q33_a_part_2',\n",
    " 'q33_a_part_3',\n",
    " 'q33_a_part_4',\n",
    " 'q33_a_part_5',\n",
    " 'q33_a_part_6',\n",
    " 'q33_a_part_7',\n",
    " 'q33_a_other',\n",
    "]"
   ]
  },
  {
   "cell_type": "code",
   "execution_count": 63,
   "metadata": {},
   "outputs": [],
   "source": [
    "dropped_questions = [\n",
    "    \"q8\",\n",
    "    'q9_part_1',\n",
    " 'q9_part_2',\n",
    " 'q9_part_3',\n",
    " 'q9_part_4',\n",
    " 'q9_part_5',\n",
    " 'q9_part_6',\n",
    " 'q9_part_7',\n",
    " 'q9_part_8',\n",
    " 'q9_part_9',\n",
    " 'q9_part_10',\n",
    " 'q9_part_11',\n",
    " 'q9_other',\n",
    " 'q10_part_1',\n",
    " 'q10_part_2',\n",
    " 'q10_part_3',\n",
    " 'q10_part_4',\n",
    " 'q10_part_5',\n",
    " 'q10_part_6',\n",
    " 'q10_part_7',\n",
    " 'q10_part_8',\n",
    " 'q10_part_9',\n",
    " 'q10_part_10',\n",
    " 'q10_part_11',\n",
    " 'q10_part_12',\n",
    " 'q10_part_13',\n",
    " 'q10_other',\n",
    " \"q13\",\n",
    " 'q16_part_1',\n",
    " 'q16_part_2',\n",
    " 'q16_part_3',\n",
    " 'q16_part_4',\n",
    " 'q16_part_5',\n",
    " 'q16_part_6',\n",
    " 'q16_part_7',\n",
    " 'q16_part_8',\n",
    " 'q16_part_9',\n",
    " 'q16_part_10',\n",
    " 'q16_part_11',\n",
    " 'q16_part_12',\n",
    " 'q16_part_13',\n",
    " 'q16_part_14',\n",
    " 'q16_part_15',\n",
    " 'q16_other',\n",
    " 'q18_part_1',\n",
    " 'q18_part_2',\n",
    " 'q18_part_3',\n",
    " 'q18_part_4',\n",
    " 'q18_part_5',\n",
    " 'q18_part_6',\n",
    " 'q18_other',\n",
    " 'q19_part_1',\n",
    " 'q19_part_2',\n",
    " 'q19_part_3',\n",
    " 'q19_part_4',\n",
    " 'q19_part_5',\n",
    " 'q19_other',\n",
    " 'q23_part_1',\n",
    " 'q23_part_2',\n",
    " 'q23_part_3',\n",
    " 'q23_part_4',\n",
    " 'q23_part_5',\n",
    " 'q23_part_6',\n",
    " 'q23_part_7',\n",
    " 'q23_other',\n",
    " 'q24',\n",
    " 'q25',\n",
    " 'q26_a_part_1',\n",
    " 'q26_a_part_2',\n",
    " 'q26_a_part_3',\n",
    " 'q26_a_part_4',\n",
    " 'q26_a_part_5',\n",
    " 'q26_a_part_6',\n",
    " 'q26_a_part_7',\n",
    " 'q26_a_part_8',\n",
    " 'q26_a_part_9',\n",
    " 'q26_a_part_10',\n",
    " 'q26_a_part_11',\n",
    " 'q26_a_other',\n",
    " 'q27_a_part_1',\n",
    " 'q27_a_part_2',\n",
    " 'q27_a_part_3',\n",
    " 'q27_a_part_4',\n",
    " 'q27_a_part_5',\n",
    " 'q27_a_part_6',\n",
    " 'q27_a_part_7',\n",
    " 'q27_a_part_8',\n",
    " 'q27_a_part_9',\n",
    " 'q27_a_part_10',\n",
    " 'q27_a_part_11',\n",
    " 'q27_a_other',\n",
    " 'q28_a_part_1',\n",
    " 'q28_a_part_2',\n",
    " 'q28_a_part_3',\n",
    " 'q28_a_part_4',\n",
    " 'q28_a_part_5',\n",
    " 'q28_a_part_6',\n",
    " 'q28_a_part_7',\n",
    " 'q28_a_part_8',\n",
    " 'q28_a_part_9',\n",
    " 'q28_a_part_10',\n",
    " 'q28_a_other',\n",
    " 'q29_a_part_1',\n",
    " 'q29_a_part_2',\n",
    " 'q29_a_part_3',\n",
    " 'q29_a_part_4',\n",
    " 'q29_a_part_5',\n",
    " 'q29_a_part_6',\n",
    " 'q29_a_part_7',\n",
    " 'q29_a_part_8',\n",
    " 'q29_a_part_9',\n",
    " 'q29_a_part_10',\n",
    " 'q29_a_part_11',\n",
    " 'q29_a_part_12',\n",
    " 'q29_a_part_13',\n",
    " 'q29_a_part_14',\n",
    " 'q29_a_part_15',\n",
    " 'q29_a_part_16',\n",
    " 'q29_a_part_17',\n",
    " 'q29_a_other',\n",
    " 'q31_a_part_1',\n",
    " 'q31_a_part_2',\n",
    " 'q31_a_part_3',\n",
    " 'q31_a_part_4',\n",
    " 'q31_a_part_5',\n",
    " 'q31_a_part_6',\n",
    " 'q31_a_part_7',\n",
    " 'q31_a_part_8',\n",
    " 'q31_a_part_9',\n",
    " 'q31_a_part_10',\n",
    " 'q31_a_part_11',\n",
    " 'q31_a_part_12',\n",
    " 'q31_a_part_13',\n",
    " 'q31_a_part_14',\n",
    " 'q31_a_other',\n",
    " 'q34_a_part_1',\n",
    " 'q34_a_part_2',\n",
    " 'q34_a_part_3',\n",
    " 'q34_a_part_4',\n",
    " 'q34_a_part_5',\n",
    " 'q34_a_part_6',\n",
    " 'q34_a_part_7',\n",
    " 'q34_a_part_8',\n",
    " 'q34_a_part_9',\n",
    " 'q34_a_part_10',\n",
    " 'q34_a_part_11',\n",
    " 'q34_a_other',\n",
    " 'q35_a_part_1',\n",
    " 'q35_a_part_2',\n",
    " 'q35_a_part_3',\n",
    " 'q35_a_part_4',\n",
    " 'q35_a_part_5',\n",
    " 'q35_a_part_6',\n",
    " 'q35_a_part_7',\n",
    " 'q35_a_part_8',\n",
    " 'q35_a_part_9',\n",
    " 'q35_a_part_10',\n",
    " 'q35_a_other',\n",
    " 'q36_part_1',\n",
    " 'q36_part_2',\n",
    " 'q36_part_3',\n",
    " 'q36_part_4',\n",
    " 'q36_part_5',\n",
    " 'q36_part_6',\n",
    " 'q36_part_7',\n",
    " 'q36_part_8',\n",
    " 'q36_part_9',\n",
    " 'q36_other',\n",
    "]"
   ]
  },
  {
   "cell_type": "code",
   "execution_count": 64,
   "metadata": {},
   "outputs": [],
   "source": [
    "part_b_dropped = [\n",
    "    'q26_b_part_1',\n",
    " 'q26_b_part_2',\n",
    " 'q26_b_part_3',\n",
    " 'q26_b_part_4',\n",
    " 'q26_b_part_5',\n",
    " 'q26_b_part_6',\n",
    " 'q26_b_part_7',\n",
    " 'q26_b_part_8',\n",
    " 'q26_b_part_9',\n",
    " 'q26_b_part_10',\n",
    " 'q26_b_part_11',\n",
    " 'q26_b_other',\n",
    " 'q27_b_part_1',\n",
    " 'q27_b_part_2',\n",
    " 'q27_b_part_3',\n",
    " 'q27_b_part_4',\n",
    " 'q27_b_part_5',\n",
    " 'q27_b_part_6',\n",
    " 'q27_b_part_7',\n",
    " 'q27_b_part_8',\n",
    " 'q27_b_part_9',\n",
    " 'q27_b_part_10',\n",
    " 'q27_b_part_11',\n",
    " 'q27_b_other',\n",
    " 'q28_b_part_1',\n",
    " 'q28_b_part_2',\n",
    " 'q28_b_part_3',\n",
    " 'q28_b_part_4',\n",
    " 'q28_b_part_5',\n",
    " 'q28_b_part_6',\n",
    " 'q28_b_part_7',\n",
    " 'q28_b_part_8',\n",
    " 'q28_b_part_9',\n",
    " 'q28_b_part_10',\n",
    " 'q28_b_other',\n",
    " 'q29_b_part_1',\n",
    " 'q29_b_part_2',\n",
    " 'q29_b_part_3',\n",
    " 'q29_b_part_4',\n",
    " 'q29_b_part_5',\n",
    " 'q29_b_part_6',\n",
    " 'q29_b_part_7',\n",
    " 'q29_b_part_8',\n",
    " 'q29_b_part_9',\n",
    " 'q29_b_part_10',\n",
    " 'q29_b_part_11',\n",
    " 'q29_b_part_12',\n",
    " 'q29_b_part_13',\n",
    " 'q29_b_part_14',\n",
    " 'q29_b_part_15',\n",
    " 'q29_b_part_16',\n",
    " 'q29_b_part_17',\n",
    " 'q29_b_other',\n",
    " 'q31_b_part_1',\n",
    " 'q31_b_part_2',\n",
    " 'q31_b_part_3',\n",
    " 'q31_b_part_4',\n",
    " 'q31_b_part_5',\n",
    " 'q31_b_part_6',\n",
    " 'q31_b_part_7',\n",
    " 'q31_b_part_8',\n",
    " 'q31_b_part_9',\n",
    " 'q31_b_part_10',\n",
    " 'q31_b_part_11',\n",
    " 'q31_b_part_12',\n",
    " 'q31_b_part_13',\n",
    " 'q31_b_part_14',\n",
    " 'q31_b_other',\n",
    " 'q33_b_part_1',\n",
    " 'q33_b_part_2',\n",
    " 'q33_b_part_3',\n",
    " 'q33_b_part_4',\n",
    " 'q33_b_part_5',\n",
    " 'q33_b_part_6',\n",
    " 'q33_b_part_7',\n",
    " 'q33_b_other',\n",
    " 'q34_b_part_1',\n",
    " 'q34_b_part_2',\n",
    " 'q34_b_part_3',\n",
    " 'q34_b_part_4',\n",
    " 'q34_b_part_5',\n",
    " 'q34_b_part_6',\n",
    " 'q34_b_part_7',\n",
    " 'q34_b_part_8',\n",
    " 'q34_b_part_9',\n",
    " 'q34_b_part_10',\n",
    " 'q34_b_part_11',\n",
    " 'q34_b_other',\n",
    " 'q35_b_part_1',\n",
    " 'q35_b_part_2',\n",
    " 'q35_b_part_3',\n",
    " 'q35_b_part_4',\n",
    " 'q35_b_part_5',\n",
    " 'q35_b_part_6',\n",
    " 'q35_b_part_7',\n",
    " 'q35_b_part_8',\n",
    " 'q35_b_part_9',\n",
    " 'q35_b_part_10',\n",
    " 'q35_b_other'\n",
    "]"
   ]
  },
  {
   "cell_type": "code",
   "execution_count": 65,
   "metadata": {},
   "outputs": [],
   "source": [
    "salary_data = salary_data.drop(columns = one_hot_dropped)"
   ]
  },
  {
   "cell_type": "code",
   "execution_count": 66,
   "metadata": {},
   "outputs": [],
   "source": [
    "salary_data = salary_data.drop(columns = part_b_dropped)"
   ]
  },
  {
   "cell_type": "code",
   "execution_count": 67,
   "metadata": {},
   "outputs": [],
   "source": [
    "salary_data_selected_questions = salary_data.drop(columns = dropped_questions)"
   ]
  },
  {
   "cell_type": "code",
   "execution_count": 68,
   "metadata": {},
   "outputs": [],
   "source": [
    "def preprocessed_data():\n",
    "    return({\"selected_questions_dataframe\": salary_data_selected_questions,\n",
    "           \"all_questions_dataframe\": salary_data,\n",
    "           \"selected_numeric_questions\": salary_data_as_num})"
   ]
  }
 ],
 "metadata": {
  "kernelspec": {
   "display_name": "Python 3 (ipykernel)",
   "language": "python",
   "name": "python3"
  },
  "language_info": {
   "codemirror_mode": {
    "name": "ipython",
    "version": 3
   },
   "file_extension": ".py",
   "mimetype": "text/x-python",
   "name": "python",
   "nbconvert_exporter": "python",
   "pygments_lexer": "ipython3",
   "version": "3.11.4"
  }
 },
 "nbformat": 4,
 "nbformat_minor": 2
}
